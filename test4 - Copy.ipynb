{
 "cells": [
  {
   "cell_type": "code",
   "execution_count": null,
   "metadata": {},
   "outputs": [],
   "source": [
    "using JuMP"
   ]
  },
  {
   "cell_type": "code",
   "execution_count": null,
   "metadata": {},
   "outputs": [],
   "source": [
    "using Gurobi"
   ]
  },
  {
   "cell_type": "code",
   "execution_count": null,
   "metadata": {},
   "outputs": [],
   "source": [
    "using CSV"
   ]
  },
  {
   "cell_type": "code",
   "execution_count": null,
   "metadata": {},
   "outputs": [],
   "source": [
    "supply_nodes=Array{String,1}(undef,34559)"
   ]
  },
  {
   "cell_type": "code",
   "execution_count": null,
   "metadata": {},
   "outputs": [],
   "source": [
    "for x in 1:34559\n",
    "    supply_nodes[x]=string(\"i\",x)\n",
    "end"
   ]
  },
  {
   "cell_type": "code",
   "execution_count": null,
   "metadata": {},
   "outputs": [],
   "source": [
    "supply_nodes"
   ]
  },
  {
   "cell_type": "code",
   "execution_count": null,
   "metadata": {},
   "outputs": [],
   "source": [
    "s0= CSV.read(\"OrigindID.csv\",header=false)"
   ]
  },
  {
   "cell_type": "code",
   "execution_count": 64,
   "metadata": {},
   "outputs": [
    {
     "data": {
      "text/plain": [
       "34559×1 Array{Union{Missing, Int64},2}:\n",
       " 177\n",
       " 177\n",
       " 532\n",
       " 177\n",
       " 177\n",
       " 177\n",
       " 177\n",
       " 532\n",
       " 355\n",
       " 177\n",
       " 177\n",
       " 177\n",
       " 177\n",
       "   ⋮\n",
       " 703\n",
       " 175\n",
       " 175\n",
       " 175\n",
       " 175\n",
       " 175\n",
       " 351\n",
       " 879\n",
       " 175\n",
       " 175\n",
       " 350\n",
       " 174"
      ]
     },
     "execution_count": 64,
     "metadata": {},
     "output_type": "execute_result"
    }
   ],
   "source": [
    "s=convert(Matrix,s0)"
   ]
  },
  {
   "cell_type": "code",
   "execution_count": 66,
   "metadata": {},
   "outputs": [
    {
     "data": {
      "text/plain": [
       "Dict{Any,Any} with 0 entries"
      ]
     },
     "execution_count": 66,
     "metadata": {},
     "output_type": "execute_result"
    }
   ],
   "source": [
    "s_dict=Dict()"
   ]
  },
  {
   "cell_type": "code",
   "execution_count": 68,
   "metadata": {},
   "outputs": [],
   "source": [
    "for i in 1:length(supply_nodes)\n",
    "    s_dict[supply_nodes[i]]=s[i]\n",
    "end"
   ]
  },
  {
   "cell_type": "code",
   "execution_count": 70,
   "metadata": {},
   "outputs": [
    {
     "data": {
      "text/plain": [
       "141-element Array{String,1}:\n",
       " #undef\n",
       " #undef\n",
       " #undef\n",
       " #undef\n",
       " #undef\n",
       " #undef\n",
       " #undef\n",
       " #undef\n",
       " #undef\n",
       " #undef\n",
       " #undef\n",
       " #undef\n",
       " #undef\n",
       "   ⋮   \n",
       " #undef\n",
       " #undef\n",
       " #undef\n",
       " #undef\n",
       " #undef\n",
       " #undef\n",
       " #undef\n",
       " #undef\n",
       " #undef\n",
       " #undef\n",
       " #undef\n",
       " #undef"
      ]
     },
     "execution_count": 70,
     "metadata": {},
     "output_type": "execute_result"
    }
   ],
   "source": [
    "middle_nodes=Array{String,1}(undef,141)"
   ]
  },
  {
   "cell_type": "code",
   "execution_count": 72,
   "metadata": {},
   "outputs": [],
   "source": [
    "for j in 1:141\n",
    "    middle_nodes[j]=string(\"j\",j)\n",
    "end"
   ]
  },
  {
   "cell_type": "code",
   "execution_count": 74,
   "metadata": {},
   "outputs": [
    {
     "data": {
      "text/plain": [
       "141-element Array{String,1}:\n",
       " \"j1\"  \n",
       " \"j2\"  \n",
       " \"j3\"  \n",
       " \"j4\"  \n",
       " \"j5\"  \n",
       " \"j6\"  \n",
       " \"j7\"  \n",
       " \"j8\"  \n",
       " \"j9\"  \n",
       " \"j10\" \n",
       " \"j11\" \n",
       " \"j12\" \n",
       " \"j13\" \n",
       " ⋮     \n",
       " \"j130\"\n",
       " \"j131\"\n",
       " \"j132\"\n",
       " \"j133\"\n",
       " \"j134\"\n",
       " \"j135\"\n",
       " \"j136\"\n",
       " \"j137\"\n",
       " \"j138\"\n",
       " \"j139\"\n",
       " \"j140\"\n",
       " \"j141\""
      ]
     },
     "execution_count": 74,
     "metadata": {},
     "output_type": "execute_result"
    }
   ],
   "source": [
    "middle_nodes"
   ]
  },
  {
   "cell_type": "code",
   "execution_count": 76,
   "metadata": {},
   "outputs": [
    {
     "data": {
      "text/html": [
       "<table class=\"data-frame\"><thead><tr><th></th><th>Column1</th></tr><tr><th></th><th>Int64⍰</th></tr></thead><tbody><p>141 rows × 1 columns</p><tr><th>1</th><td>142772</td></tr><tr><th>2</th><td>142772</td></tr><tr><th>3</th><td>142772</td></tr><tr><th>4</th><td>428317</td></tr><tr><th>5</th><td>142772</td></tr><tr><th>6</th><td>142772</td></tr><tr><th>7</th><td>713862</td></tr><tr><th>8</th><td>142772</td></tr><tr><th>9</th><td>571090</td></tr><tr><th>10</th><td>428317</td></tr><tr><th>11</th><td>142772</td></tr><tr><th>12</th><td>571090</td></tr><tr><th>13</th><td>571090</td></tr><tr><th>14</th><td>142772</td></tr><tr><th>15</th><td>142772</td></tr><tr><th>16</th><td>142772</td></tr><tr><th>17</th><td>142772</td></tr><tr><th>18</th><td>142772</td></tr><tr><th>19</th><td>142772</td></tr><tr><th>20</th><td>285545</td></tr><tr><th>21</th><td>142772</td></tr><tr><th>22</th><td>285545</td></tr><tr><th>23</th><td>285545</td></tr><tr><th>24</th><td>142772</td></tr><tr><th>25</th><td>142772</td></tr><tr><th>26</th><td>285545</td></tr><tr><th>27</th><td>142772</td></tr><tr><th>28</th><td>142772</td></tr><tr><th>29</th><td>142772</td></tr><tr><th>30</th><td>142772</td></tr><tr><th>&vellip;</th><td>&vellip;</td></tr></tbody></table>"
      ],
      "text/latex": [
       "\\begin{tabular}{r|c}\n",
       "\t& Column1\\\\\n",
       "\t\\hline\n",
       "\t& Int64⍰\\\\\n",
       "\t\\hline\n",
       "\t1 & 142772 \\\\\n",
       "\t2 & 142772 \\\\\n",
       "\t3 & 142772 \\\\\n",
       "\t4 & 428317 \\\\\n",
       "\t5 & 142772 \\\\\n",
       "\t6 & 142772 \\\\\n",
       "\t7 & 713862 \\\\\n",
       "\t8 & 142772 \\\\\n",
       "\t9 & 571090 \\\\\n",
       "\t10 & 428317 \\\\\n",
       "\t11 & 142772 \\\\\n",
       "\t12 & 571090 \\\\\n",
       "\t13 & 571090 \\\\\n",
       "\t14 & 142772 \\\\\n",
       "\t15 & 142772 \\\\\n",
       "\t16 & 142772 \\\\\n",
       "\t17 & 142772 \\\\\n",
       "\t18 & 142772 \\\\\n",
       "\t19 & 142772 \\\\\n",
       "\t20 & 285545 \\\\\n",
       "\t21 & 142772 \\\\\n",
       "\t22 & 285545 \\\\\n",
       "\t23 & 285545 \\\\\n",
       "\t24 & 142772 \\\\\n",
       "\t25 & 142772 \\\\\n",
       "\t26 & 285545 \\\\\n",
       "\t27 & 142772 \\\\\n",
       "\t28 & 142772 \\\\\n",
       "\t29 & 142772 \\\\\n",
       "\t30 & 142772 \\\\\n",
       "\t$\\dots$ & $\\dots$ \\\\\n",
       "\\end{tabular}\n"
      ],
      "text/plain": [
       "141×1 DataFrames.DataFrame\n",
       "│ Row │ Column1 │\n",
       "│     │ \u001b[90mInt64⍰\u001b[39m  │\n",
       "├─────┼─────────┤\n",
       "│ 1   │ 142772  │\n",
       "│ 2   │ 142772  │\n",
       "│ 3   │ 142772  │\n",
       "│ 4   │ 428317  │\n",
       "│ 5   │ 142772  │\n",
       "│ 6   │ 142772  │\n",
       "│ 7   │ 713862  │\n",
       "│ 8   │ 142772  │\n",
       "│ 9   │ 571090  │\n",
       "│ 10  │ 428317  │\n",
       "⋮\n",
       "│ 131 │ 142772  │\n",
       "│ 132 │ 428317  │\n",
       "│ 133 │ 285545  │\n",
       "│ 134 │ 285545  │\n",
       "│ 135 │ 142772  │\n",
       "│ 136 │ 999407  │\n",
       "│ 137 │ 142772  │\n",
       "│ 138 │ 142772  │\n",
       "│ 139 │ 142772  │\n",
       "│ 140 │ 142772  │\n",
       "│ 141 │ 3712086 │"
      ]
     },
     "execution_count": 76,
     "metadata": {},
     "output_type": "execute_result"
    }
   ],
   "source": [
    "m0=CSV.read(\"collection_capacity.csv\",header=false)"
   ]
  },
  {
   "cell_type": "code",
   "execution_count": 78,
   "metadata": {},
   "outputs": [
    {
     "data": {
      "text/plain": [
       "141×1 Array{Union{Missing, Int64},2}:\n",
       "  142772\n",
       "  142772\n",
       "  142772\n",
       "  428317\n",
       "  142772\n",
       "  142772\n",
       "  713862\n",
       "  142772\n",
       "  571090\n",
       "  428317\n",
       "  142772\n",
       "  571090\n",
       "  571090\n",
       "       ⋮\n",
       "  571090\n",
       "  142772\n",
       "  428317\n",
       "  285545\n",
       "  285545\n",
       "  142772\n",
       "  999407\n",
       "  142772\n",
       "  142772\n",
       "  142772\n",
       "  142772\n",
       " 3712086"
      ]
     },
     "execution_count": 78,
     "metadata": {},
     "output_type": "execute_result"
    }
   ],
   "source": [
    "m=convert(Matrix,m0)"
   ]
  },
  {
   "cell_type": "code",
   "execution_count": 80,
   "metadata": {},
   "outputs": [
    {
     "data": {
      "text/plain": [
       "Dict{Any,Any} with 0 entries"
      ]
     },
     "execution_count": 80,
     "metadata": {},
     "output_type": "execute_result"
    }
   ],
   "source": [
    "m_dict=Dict()"
   ]
  },
  {
   "cell_type": "code",
   "execution_count": 82,
   "metadata": {},
   "outputs": [],
   "source": [
    "for j in 1:length(middle_nodes)\n",
    "    m_dict[middle_nodes[j]]=m[j]\n",
    "end"
   ]
  },
  {
   "cell_type": "code",
   "execution_count": 84,
   "metadata": {},
   "outputs": [
    {
     "data": {
      "text/html": [
       "<table class=\"data-frame\"><thead><tr><th></th><th>Column1</th><th>Column2</th><th>Column3</th><th>Column4</th><th>Column5</th><th>Column6</th><th>Column7</th><th>Column8</th><th>Column9</th><th>Column10</th><th>Column11</th><th>Column12</th><th>Column13</th><th>Column14</th><th>Column15</th><th>Column16</th><th>Column17</th><th>Column18</th><th>Column19</th><th>Column20</th><th>Column21</th><th>Column22</th><th>Column23</th><th>Column24</th><th>Column25</th><th>Column26</th><th>Column27</th><th>Column28</th><th>Column29</th><th>Column30</th><th>Column31</th><th>Column32</th><th>Column33</th><th>Column34</th><th>Column35</th><th>Column36</th><th>Column37</th><th>Column38</th><th>Column39</th><th>Column40</th><th>Column41</th><th>Column42</th><th>Column43</th><th>Column44</th><th>Column45</th><th>Column46</th><th>Column47</th><th>Column48</th><th>Column49</th><th>Column50</th><th>Column51</th><th>Column52</th><th>Column53</th><th>Column54</th><th>Column55</th><th>Column56</th><th>Column57</th><th>Column58</th><th>Column59</th><th>Column60</th><th>Column61</th><th>Column62</th><th>Column63</th><th>Column64</th><th>Column65</th><th>Column66</th><th>Column67</th><th>Column68</th><th>Column69</th><th>Column70</th><th>Column71</th><th>Column72</th><th>Column73</th><th>Column74</th><th>Column75</th><th>Column76</th><th>Column77</th><th>Column78</th><th>Column79</th><th>Column80</th><th>Column81</th><th>Column82</th><th>Column83</th><th>Column84</th><th>Column85</th><th>Column86</th><th>Column87</th><th>Column88</th><th>Column89</th><th>Column90</th><th>Column91</th><th>Column92</th><th>Column93</th><th>Column94</th><th>Column95</th><th>Column96</th><th>Column97</th><th>Column98</th><th>Column99</th><th>Column100</th><th>Column101</th><th>Column102</th><th>Column103</th><th>Column104</th><th>Column105</th><th>Column106</th><th>Column107</th><th>Column108</th><th>Column109</th><th>Column110</th><th>Column111</th><th>Column112</th><th>Column113</th><th>Column114</th><th>Column115</th><th>Column116</th><th>Column117</th><th>Column118</th><th>Column119</th><th>Column120</th><th>Column121</th><th>Column122</th><th>Column123</th><th>Column124</th><th>Column125</th><th>Column126</th><th>Column127</th><th>Column128</th><th>Column129</th><th>Column130</th><th>Column131</th><th>Column132</th><th>Column133</th><th>Column134</th><th>Column135</th><th>Column136</th><th>Column137</th><th>Column138</th><th>Column139</th><th>Column140</th><th>Column141</th></tr><tr><th></th><th>Int64⍰</th><th>Int64⍰</th><th>Int64⍰</th><th>Int64⍰</th><th>Int64⍰</th><th>Int64⍰</th><th>Int64⍰</th><th>Int64⍰</th><th>Int64⍰</th><th>Int64⍰</th><th>Int64⍰</th><th>Int64⍰</th><th>Int64⍰</th><th>Int64⍰</th><th>Int64⍰</th><th>Int64⍰</th><th>Int64⍰</th><th>Int64⍰</th><th>Int64⍰</th><th>Int64⍰</th><th>Int64⍰</th><th>Int64⍰</th><th>Int64⍰</th><th>Int64⍰</th><th>Int64⍰</th><th>Int64⍰</th><th>Int64⍰</th><th>Int64⍰</th><th>Int64⍰</th><th>Int64⍰</th><th>Int64⍰</th><th>Int64⍰</th><th>Int64⍰</th><th>Int64⍰</th><th>Int64⍰</th><th>Int64⍰</th><th>Int64⍰</th><th>Int64⍰</th><th>Int64⍰</th><th>Int64⍰</th><th>Int64⍰</th><th>Int64⍰</th><th>Int64⍰</th><th>Int64⍰</th><th>Int64⍰</th><th>Int64⍰</th><th>Int64⍰</th><th>Int64⍰</th><th>Int64⍰</th><th>Int64⍰</th><th>Int64⍰</th><th>Int64⍰</th><th>Int64⍰</th><th>Int64⍰</th><th>Int64⍰</th><th>Int64⍰</th><th>Int64⍰</th><th>Int64⍰</th><th>Int64⍰</th><th>Int64⍰</th><th>Int64⍰</th><th>Int64⍰</th><th>Int64⍰</th><th>Int64⍰</th><th>Int64⍰</th><th>Int64⍰</th><th>Int64⍰</th><th>Int64⍰</th><th>Int64⍰</th><th>Int64⍰</th><th>Int64⍰</th><th>Int64⍰</th><th>Int64⍰</th><th>Int64⍰</th><th>Int64⍰</th><th>Int64⍰</th><th>Int64⍰</th><th>Int64⍰</th><th>Int64⍰</th><th>Int64⍰</th><th>Int64⍰</th><th>Int64⍰</th><th>Int64⍰</th><th>Int64⍰</th><th>Int64⍰</th><th>Int64⍰</th><th>Int64⍰</th><th>Int64⍰</th><th>Int64⍰</th><th>Int64⍰</th><th>Int64⍰</th><th>Int64⍰</th><th>Int64⍰</th><th>Int64⍰</th><th>Int64⍰</th><th>Int64⍰</th><th>Int64⍰</th><th>Int64⍰</th><th>Int64⍰</th><th>Int64⍰</th><th>Int64⍰</th><th>Int64⍰</th><th>Int64⍰</th><th>Int64⍰</th><th>Int64⍰</th><th>Int64⍰</th><th>Int64⍰</th><th>Int64⍰</th><th>Int64⍰</th><th>Int64⍰</th><th>Int64⍰</th><th>Int64⍰</th><th>Int64⍰</th><th>Int64⍰</th><th>Int64⍰</th><th>Int64⍰</th><th>Int64⍰</th><th>Int64⍰</th><th>Int64⍰</th><th>Int64⍰</th><th>Int64⍰</th><th>Int64⍰</th><th>Int64⍰</th><th>Int64⍰</th><th>Int64⍰</th><th>Int64⍰</th><th>Int64⍰</th><th>Int64⍰</th><th>Int64⍰</th><th>Int64⍰</th><th>Int64⍰</th><th>Int64⍰</th><th>Int64⍰</th><th>Int64⍰</th><th>Int64⍰</th><th>Int64⍰</th><th>Int64⍰</th><th>Int64⍰</th><th>Int64⍰</th><th>Int64⍰</th><th>Int64⍰</th></tr></thead><tbody><p>34,559 rows × 141 columns</p><tr><th>1</th><td>39805</td><td>38809</td><td>70271</td><td>135805</td><td>132749</td><td>85670</td><td>141957</td><td>141096</td><td>89046</td><td>88516</td><td>104256</td><td>91143</td><td>143048</td><td>92099</td><td>144725</td><td>141549</td><td>92433</td><td>91756</td><td>142467</td><td>103672</td><td>93915</td><td>92308</td><td>145620</td><td>143534</td><td>103883</td><td>93886</td><td>146795</td><td>112963</td><td>111220</td><td>94024</td><td>152631</td><td>104148</td><td>94844</td><td>147721</td><td>107843</td><td>105489</td><td>95806</td><td>97225</td><td>146487</td><td>98158</td><td>96933</td><td>153650</td><td>165742</td><td>149796</td><td>113334</td><td>149353</td><td>146554</td><td>109321</td><td>108602</td><td>100417</td><td>163309</td><td>151683</td><td>157452</td><td>152443</td><td>116007</td><td>101277</td><td>122056</td><td>104091</td><td>161249</td><td>153143</td><td>109609</td><td>162960</td><td>154586</td><td>116624</td><td>122025</td><td>120112</td><td>112944</td><td>118439</td><td>112493</td><td>154071</td><td>118459</td><td>166748</td><td>159187</td><td>120323</td><td>168000</td><td>160830</td><td>120136</td><td>120547</td><td>120781</td><td>120309</td><td>176020</td><td>169640</td><td>122735</td><td>122712</td><td>177763</td><td>171835</td><td>168343</td><td>124237</td><td>123353</td><td>176859</td><td>178191</td><td>174386</td><td>179580</td><td>178621</td><td>181688</td><td>181870</td><td>183808</td><td>145589</td><td>179983</td><td>182973</td><td>175883</td><td>177143</td><td>169280</td><td>169348</td><td>172870</td><td>171353</td><td>190092</td><td>189545</td><td>171152</td><td>187605</td><td>175106</td><td>172484</td><td>185111</td><td>184466</td><td>190546</td><td>199471</td><td>193284</td><td>191174</td><td>177308</td><td>175797</td><td>202432</td><td>187646</td><td>176163</td><td>196299</td><td>189267</td><td>176244</td><td>194246</td><td>195057</td><td>193381</td><td>208697</td><td>210946</td><td>212400</td><td>214490</td><td>228340</td><td>230159</td><td>196819</td><td>200986</td><td>200503</td><td>201104</td><td>200234</td><td>199925</td></tr><tr><th>2</th><td>39908</td><td>38912</td><td>70375</td><td>135909</td><td>132853</td><td>85566</td><td>142061</td><td>141200</td><td>88942</td><td>88413</td><td>104360</td><td>91040</td><td>143152</td><td>91995</td><td>144829</td><td>141653</td><td>92329</td><td>91653</td><td>142571</td><td>103776</td><td>93811</td><td>92204</td><td>145724</td><td>143637</td><td>103986</td><td>93782</td><td>146898</td><td>113067</td><td>111324</td><td>93920</td><td>152735</td><td>104251</td><td>94740</td><td>147825</td><td>107946</td><td>105593</td><td>95702</td><td>97121</td><td>146591</td><td>98054</td><td>96829</td><td>153754</td><td>165846</td><td>149899</td><td>113437</td><td>149457</td><td>146657</td><td>109425</td><td>108706</td><td>100314</td><td>163412</td><td>151787</td><td>157556</td><td>152547</td><td>116110</td><td>101173</td><td>122159</td><td>103988</td><td>161352</td><td>153246</td><td>109713</td><td>163064</td><td>154689</td><td>116728</td><td>122128</td><td>120215</td><td>113047</td><td>118543</td><td>112596</td><td>154174</td><td>118562</td><td>166852</td><td>159291</td><td>120426</td><td>168104</td><td>160934</td><td>120240</td><td>120651</td><td>120884</td><td>120413</td><td>176124</td><td>169744</td><td>122839</td><td>122816</td><td>177866</td><td>171938</td><td>168447</td><td>124341</td><td>123457</td><td>176963</td><td>178295</td><td>174490</td><td>179683</td><td>178725</td><td>181792</td><td>181974</td><td>183911</td><td>145486</td><td>179879</td><td>182869</td><td>175780</td><td>177040</td><td>169176</td><td>169244</td><td>172767</td><td>171250</td><td>189989</td><td>189442</td><td>171048</td><td>187501</td><td>175002</td><td>172380</td><td>185007</td><td>184362</td><td>190442</td><td>199367</td><td>193180</td><td>191071</td><td>177205</td><td>175694</td><td>202328</td><td>187542</td><td>176060</td><td>196195</td><td>189163</td><td>176140</td><td>194142</td><td>194953</td><td>193277</td><td>208593</td><td>210842</td><td>212296</td><td>214386</td><td>228237</td><td>230056</td><td>196715</td><td>200883</td><td>200400</td><td>201001</td><td>200131</td><td>199821</td></tr><tr><th>3</th><td>41356</td><td>40361</td><td>67495</td><td>133029</td><td>129973</td><td>85429</td><td>139181</td><td>138320</td><td>88805</td><td>88275</td><td>101480</td><td>90902</td><td>140272</td><td>91858</td><td>141949</td><td>138773</td><td>92192</td><td>91515</td><td>139691</td><td>100896</td><td>93674</td><td>92067</td><td>142845</td><td>140758</td><td>101107</td><td>93645</td><td>144019</td><td>110187</td><td>108444</td><td>93783</td><td>149855</td><td>101372</td><td>94603</td><td>144945</td><td>105067</td><td>102713</td><td>95565</td><td>96984</td><td>143712</td><td>97917</td><td>96692</td><td>150874</td><td>162966</td><td>147020</td><td>110558</td><td>146578</td><td>143778</td><td>106545</td><td>105827</td><td>100176</td><td>160533</td><td>148907</td><td>154676</td><td>149667</td><td>113231</td><td>101036</td><td>119280</td><td>103850</td><td>158473</td><td>150367</td><td>106833</td><td>160184</td><td>151810</td><td>113848</td><td>119249</td><td>117336</td><td>110168</td><td>115663</td><td>109717</td><td>151295</td><td>115683</td><td>163972</td><td>156411</td><td>117547</td><td>165225</td><td>158054</td><td>117360</td><td>117771</td><td>118005</td><td>117533</td><td>173244</td><td>166865</td><td>119959</td><td>119936</td><td>174987</td><td>169059</td><td>165568</td><td>121462</td><td>120577</td><td>174084</td><td>175416</td><td>171610</td><td>176804</td><td>175845</td><td>178912</td><td>179094</td><td>181032</td><td>145348</td><td>179742</td><td>182732</td><td>175643</td><td>176902</td><td>169039</td><td>169107</td><td>172630</td><td>171112</td><td>189851</td><td>189304</td><td>170911</td><td>187364</td><td>174865</td><td>172243</td><td>184870</td><td>184225</td><td>190305</td><td>199230</td><td>193043</td><td>190933</td><td>177067</td><td>175556</td><td>202191</td><td>187405</td><td>175922</td><td>196058</td><td>189026</td><td>176003</td><td>194005</td><td>194816</td><td>193140</td><td>208456</td><td>210705</td><td>212159</td><td>214249</td><td>228099</td><td>229918</td><td>196578</td><td>200745</td><td>200263</td><td>200863</td><td>199993</td><td>199684</td></tr><tr><th>4</th><td>45735</td><td>44740</td><td>67823</td><td>133357</td><td>130301</td><td>90833</td><td>139509</td><td>138648</td><td>94209</td><td>93680</td><td>101808</td><td>96307</td><td>140600</td><td>97262</td><td>142277</td><td>139101</td><td>97596</td><td>96920</td><td>140019</td><td>101224</td><td>99078</td><td>97471</td><td>143172</td><td>141085</td><td>101434</td><td>99049</td><td>144347</td><td>110515</td><td>108772</td><td>99187</td><td>150183</td><td>101700</td><td>100007</td><td>145273</td><td>105395</td><td>103041</td><td>100969</td><td>102388</td><td>144039</td><td>103321</td><td>102096</td><td>151202</td><td>163294</td><td>147348</td><td>110886</td><td>146905</td><td>144106</td><td>106873</td><td>106154</td><td>105581</td><td>160861</td><td>149235</td><td>155004</td><td>149995</td><td>113558</td><td>106440</td><td>119607</td><td>109255</td><td>158801</td><td>150695</td><td>107161</td><td>160512</td><td>152137</td><td>114176</td><td>119576</td><td>117664</td><td>110496</td><td>115991</td><td>110045</td><td>151622</td><td>116011</td><td>164300</td><td>156739</td><td>117875</td><td>165552</td><td>158382</td><td>117688</td><td>118099</td><td>118332</td><td>117861</td><td>173572</td><td>167192</td><td>120287</td><td>120264</td><td>175315</td><td>169387</td><td>165895</td><td>121789</td><td>120905</td><td>174411</td><td>175743</td><td>171938</td><td>177132</td><td>176173</td><td>179240</td><td>179422</td><td>181360</td><td>150683</td><td>185146</td><td>188136</td><td>181047</td><td>182307</td><td>174443</td><td>174511</td><td>178034</td><td>176517</td><td>195256</td><td>194709</td><td>176315</td><td>192768</td><td>180269</td><td>177647</td><td>190274</td><td>189629</td><td>195709</td><td>204634</td><td>198447</td><td>196338</td><td>182472</td><td>180961</td><td>207595</td><td>192809</td><td>181327</td><td>201462</td><td>194430</td><td>181407</td><td>199409</td><td>200220</td><td>198544</td><td>213860</td><td>216109</td><td>217563</td><td>219653</td><td>233504</td><td>235323</td><td>201982</td><td>206150</td><td>205667</td><td>206268</td><td>205398</td><td>205088</td></tr><tr><th>5</th><td>44807</td><td>43811</td><td>66895</td><td>132428</td><td>129372</td><td>89905</td><td>138580</td><td>137720</td><td>93281</td><td>92751</td><td>100879</td><td>95378</td><td>139671</td><td>96334</td><td>141349</td><td>138172</td><td>96668</td><td>95991</td><td>139090</td><td>100295</td><td>98150</td><td>96543</td><td>142244</td><td>140157</td><td>100506</td><td>98120</td><td>143418</td><td>109586</td><td>107844</td><td>98259</td><td>149255</td><td>100771</td><td>99078</td><td>144344</td><td>104466</td><td>102112</td><td>100040</td><td>101460</td><td>143111</td><td>102393</td><td>101168</td><td>150274</td><td>162366</td><td>146419</td><td>109957</td><td>145977</td><td>143177</td><td>105945</td><td>105226</td><td>104652</td><td>159932</td><td>148307</td><td>154076</td><td>149067</td><td>112630</td><td>105512</td><td>118679</td><td>108326</td><td>157872</td><td>149766</td><td>106232</td><td>159583</td><td>151209</td><td>113247</td><td>118648</td><td>116735</td><td>109567</td><td>115062</td><td>109116</td><td>150694</td><td>115082</td><td>163372</td><td>155811</td><td>116946</td><td>164624</td><td>157454</td><td>116759</td><td>117170</td><td>117404</td><td>116932</td><td>172643</td><td>166264</td><td>119358</td><td>119336</td><td>174386</td><td>168458</td><td>164967</td><td>120861</td><td>119976</td><td>173483</td><td>174815</td><td>171010</td><td>176203</td><td>175244</td><td>178312</td><td>178494</td><td>180431</td><td>149754</td><td>184218</td><td>187208</td><td>180118</td><td>181378</td><td>173514</td><td>173583</td><td>177105</td><td>175588</td><td>194327</td><td>193780</td><td>175387</td><td>191840</td><td>179341</td><td>176718</td><td>189346</td><td>188701</td><td>194781</td><td>203706</td><td>197519</td><td>195409</td><td>181543</td><td>180032</td><td>206667</td><td>191881</td><td>180398</td><td>200534</td><td>193502</td><td>180479</td><td>198480</td><td>199292</td><td>197616</td><td>212932</td><td>215180</td><td>216635</td><td>218724</td><td>232575</td><td>234394</td><td>201054</td><td>205221</td><td>204738</td><td>205339</td><td>204469</td><td>204160</td></tr><tr><th>6</th><td>45523</td><td>44527</td><td>67610</td><td>133144</td><td>130088</td><td>90621</td><td>139296</td><td>138435</td><td>93996</td><td>93467</td><td>101595</td><td>96094</td><td>140387</td><td>97050</td><td>142064</td><td>138888</td><td>97383</td><td>96707</td><td>139806</td><td>101011</td><td>98866</td><td>97259</td><td>142960</td><td>140873</td><td>101222</td><td>98836</td><td>144134</td><td>110302</td><td>108559</td><td>98974</td><td>149970</td><td>101487</td><td>99794</td><td>145060</td><td>105182</td><td>102828</td><td>100756</td><td>102176</td><td>143827</td><td>103108</td><td>101884</td><td>150989</td><td>163082</td><td>147135</td><td>110673</td><td>146693</td><td>143893</td><td>106661</td><td>105942</td><td>105368</td><td>160648</td><td>149023</td><td>154792</td><td>149782</td><td>113346</td><td>106227</td><td>119395</td><td>109042</td><td>158588</td><td>150482</td><td>106948</td><td>160299</td><td>151925</td><td>113963</td><td>119364</td><td>117451</td><td>110283</td><td>115778</td><td>109832</td><td>151410</td><td>115798</td><td>164087</td><td>156527</td><td>117662</td><td>165340</td><td>158169</td><td>117475</td><td>117886</td><td>118120</td><td>117648</td><td>173359</td><td>166980</td><td>120074</td><td>120052</td><td>175102</td><td>169174</td><td>165683</td><td>121577</td><td>120692</td><td>174199</td><td>175531</td><td>171726</td><td>176919</td><td>175960</td><td>179028</td><td>179209</td><td>181147</td><td>150470</td><td>184934</td><td>187924</td><td>180834</td><td>182094</td><td>174230</td><td>174298</td><td>177821</td><td>176304</td><td>195043</td><td>194496</td><td>176103</td><td>192556</td><td>180056</td><td>177434</td><td>190062</td><td>189417</td><td>195496</td><td>204422</td><td>198235</td><td>196125</td><td>182259</td><td>180748</td><td>207383</td><td>192597</td><td>181114</td><td>201250</td><td>194218</td><td>181195</td><td>199196</td><td>200008</td><td>198332</td><td>213648</td><td>215896</td><td>217351</td><td>219440</td><td>233291</td><td>235110</td><td>201769</td><td>205937</td><td>205454</td><td>206055</td><td>205185</td><td>204876</td></tr><tr><th>7</th><td>46386</td><td>45390</td><td>63491</td><td>129025</td><td>125969</td><td>88829</td><td>135177</td><td>134316</td><td>92205</td><td>91675</td><td>97476</td><td>94302</td><td>136268</td><td>95258</td><td>137945</td><td>134769</td><td>95592</td><td>94915</td><td>135687</td><td>96892</td><td>97074</td><td>95467</td><td>138840</td><td>136754</td><td>97103</td><td>97045</td><td>140015</td><td>106183</td><td>104440</td><td>97183</td><td>145851</td><td>97368</td><td>98003</td><td>140941</td><td>101063</td><td>98709</td><td>98965</td><td>100384</td><td>139707</td><td>101317</td><td>100092</td><td>146870</td><td>158962</td><td>143016</td><td>106554</td><td>142573</td><td>139774</td><td>102541</td><td>101823</td><td>103577</td><td>156529</td><td>144903</td><td>150672</td><td>145663</td><td>109227</td><td>104436</td><td>115276</td><td>107250</td><td>154469</td><td>146363</td><td>102829</td><td>156180</td><td>147806</td><td>109844</td><td>115245</td><td>113332</td><td>106164</td><td>111659</td><td>105713</td><td>147291</td><td>111679</td><td>159968</td><td>152407</td><td>113543</td><td>161220</td><td>154050</td><td>113356</td><td>113767</td><td>114001</td><td>113529</td><td>169240</td><td>162861</td><td>115955</td><td>115932</td><td>170983</td><td>165055</td><td>161563</td><td>117457</td><td>116573</td><td>170080</td><td>171412</td><td>167606</td><td>172800</td><td>171841</td><td>174908</td><td>175090</td><td>177028</td><td>146351</td><td>183142</td><td>186132</td><td>179043</td><td>180302</td><td>172439</td><td>172507</td><td>176030</td><td>174512</td><td>193251</td><td>192704</td><td>174311</td><td>190764</td><td>176877</td><td>175643</td><td>188270</td><td>187625</td><td>193705</td><td>202630</td><td>196443</td><td>194334</td><td>180467</td><td>178957</td><td>205591</td><td>190805</td><td>179322</td><td>199458</td><td>192426</td><td>179403</td><td>197405</td><td>198216</td><td>196540</td><td>211856</td><td>214105</td><td>215559</td><td>217649</td><td>231499</td><td>233318</td><td>198103</td><td>202271</td><td>201788</td><td>202389</td><td>201519</td><td>201209</td></tr><tr><th>8</th><td>46730</td><td>45551</td><td>74180</td><td>139714</td><td>136658</td><td>84669</td><td>145866</td><td>145005</td><td>88045</td><td>87515</td><td>107418</td><td>90142</td><td>146957</td><td>91098</td><td>148634</td><td>145458</td><td>91432</td><td>90755</td><td>146376</td><td>106834</td><td>92914</td><td>91307</td><td>149529</td><td>147442</td><td>107045</td><td>92884</td><td>150703</td><td>116125</td><td>114382</td><td>93023</td><td>156540</td><td>107310</td><td>93842</td><td>151630</td><td>111005</td><td>108651</td><td>94804</td><td>96224</td><td>150396</td><td>97157</td><td>95932</td><td>157559</td><td>169651</td><td>153704</td><td>116496</td><td>153262</td><td>150462</td><td>112484</td><td>111765</td><td>99416</td><td>167217</td><td>155592</td><td>161361</td><td>156352</td><td>119169</td><td>100276</td><td>125218</td><td>103090</td><td>165157</td><td>157051</td><td>112771</td><td>166869</td><td>158494</td><td>119786</td><td>125187</td><td>123274</td><td>116106</td><td>121601</td><td>115655</td><td>157979</td><td>121621</td><td>170657</td><td>163096</td><td>123485</td><td>171909</td><td>164739</td><td>123298</td><td>123709</td><td>123943</td><td>123471</td><td>179929</td><td>173549</td><td>125897</td><td>125875</td><td>181672</td><td>175743</td><td>172252</td><td>127400</td><td>126515</td><td>180768</td><td>182100</td><td>178295</td><td>183489</td><td>182530</td><td>185597</td><td>185779</td><td>187716</td><td>144588</td><td>178982</td><td>181972</td><td>174882</td><td>176142</td><td>168278</td><td>168347</td><td>171869</td><td>170352</td><td>189091</td><td>188544</td><td>170151</td><td>186604</td><td>174105</td><td>171482</td><td>184110</td><td>183465</td><td>189545</td><td>198470</td><td>192283</td><td>190173</td><td>176307</td><td>174796</td><td>201431</td><td>186645</td><td>175162</td><td>195298</td><td>188266</td><td>175243</td><td>193244</td><td>194056</td><td>192380</td><td>207696</td><td>209944</td><td>211399</td><td>213488</td><td>227339</td><td>229158</td><td>195818</td><td>199985</td><td>199502</td><td>200103</td><td>199233</td><td>198924</td></tr><tr><th>9</th><td>46524</td><td>45528</td><td>61073</td><td>126606</td><td>123550</td><td>90922</td><td>132758</td><td>131897</td><td>94298</td><td>93769</td><td>95057</td><td>96395</td><td>133849</td><td>97351</td><td>135527</td><td>132350</td><td>97685</td><td>97008</td><td>133268</td><td>94473</td><td>99167</td><td>97560</td><td>136422</td><td>134335</td><td>94684</td><td>99138</td><td>137596</td><td>103764</td><td>102021</td><td>99276</td><td>143432</td><td>94949</td><td>100096</td><td>138522</td><td>98644</td><td>96290</td><td>101058</td><td>102477</td><td>137289</td><td>103410</td><td>102185</td><td>144452</td><td>156544</td><td>140597</td><td>104135</td><td>140155</td><td>137355</td><td>100123</td><td>99404</td><td>105670</td><td>154110</td><td>142485</td><td>148254</td><td>143245</td><td>106808</td><td>106529</td><td>112857</td><td>108574</td><td>152050</td><td>143944</td><td>100410</td><td>153761</td><td>145387</td><td>107425</td><td>112826</td><td>110913</td><td>103745</td><td>109240</td><td>103294</td><td>144872</td><td>109260</td><td>157550</td><td>149989</td><td>111124</td><td>158802</td><td>151631</td><td>110937</td><td>111348</td><td>111582</td><td>111110</td><td>166821</td><td>160442</td><td>113536</td><td>113514</td><td>168564</td><td>162636</td><td>159145</td><td>115039</td><td>114154</td><td>167661</td><td>168993</td><td>165188</td><td>170381</td><td>169422</td><td>172490</td><td>172671</td><td>174609</td><td>143932</td><td>185561</td><td>188551</td><td>181136</td><td>182395</td><td>170227</td><td>172345</td><td>173818</td><td>172301</td><td>195344</td><td>194798</td><td>175567</td><td>192857</td><td>174458</td><td>175481</td><td>190363</td><td>189718</td><td>195798</td><td>204723</td><td>198536</td><td>196427</td><td>178256</td><td>178736</td><td>207684</td><td>192898</td><td>179101</td><td>201551</td><td>194519</td><td>181496</td><td>199498</td><td>200309</td><td>198633</td><td>213949</td><td>216198</td><td>217652</td><td>219742</td><td>233592</td><td>235412</td><td>195684</td><td>199852</td><td>199369</td><td>199970</td><td>199100</td><td>198790</td></tr><tr><th>10</th><td>49444</td><td>48448</td><td>63319</td><td>128853</td><td>125797</td><td>89963</td><td>135005</td><td>134144</td><td>93338</td><td>92809</td><td>97304</td><td>95436</td><td>136096</td><td>96392</td><td>137773</td><td>134597</td><td>96726</td><td>96049</td><td>135515</td><td>96720</td><td>98208</td><td>96601</td><td>138668</td><td>136581</td><td>96930</td><td>98178</td><td>139843</td><td>106011</td><td>104268</td><td>98316</td><td>145679</td><td>97195</td><td>99136</td><td>140769</td><td>100891</td><td>98537</td><td>100098</td><td>101518</td><td>139535</td><td>102451</td><td>101226</td><td>146698</td><td>158790</td><td>142843</td><td>106382</td><td>142401</td><td>139602</td><td>102369</td><td>101650</td><td>104710</td><td>156357</td><td>144731</td><td>150500</td><td>145491</td><td>109054</td><td>105570</td><td>115103</td><td>108384</td><td>154297</td><td>146191</td><td>102657</td><td>156008</td><td>147633</td><td>109672</td><td>115072</td><td>113159</td><td>105992</td><td>111487</td><td>105541</td><td>147118</td><td>111506</td><td>159796</td><td>152235</td><td>113371</td><td>161048</td><td>153878</td><td>113184</td><td>113595</td><td>113828</td><td>113357</td><td>169068</td><td>162688</td><td>115783</td><td>115760</td><td>170811</td><td>164882</td><td>161391</td><td>117285</td><td>116401</td><td>169907</td><td>171239</td><td>167434</td><td>172628</td><td>171669</td><td>174736</td><td>174918</td><td>176856</td><td>146179</td><td>184276</td><td>187266</td><td>180176</td><td>181436</td><td>172474</td><td>173641</td><td>176065</td><td>174547</td><td>194385</td><td>193838</td><td>175445</td><td>191898</td><td>176705</td><td>176776</td><td>189404</td><td>188759</td><td>194838</td><td>203764</td><td>197577</td><td>195467</td><td>180502</td><td>180090</td><td>206725</td><td>191939</td><td>180456</td><td>200592</td><td>193560</td><td>180537</td><td>198538</td><td>199350</td><td>197674</td><td>212990</td><td>215238</td><td>216693</td><td>218782</td><td>232633</td><td>234452</td><td>197931</td><td>202099</td><td>201616</td><td>202216</td><td>201346</td><td>201037</td></tr><tr><th>11</th><td>49444</td><td>48448</td><td>63319</td><td>128853</td><td>125797</td><td>89963</td><td>135005</td><td>134144</td><td>93338</td><td>92809</td><td>97304</td><td>95436</td><td>136096</td><td>96392</td><td>137773</td><td>134597</td><td>96726</td><td>96049</td><td>135515</td><td>96720</td><td>98208</td><td>96601</td><td>138668</td><td>136581</td><td>96930</td><td>98178</td><td>139843</td><td>106011</td><td>104268</td><td>98316</td><td>145679</td><td>97195</td><td>99136</td><td>140769</td><td>100891</td><td>98537</td><td>100098</td><td>101518</td><td>139535</td><td>102451</td><td>101226</td><td>146698</td><td>158790</td><td>142843</td><td>106382</td><td>142401</td><td>139602</td><td>102369</td><td>101650</td><td>104710</td><td>156357</td><td>144731</td><td>150500</td><td>145491</td><td>109054</td><td>105570</td><td>115103</td><td>108384</td><td>154297</td><td>146191</td><td>102657</td><td>156008</td><td>147633</td><td>109672</td><td>115072</td><td>113159</td><td>105992</td><td>111487</td><td>105541</td><td>147118</td><td>111506</td><td>159796</td><td>152235</td><td>113371</td><td>161048</td><td>153878</td><td>113184</td><td>113595</td><td>113828</td><td>113357</td><td>169068</td><td>162688</td><td>115783</td><td>115760</td><td>170811</td><td>164882</td><td>161391</td><td>117285</td><td>116401</td><td>169907</td><td>171239</td><td>167434</td><td>172628</td><td>171669</td><td>174736</td><td>174918</td><td>176856</td><td>146179</td><td>184276</td><td>187266</td><td>180176</td><td>181436</td><td>172474</td><td>173641</td><td>176065</td><td>174547</td><td>194385</td><td>193838</td><td>175445</td><td>191898</td><td>176705</td><td>176776</td><td>189404</td><td>188759</td><td>194838</td><td>203764</td><td>197577</td><td>195467</td><td>180502</td><td>180090</td><td>206725</td><td>191939</td><td>180456</td><td>200592</td><td>193560</td><td>180537</td><td>198538</td><td>199350</td><td>197674</td><td>212990</td><td>215238</td><td>216693</td><td>218782</td><td>232633</td><td>234452</td><td>197931</td><td>202099</td><td>201616</td><td>202216</td><td>201346</td><td>201037</td></tr><tr><th>12</th><td>50248</td><td>49252</td><td>60803</td><td>126337</td><td>123281</td><td>90653</td><td>132489</td><td>131628</td><td>94028</td><td>93499</td><td>94788</td><td>96126</td><td>133580</td><td>97082</td><td>135257</td><td>132081</td><td>97416</td><td>96739</td><td>132999</td><td>94204</td><td>98898</td><td>97291</td><td>136152</td><td>134065</td><td>94414</td><td>98868</td><td>137327</td><td>103495</td><td>101752</td><td>99006</td><td>143163</td><td>94679</td><td>99826</td><td>138253</td><td>98375</td><td>96021</td><td>100788</td><td>102208</td><td>137019</td><td>103141</td><td>101916</td><td>144182</td><td>156274</td><td>140327</td><td>103865</td><td>139885</td><td>137086</td><td>99853</td><td>99134</td><td>105400</td><td>153840</td><td>142215</td><td>147984</td><td>142975</td><td>106538</td><td>106260</td><td>112587</td><td>108304</td><td>151780</td><td>143675</td><td>100141</td><td>153492</td><td>145117</td><td>107156</td><td>112556</td><td>110643</td><td>103476</td><td>108971</td><td>103025</td><td>144602</td><td>108990</td><td>157280</td><td>149719</td><td>110854</td><td>158532</td><td>151362</td><td>110668</td><td>111079</td><td>111312</td><td>110841</td><td>166552</td><td>160172</td><td>113267</td><td>113244</td><td>168295</td><td>162366</td><td>158875</td><td>114769</td><td>113885</td><td>167391</td><td>168723</td><td>164918</td><td>170112</td><td>169153</td><td>172220</td><td>172402</td><td>174340</td><td>143663</td><td>185425</td><td>188415</td><td>180866</td><td>182126</td><td>169958</td><td>172076</td><td>173548</td><td>172031</td><td>195075</td><td>194528</td><td>175297</td><td>192588</td><td>174189</td><td>175211</td><td>190094</td><td>189449</td><td>195528</td><td>204454</td><td>198267</td><td>196157</td><td>177986</td><td>178466</td><td>207415</td><td>192629</td><td>178832</td><td>201282</td><td>194250</td><td>181227</td><td>199228</td><td>200040</td><td>198364</td><td>213680</td><td>215928</td><td>217383</td><td>219472</td><td>233323</td><td>235142</td><td>195415</td><td>199582</td><td>199100</td><td>199700</td><td>198830</td><td>198521</td></tr><tr><th>13</th><td>50456</td><td>49460</td><td>61011</td><td>126545</td><td>123489</td><td>90861</td><td>132697</td><td>131836</td><td>94237</td><td>93707</td><td>94996</td><td>96334</td><td>133788</td><td>97290</td><td>135465</td><td>132289</td><td>97624</td><td>96947</td><td>133207</td><td>94412</td><td>99106</td><td>97499</td><td>136360</td><td>134273</td><td>94622</td><td>99077</td><td>137535</td><td>103703</td><td>101960</td><td>99215</td><td>143371</td><td>94887</td><td>100034</td><td>138461</td><td>98583</td><td>96229</td><td>100997</td><td>102416</td><td>137227</td><td>103349</td><td>102124</td><td>144390</td><td>156482</td><td>140535</td><td>104073</td><td>140093</td><td>137294</td><td>100061</td><td>99342</td><td>105608</td><td>154049</td><td>142423</td><td>148192</td><td>143183</td><td>106746</td><td>106468</td><td>112795</td><td>108512</td><td>151988</td><td>143883</td><td>100349</td><td>153700</td><td>145325</td><td>107364</td><td>112764</td><td>110851</td><td>103684</td><td>109179</td><td>103233</td><td>144810</td><td>109198</td><td>157488</td><td>149927</td><td>111063</td><td>158740</td><td>151570</td><td>110876</td><td>111287</td><td>111520</td><td>111049</td><td>166760</td><td>160380</td><td>113475</td><td>113452</td><td>168503</td><td>162574</td><td>159083</td><td>114977</td><td>114093</td><td>167599</td><td>168931</td><td>165126</td><td>170320</td><td>169361</td><td>172428</td><td>172610</td><td>174548</td><td>143871</td><td>185633</td><td>188624</td><td>181074</td><td>182334</td><td>170166</td><td>172284</td><td>173757</td><td>172239</td><td>195283</td><td>194736</td><td>175505</td><td>192796</td><td>174397</td><td>175420</td><td>190302</td><td>189657</td><td>195737</td><td>204662</td><td>198475</td><td>196365</td><td>178194</td><td>178674</td><td>207623</td><td>192837</td><td>179040</td><td>201490</td><td>194458</td><td>181435</td><td>199436</td><td>200248</td><td>198572</td><td>213888</td><td>216136</td><td>217591</td><td>219681</td><td>233531</td><td>235350</td><td>195623</td><td>199790</td><td>199308</td><td>199908</td><td>199038</td><td>198729</td></tr><tr><th>14</th><td>50041</td><td>48474</td><td>69731</td><td>135265</td><td>132209</td><td>85844</td><td>141417</td><td>140556</td><td>89220</td><td>88690</td><td>103716</td><td>91317</td><td>142508</td><td>92273</td><td>144185</td><td>141009</td><td>92607</td><td>91930</td><td>141927</td><td>103132</td><td>94089</td><td>92482</td><td>145080</td><td>142994</td><td>103343</td><td>94060</td><td>146255</td><td>112423</td><td>110680</td><td>94198</td><td>152091</td><td>103608</td><td>95018</td><td>147181</td><td>107303</td><td>104949</td><td>95980</td><td>97399</td><td>145947</td><td>98332</td><td>97107</td><td>153110</td><td>165202</td><td>149256</td><td>112794</td><td>148813</td><td>146014</td><td>108781</td><td>108063</td><td>100591</td><td>162769</td><td>151143</td><td>156912</td><td>151903</td><td>115467</td><td>101451</td><td>121516</td><td>104265</td><td>160709</td><td>152603</td><td>109069</td><td>162420</td><td>154046</td><td>116084</td><td>121485</td><td>119572</td><td>112404</td><td>117899</td><td>111953</td><td>153531</td><td>117919</td><td>166208</td><td>158647</td><td>119783</td><td>167460</td><td>160290</td><td>119596</td><td>120007</td><td>120241</td><td>119769</td><td>175480</td><td>169100</td><td>122195</td><td>122172</td><td>177223</td><td>171295</td><td>167803</td><td>123697</td><td>122813</td><td>176319</td><td>177652</td><td>173846</td><td>179040</td><td>178081</td><td>181148</td><td>181330</td><td>183268</td><td>145763</td><td>180157</td><td>183147</td><td>176057</td><td>177317</td><td>169454</td><td>169522</td><td>173044</td><td>171527</td><td>190266</td><td>189719</td><td>171326</td><td>187779</td><td>175280</td><td>172657</td><td>185285</td><td>184640</td><td>190720</td><td>199645</td><td>193458</td><td>191348</td><td>177482</td><td>175971</td><td>202606</td><td>187820</td><td>176337</td><td>196473</td><td>189441</td><td>176418</td><td>194419</td><td>195231</td><td>193555</td><td>208871</td><td>211119</td><td>212574</td><td>214664</td><td>228514</td><td>230333</td><td>196993</td><td>201160</td><td>200677</td><td>201278</td><td>200408</td><td>200099</td></tr><tr><th>15</th><td>45735</td><td>44740</td><td>67823</td><td>133357</td><td>130301</td><td>90833</td><td>139509</td><td>138648</td><td>94209</td><td>93680</td><td>101808</td><td>96307</td><td>140600</td><td>97262</td><td>142277</td><td>139101</td><td>97596</td><td>96920</td><td>140019</td><td>101224</td><td>99078</td><td>97471</td><td>143172</td><td>141085</td><td>101434</td><td>99049</td><td>144347</td><td>110515</td><td>108772</td><td>99187</td><td>150183</td><td>101700</td><td>100007</td><td>145273</td><td>105395</td><td>103041</td><td>100969</td><td>102388</td><td>144039</td><td>103321</td><td>102096</td><td>151202</td><td>163294</td><td>147348</td><td>110886</td><td>146905</td><td>144106</td><td>106873</td><td>106154</td><td>105581</td><td>160861</td><td>149235</td><td>155004</td><td>149995</td><td>113558</td><td>106440</td><td>119607</td><td>109255</td><td>158801</td><td>150695</td><td>107161</td><td>160512</td><td>152137</td><td>114176</td><td>119576</td><td>117664</td><td>110496</td><td>115991</td><td>110045</td><td>151622</td><td>116011</td><td>164300</td><td>156739</td><td>117875</td><td>165552</td><td>158382</td><td>117688</td><td>118099</td><td>118332</td><td>117861</td><td>173572</td><td>167192</td><td>120287</td><td>120264</td><td>175315</td><td>169387</td><td>165895</td><td>121789</td><td>120905</td><td>174411</td><td>175743</td><td>171938</td><td>177132</td><td>176173</td><td>179240</td><td>179422</td><td>181360</td><td>150683</td><td>185146</td><td>188136</td><td>181047</td><td>182307</td><td>174443</td><td>174511</td><td>178034</td><td>176517</td><td>195256</td><td>194709</td><td>176315</td><td>192768</td><td>180269</td><td>177647</td><td>190274</td><td>189629</td><td>195709</td><td>204634</td><td>198447</td><td>196338</td><td>182472</td><td>180961</td><td>207595</td><td>192809</td><td>181327</td><td>201462</td><td>194430</td><td>181407</td><td>199409</td><td>200220</td><td>198544</td><td>213860</td><td>216109</td><td>217563</td><td>219653</td><td>233504</td><td>235323</td><td>201982</td><td>206150</td><td>205667</td><td>206268</td><td>205398</td><td>205088</td></tr><tr><th>16</th><td>44843</td><td>43847</td><td>62754</td><td>128287</td><td>125231</td><td>90171</td><td>134439</td><td>133578</td><td>93547</td><td>93017</td><td>96738</td><td>95644</td><td>135530</td><td>96600</td><td>137208</td><td>134031</td><td>96934</td><td>96257</td><td>134949</td><td>96154</td><td>98416</td><td>96809</td><td>138103</td><td>136016</td><td>96365</td><td>98387</td><td>139277</td><td>105445</td><td>103702</td><td>98525</td><td>145113</td><td>96630</td><td>99345</td><td>140203</td><td>100325</td><td>97971</td><td>100307</td><td>101726</td><td>138970</td><td>102659</td><td>101434</td><td>146133</td><td>158225</td><td>142278</td><td>105816</td><td>141836</td><td>139036</td><td>101804</td><td>101085</td><td>104918</td><td>155791</td><td>144166</td><td>149935</td><td>144925</td><td>108489</td><td>105778</td><td>114538</td><td>108592</td><td>153731</td><td>145625</td><td>102091</td><td>155442</td><td>147068</td><td>109106</td><td>114507</td><td>112594</td><td>105426</td><td>110921</td><td>104975</td><td>146553</td><td>110941</td><td>159231</td><td>151670</td><td>112805</td><td>160483</td><td>153312</td><td>112618</td><td>113029</td><td>113263</td><td>112791</td><td>168502</td><td>162123</td><td>115217</td><td>115195</td><td>170245</td><td>164317</td><td>160826</td><td>116720</td><td>115835</td><td>169342</td><td>170674</td><td>166869</td><td>172062</td><td>171103</td><td>174171</td><td>174352</td><td>176290</td><td>145613</td><td>184484</td><td>187474</td><td>180384</td><td>181644</td><td>171908</td><td>173849</td><td>175499</td><td>173982</td><td>194593</td><td>194046</td><td>175653</td><td>192106</td><td>176139</td><td>176984</td><td>189612</td><td>188967</td><td>195047</td><td>203972</td><td>197785</td><td>195675</td><td>179937</td><td>180298</td><td>206933</td><td>192147</td><td>180664</td><td>200800</td><td>193768</td><td>180745</td><td>198746</td><td>199558</td><td>197882</td><td>213198</td><td>215446</td><td>216901</td><td>218991</td><td>232841</td><td>234660</td><td>197365</td><td>201533</td><td>201050</td><td>201651</td><td>200781</td><td>200471</td></tr><tr><th>17</th><td>45486</td><td>44490</td><td>62110</td><td>127644</td><td>124588</td><td>90210</td><td>133796</td><td>132935</td><td>93586</td><td>93057</td><td>96095</td><td>95683</td><td>134887</td><td>96639</td><td>136564</td><td>133388</td><td>96973</td><td>96296</td><td>134306</td><td>95511</td><td>98455</td><td>96848</td><td>137459</td><td>135372</td><td>95721</td><td>98426</td><td>138634</td><td>104802</td><td>103059</td><td>98564</td><td>144470</td><td>95987</td><td>99384</td><td>139560</td><td>99682</td><td>97328</td><td>100346</td><td>101765</td><td>138326</td><td>102698</td><td>101473</td><td>145489</td><td>157581</td><td>141635</td><td>105173</td><td>141192</td><td>138393</td><td>101160</td><td>100441</td><td>104958</td><td>155148</td><td>143522</td><td>149291</td><td>144282</td><td>107845</td><td>105817</td><td>113894</td><td>108632</td><td>153088</td><td>144982</td><td>101448</td><td>154799</td><td>146424</td><td>108463</td><td>113863</td><td>111951</td><td>104783</td><td>110278</td><td>104332</td><td>145909</td><td>110298</td><td>158587</td><td>151026</td><td>112162</td><td>159839</td><td>152669</td><td>111975</td><td>112386</td><td>112619</td><td>112148</td><td>167859</td><td>161479</td><td>114574</td><td>114551</td><td>169602</td><td>163674</td><td>160182</td><td>116076</td><td>115192</td><td>168698</td><td>170030</td><td>166225</td><td>171419</td><td>170460</td><td>173527</td><td>173709</td><td>175647</td><td>144970</td><td>184523</td><td>187513</td><td>180424</td><td>181683</td><td>171265</td><td>173383</td><td>174856</td><td>173338</td><td>194632</td><td>194086</td><td>175692</td><td>192145</td><td>175496</td><td>176519</td><td>189651</td><td>189006</td><td>195086</td><td>204011</td><td>197824</td><td>195715</td><td>179293</td><td>179773</td><td>206972</td><td>192186</td><td>180139</td><td>200839</td><td>193807</td><td>180784</td><td>198786</td><td>199597</td><td>197921</td><td>213237</td><td>215486</td><td>216940</td><td>219030</td><td>232880</td><td>234699</td><td>196722</td><td>200890</td><td>200407</td><td>201007</td><td>200137</td><td>199828</td></tr><tr><th>18</th><td>45417</td><td>44421</td><td>62523</td><td>128057</td><td>125001</td><td>89798</td><td>134209</td><td>133348</td><td>93173</td><td>92644</td><td>96508</td><td>95271</td><td>135300</td><td>96227</td><td>136977</td><td>133801</td><td>96560</td><td>95884</td><td>134719</td><td>95924</td><td>98043</td><td>96436</td><td>137872</td><td>135785</td><td>96134</td><td>98013</td><td>139046</td><td>105215</td><td>103472</td><td>98151</td><td>144883</td><td>96399</td><td>98971</td><td>139973</td><td>100094</td><td>97741</td><td>99933</td><td>101352</td><td>138739</td><td>102285</td><td>101061</td><td>145902</td><td>157994</td><td>142047</td><td>105585</td><td>141605</td><td>138805</td><td>101573</td><td>100854</td><td>104545</td><td>155560</td><td>143935</td><td>149704</td><td>144695</td><td>108258</td><td>105404</td><td>114307</td><td>108219</td><td>153500</td><td>145394</td><td>101861</td><td>155212</td><td>146837</td><td>108876</td><td>114276</td><td>112363</td><td>105195</td><td>110691</td><td>104744</td><td>146322</td><td>110710</td><td>159000</td><td>151439</td><td>112574</td><td>160252</td><td>153082</td><td>112388</td><td>112799</td><td>113032</td><td>112561</td><td>168272</td><td>161892</td><td>114987</td><td>114964</td><td>170014</td><td>164086</td><td>160595</td><td>116489</td><td>115605</td><td>169111</td><td>170443</td><td>166638</td><td>171831</td><td>170873</td><td>173940</td><td>174122</td><td>176059</td><td>145383</td><td>184110</td><td>187101</td><td>180011</td><td>181271</td><td>171677</td><td>173475</td><td>175268</td><td>173751</td><td>194220</td><td>193673</td><td>175280</td><td>191733</td><td>175909</td><td>176611</td><td>189239</td><td>188593</td><td>194673</td><td>203599</td><td>197411</td><td>195302</td><td>179706</td><td>179925</td><td>206560</td><td>191774</td><td>180291</td><td>200427</td><td>193395</td><td>180372</td><td>198373</td><td>199185</td><td>197509</td><td>212825</td><td>215073</td><td>216527</td><td>218617</td><td>232468</td><td>234287</td><td>197134</td><td>201302</td><td>200819</td><td>201420</td><td>200550</td><td>200241</td></tr><tr><th>19</th><td>46012</td><td>45016</td><td>63117</td><td>128651</td><td>125595</td><td>89203</td><td>134803</td><td>133942</td><td>92579</td><td>92050</td><td>97102</td><td>94676</td><td>135894</td><td>95632</td><td>137571</td><td>134395</td><td>95966</td><td>95289</td><td>135313</td><td>96518</td><td>97448</td><td>95841</td><td>138466</td><td>136379</td><td>96728</td><td>97419</td><td>139641</td><td>105809</td><td>104066</td><td>97557</td><td>145477</td><td>96994</td><td>98377</td><td>140567</td><td>100689</td><td>98335</td><td>99339</td><td>100758</td><td>139333</td><td>101691</td><td>100466</td><td>146496</td><td>158588</td><td>142642</td><td>106180</td><td>142199</td><td>139400</td><td>102167</td><td>101448</td><td>103951</td><td>156155</td><td>144529</td><td>150298</td><td>145289</td><td>108852</td><td>104810</td><td>114901</td><td>107625</td><td>154095</td><td>145989</td><td>102455</td><td>155806</td><td>147431</td><td>109470</td><td>114870</td><td>112958</td><td>105790</td><td>111285</td><td>105339</td><td>146916</td><td>111304</td><td>159594</td><td>152033</td><td>113169</td><td>160846</td><td>153676</td><td>112982</td><td>113393</td><td>113626</td><td>113155</td><td>168866</td><td>162486</td><td>115581</td><td>115558</td><td>170609</td><td>164680</td><td>161189</td><td>117083</td><td>116199</td><td>169705</td><td>171037</td><td>167232</td><td>172426</td><td>171467</td><td>174534</td><td>174716</td><td>176654</td><td>145977</td><td>183516</td><td>186506</td><td>179417</td><td>180676</td><td>172272</td><td>172881</td><td>175863</td><td>174345</td><td>193625</td><td>193079</td><td>174685</td><td>191138</td><td>176503</td><td>176017</td><td>188644</td><td>187999</td><td>194079</td><td>203004</td><td>196817</td><td>194708</td><td>180300</td><td>179331</td><td>205965</td><td>191179</td><td>179697</td><td>199832</td><td>192800</td><td>179777</td><td>197779</td><td>198590</td><td>196914</td><td>212230</td><td>214479</td><td>215933</td><td>218023</td><td>231873</td><td>233693</td><td>197729</td><td>201897</td><td>201414</td><td>202014</td><td>201144</td><td>200835</td></tr><tr><th>20</th><td>46776</td><td>45781</td><td>63882</td><td>129416</td><td>126360</td><td>88438</td><td>135568</td><td>134707</td><td>91814</td><td>91285</td><td>97867</td><td>93912</td><td>136659</td><td>94867</td><td>138336</td><td>135160</td><td>95201</td><td>94525</td><td>136078</td><td>97283</td><td>96683</td><td>95077</td><td>139231</td><td>137144</td><td>97493</td><td>96654</td><td>140406</td><td>106574</td><td>104831</td><td>96792</td><td>146242</td><td>97758</td><td>97612</td><td>141332</td><td>101454</td><td>99100</td><td>98574</td><td>99993</td><td>140098</td><td>100926</td><td>99701</td><td>147261</td><td>159353</td><td>143406</td><td>106944</td><td>142964</td><td>140165</td><td>102932</td><td>102213</td><td>103186</td><td>156920</td><td>145294</td><td>151063</td><td>146054</td><td>109617</td><td>104045</td><td>115666</td><td>106860</td><td>154859</td><td>146754</td><td>103220</td><td>156571</td><td>148196</td><td>110235</td><td>115635</td><td>113722</td><td>106555</td><td>112050</td><td>106104</td><td>147681</td><td>112069</td><td>160359</td><td>152798</td><td>113933</td><td>161611</td><td>154441</td><td>113747</td><td>114158</td><td>114391</td><td>113920</td><td>169631</td><td>163251</td><td>116346</td><td>116323</td><td>171374</td><td>165445</td><td>161954</td><td>117848</td><td>116964</td><td>170470</td><td>171802</td><td>167997</td><td>173191</td><td>172232</td><td>175299</td><td>175481</td><td>177419</td><td>146742</td><td>182751</td><td>185741</td><td>178652</td><td>179912</td><td>172048</td><td>172116</td><td>175639</td><td>174122</td><td>192861</td><td>192314</td><td>173920</td><td>190373</td><td>177268</td><td>175252</td><td>187879</td><td>187234</td><td>193314</td><td>202240</td><td>196052</td><td>193943</td><td>180077</td><td>178566</td><td>205201</td><td>190414</td><td>178932</td><td>199067</td><td>192035</td><td>179012</td><td>197014</td><td>197825</td><td>196149</td><td>211466</td><td>213714</td><td>215168</td><td>217258</td><td>231109</td><td>232928</td><td>198494</td><td>202661</td><td>202179</td><td>202779</td><td>201909</td><td>201600</td></tr><tr><th>21</th><td>47435</td><td>46439</td><td>64540</td><td>130074</td><td>127018</td><td>88123</td><td>136226</td><td>135365</td><td>91499</td><td>90970</td><td>98525</td><td>93596</td><td>137317</td><td>94552</td><td>138994</td><td>135818</td><td>94886</td><td>94209</td><td>136736</td><td>97941</td><td>96368</td><td>94761</td><td>139889</td><td>137803</td><td>98152</td><td>96339</td><td>141064</td><td>107232</td><td>105489</td><td>96477</td><td>146900</td><td>98417</td><td>97297</td><td>141990</td><td>102112</td><td>99758</td><td>98259</td><td>99678</td><td>140756</td><td>100611</td><td>99386</td><td>147919</td><td>160011</td><td>144065</td><td>107603</td><td>143622</td><td>140823</td><td>103590</td><td>102872</td><td>102871</td><td>157578</td><td>145952</td><td>151721</td><td>146712</td><td>110276</td><td>103730</td><td>116325</td><td>106545</td><td>155518</td><td>147412</td><td>103878</td><td>157229</td><td>148855</td><td>110893</td><td>116294</td><td>114381</td><td>107213</td><td>112708</td><td>106762</td><td>148340</td><td>112728</td><td>161017</td><td>153456</td><td>114592</td><td>162269</td><td>155099</td><td>114405</td><td>114816</td><td>115050</td><td>114578</td><td>170289</td><td>163910</td><td>117004</td><td>116981</td><td>172032</td><td>166104</td><td>162612</td><td>118506</td><td>117622</td><td>171129</td><td>172461</td><td>168655</td><td>173849</td><td>172890</td><td>175957</td><td>176139</td><td>178077</td><td>147400</td><td>182436</td><td>185426</td><td>178337</td><td>179596</td><td>171733</td><td>171801</td><td>175324</td><td>173806</td><td>192545</td><td>191999</td><td>173605</td><td>190058</td><td>177559</td><td>174937</td><td>187564</td><td>186919</td><td>192999</td><td>201924</td><td>195737</td><td>193628</td><td>179761</td><td>178251</td><td>204885</td><td>190099</td><td>178617</td><td>198752</td><td>191720</td><td>178697</td><td>196699</td><td>197510</td><td>195834</td><td>211150</td><td>213399</td><td>214853</td><td>216943</td><td>230793</td><td>232612</td><td>199152</td><td>203320</td><td>202837</td><td>203438</td><td>202568</td><td>202258</td></tr><tr><th>22</th><td>47574</td><td>46578</td><td>64679</td><td>130213</td><td>127157</td><td>87984</td><td>136365</td><td>135504</td><td>91360</td><td>90831</td><td>98664</td><td>93457</td><td>137456</td><td>94413</td><td>139133</td><td>135957</td><td>94747</td><td>94070</td><td>136875</td><td>98080</td><td>96229</td><td>94622</td><td>140028</td><td>137942</td><td>98291</td><td>96200</td><td>141203</td><td>107371</td><td>105628</td><td>96338</td><td>147039</td><td>98556</td><td>97158</td><td>142129</td><td>102251</td><td>99897</td><td>98120</td><td>99539</td><td>140895</td><td>100472</td><td>99247</td><td>148058</td><td>160150</td><td>144204</td><td>107742</td><td>143761</td><td>140962</td><td>103729</td><td>103011</td><td>102732</td><td>157717</td><td>146091</td><td>151860</td><td>146851</td><td>110415</td><td>103591</td><td>116464</td><td>106406</td><td>155657</td><td>147551</td><td>104017</td><td>157368</td><td>148994</td><td>111032</td><td>116433</td><td>114520</td><td>107352</td><td>112847</td><td>106901</td><td>148479</td><td>112867</td><td>161156</td><td>153595</td><td>114731</td><td>162408</td><td>155238</td><td>114544</td><td>114955</td><td>115189</td><td>114717</td><td>170428</td><td>164048</td><td>117143</td><td>117120</td><td>172171</td><td>166243</td><td>162751</td><td>118645</td><td>117761</td><td>171267</td><td>172600</td><td>168794</td><td>173988</td><td>173029</td><td>176096</td><td>176278</td><td>178216</td><td>147539</td><td>182297</td><td>185287</td><td>178198</td><td>179457</td><td>171594</td><td>171662</td><td>175185</td><td>173667</td><td>192406</td><td>191860</td><td>173466</td><td>189919</td><td>177420</td><td>174798</td><td>187425</td><td>186780</td><td>192860</td><td>201785</td><td>195598</td><td>193489</td><td>179622</td><td>178112</td><td>204746</td><td>189960</td><td>178478</td><td>198613</td><td>191581</td><td>178558</td><td>196560</td><td>197371</td><td>195695</td><td>211011</td><td>213260</td><td>214714</td><td>216804</td><td>230654</td><td>232473</td><td>199133</td><td>203301</td><td>202818</td><td>203418</td><td>202548</td><td>202239</td></tr><tr><th>23</th><td>47574</td><td>46578</td><td>64679</td><td>130213</td><td>127157</td><td>87984</td><td>136365</td><td>135504</td><td>91360</td><td>90831</td><td>98664</td><td>93457</td><td>137456</td><td>94413</td><td>139133</td><td>135957</td><td>94747</td><td>94070</td><td>136875</td><td>98080</td><td>96229</td><td>94622</td><td>140028</td><td>137942</td><td>98291</td><td>96200</td><td>141203</td><td>107371</td><td>105628</td><td>96338</td><td>147039</td><td>98556</td><td>97158</td><td>142129</td><td>102251</td><td>99897</td><td>98120</td><td>99539</td><td>140895</td><td>100472</td><td>99247</td><td>148058</td><td>160150</td><td>144204</td><td>107742</td><td>143761</td><td>140962</td><td>103729</td><td>103011</td><td>102732</td><td>157717</td><td>146091</td><td>151860</td><td>146851</td><td>110415</td><td>103591</td><td>116464</td><td>106406</td><td>155657</td><td>147551</td><td>104017</td><td>157368</td><td>148994</td><td>111032</td><td>116433</td><td>114520</td><td>107352</td><td>112847</td><td>106901</td><td>148479</td><td>112867</td><td>161156</td><td>153595</td><td>114731</td><td>162408</td><td>155238</td><td>114544</td><td>114955</td><td>115189</td><td>114717</td><td>170428</td><td>164048</td><td>117143</td><td>117120</td><td>172171</td><td>166243</td><td>162751</td><td>118645</td><td>117761</td><td>171267</td><td>172600</td><td>168794</td><td>173988</td><td>173029</td><td>176096</td><td>176278</td><td>178216</td><td>147539</td><td>182297</td><td>185287</td><td>178198</td><td>179457</td><td>171594</td><td>171662</td><td>175185</td><td>173667</td><td>192406</td><td>191860</td><td>173466</td><td>189919</td><td>177420</td><td>174798</td><td>187425</td><td>186780</td><td>192860</td><td>201785</td><td>195598</td><td>193489</td><td>179622</td><td>178112</td><td>204746</td><td>189960</td><td>178478</td><td>198613</td><td>191581</td><td>178558</td><td>196560</td><td>197371</td><td>195695</td><td>211011</td><td>213260</td><td>214714</td><td>216804</td><td>230654</td><td>232473</td><td>199133</td><td>203301</td><td>202818</td><td>203418</td><td>202548</td><td>202239</td></tr><tr><th>24</th><td>46229</td><td>45233</td><td>63335</td><td>128868</td><td>125812</td><td>88986</td><td>135020</td><td>134160</td><td>92362</td><td>91832</td><td>97319</td><td>94459</td><td>136111</td><td>95415</td><td>137789</td><td>134612</td><td>95749</td><td>95072</td><td>135530</td><td>96735</td><td>97231</td><td>95624</td><td>138684</td><td>136597</td><td>96946</td><td>97202</td><td>139858</td><td>106026</td><td>104283</td><td>97340</td><td>145695</td><td>97211</td><td>98160</td><td>140784</td><td>100906</td><td>98552</td><td>99122</td><td>100541</td><td>139551</td><td>101474</td><td>100249</td><td>146714</td><td>158806</td><td>142859</td><td>106397</td><td>142417</td><td>139617</td><td>102385</td><td>101666</td><td>103733</td><td>156372</td><td>144747</td><td>150516</td><td>145507</td><td>109070</td><td>104593</td><td>115119</td><td>107407</td><td>154312</td><td>146206</td><td>102672</td><td>156023</td><td>147649</td><td>109687</td><td>115088</td><td>113175</td><td>106007</td><td>111502</td><td>105556</td><td>147134</td><td>111522</td><td>159812</td><td>152251</td><td>113386</td><td>161064</td><td>153893</td><td>113199</td><td>113610</td><td>113844</td><td>113372</td><td>169083</td><td>162704</td><td>115798</td><td>115776</td><td>170826</td><td>164898</td><td>161407</td><td>117301</td><td>116416</td><td>169923</td><td>171255</td><td>167450</td><td>172643</td><td>171684</td><td>174752</td><td>174933</td><td>176871</td><td>146194</td><td>183299</td><td>186289</td><td>179199</td><td>180459</td><td>172489</td><td>172664</td><td>176080</td><td>174563</td><td>193408</td><td>192861</td><td>174468</td><td>190921</td><td>176720</td><td>175799</td><td>188427</td><td>187782</td><td>193862</td><td>202787</td><td>196600</td><td>194490</td><td>180518</td><td>179113</td><td>205748</td><td>190962</td><td>179479</td><td>199615</td><td>192583</td><td>179560</td><td>197561</td><td>198373</td><td>196697</td><td>212013</td><td>214261</td><td>215716</td><td>217806</td><td>231656</td><td>233475</td><td>197946</td><td>202114</td><td>201631</td><td>202232</td><td>201362</td><td>201052</td></tr><tr><th>25</th><td>47541</td><td>46545</td><td>64647</td><td>130180</td><td>127124</td><td>87674</td><td>136332</td><td>135471</td><td>91050</td><td>90520</td><td>98631</td><td>93147</td><td>137423</td><td>94103</td><td>139101</td><td>135924</td><td>94437</td><td>93760</td><td>136842</td><td>98047</td><td>95919</td><td>94312</td><td>139996</td><td>137909</td><td>98258</td><td>95890</td><td>141170</td><td>107338</td><td>105595</td><td>96028</td><td>147006</td><td>98523</td><td>96848</td><td>142096</td><td>102218</td><td>99864</td><td>97810</td><td>99229</td><td>140863</td><td>100162</td><td>98937</td><td>148026</td><td>160118</td><td>144171</td><td>107709</td><td>143729</td><td>140929</td><td>103697</td><td>102978</td><td>102421</td><td>157684</td><td>146059</td><td>151828</td><td>146819</td><td>110382</td><td>103281</td><td>116431</td><td>106095</td><td>155624</td><td>147518</td><td>103984</td><td>157335</td><td>148961</td><td>110999</td><td>116400</td><td>114487</td><td>107319</td><td>112814</td><td>106868</td><td>148446</td><td>112834</td><td>161124</td><td>153563</td><td>114698</td><td>162376</td><td>155205</td><td>114511</td><td>114922</td><td>115156</td><td>114684</td><td>170395</td><td>164016</td><td>117110</td><td>117088</td><td>172138</td><td>166210</td><td>162719</td><td>118613</td><td>117728</td><td>171235</td><td>172567</td><td>168762</td><td>173955</td><td>172996</td><td>176064</td><td>176245</td><td>178183</td><td>147506</td><td>181987</td><td>184977</td><td>177887</td><td>179147</td><td>171284</td><td>171352</td><td>174874</td><td>173357</td><td>192096</td><td>191549</td><td>173156</td><td>189609</td><td>177110</td><td>174488</td><td>187115</td><td>186470</td><td>192550</td><td>201475</td><td>195288</td><td>193178</td><td>179312</td><td>177801</td><td>204436</td><td>189650</td><td>178167</td><td>198303</td><td>191271</td><td>178248</td><td>196250</td><td>197061</td><td>195385</td><td>210701</td><td>212949</td><td>214404</td><td>216494</td><td>230344</td><td>232163</td><td>198823</td><td>202990</td><td>202507</td><td>203108</td><td>202238</td><td>201929</td></tr><tr><th>26</th><td>48276</td><td>47280</td><td>65381</td><td>130915</td><td>127859</td><td>86939</td><td>137067</td><td>136206</td><td>90315</td><td>89786</td><td>99366</td><td>92413</td><td>138158</td><td>93368</td><td>139835</td><td>136659</td><td>93702</td><td>93026</td><td>137577</td><td>98782</td><td>95184</td><td>93577</td><td>140730</td><td>138643</td><td>98992</td><td>95155</td><td>141905</td><td>108073</td><td>106330</td><td>95293</td><td>147741</td><td>99257</td><td>96113</td><td>142831</td><td>102953</td><td>100599</td><td>97075</td><td>98494</td><td>141597</td><td>99427</td><td>98202</td><td>148760</td><td>160852</td><td>144905</td><td>108443</td><td>144463</td><td>141664</td><td>104431</td><td>103712</td><td>101687</td><td>158419</td><td>146793</td><td>152562</td><td>147553</td><td>111116</td><td>102546</td><td>117165</td><td>105361</td><td>156358</td><td>148253</td><td>104719</td><td>158070</td><td>149695</td><td>111734</td><td>117134</td><td>115221</td><td>108054</td><td>113549</td><td>107603</td><td>149180</td><td>113568</td><td>161858</td><td>154297</td><td>115433</td><td>163110</td><td>155940</td><td>115246</td><td>115657</td><td>115890</td><td>115419</td><td>171130</td><td>164750</td><td>117845</td><td>117822</td><td>172873</td><td>166944</td><td>163453</td><td>119347</td><td>118463</td><td>171969</td><td>173301</td><td>169496</td><td>174690</td><td>173731</td><td>176798</td><td>176980</td><td>178918</td><td>146859</td><td>181252</td><td>184242</td><td>177153</td><td>178413</td><td>170549</td><td>170617</td><td>174140</td><td>172623</td><td>191362</td><td>190815</td><td>172421</td><td>188874</td><td>176375</td><td>173753</td><td>186380</td><td>185735</td><td>191815</td><td>200740</td><td>194553</td><td>192444</td><td>178578</td><td>177067</td><td>203701</td><td>188915</td><td>177433</td><td>197568</td><td>190536</td><td>177513</td><td>195515</td><td>196326</td><td>194650</td><td>209967</td><td>212215</td><td>213669</td><td>215759</td><td>229610</td><td>231429</td><td>198088</td><td>202256</td><td>201773</td><td>202374</td><td>201504</td><td>201194</td></tr><tr><th>27</th><td>46730</td><td>45551</td><td>74180</td><td>139714</td><td>136658</td><td>84669</td><td>145866</td><td>145005</td><td>88045</td><td>87515</td><td>107418</td><td>90142</td><td>146957</td><td>91098</td><td>148634</td><td>145458</td><td>91432</td><td>90755</td><td>146376</td><td>106834</td><td>92914</td><td>91307</td><td>149529</td><td>147442</td><td>107045</td><td>92884</td><td>150703</td><td>116125</td><td>114382</td><td>93023</td><td>156540</td><td>107310</td><td>93842</td><td>151630</td><td>111005</td><td>108651</td><td>94804</td><td>96224</td><td>150396</td><td>97157</td><td>95932</td><td>157559</td><td>169651</td><td>153704</td><td>116496</td><td>153262</td><td>150462</td><td>112484</td><td>111765</td><td>99416</td><td>167217</td><td>155592</td><td>161361</td><td>156352</td><td>119169</td><td>100276</td><td>125218</td><td>103090</td><td>165157</td><td>157051</td><td>112771</td><td>166869</td><td>158494</td><td>119786</td><td>125187</td><td>123274</td><td>116106</td><td>121601</td><td>115655</td><td>157979</td><td>121621</td><td>170657</td><td>163096</td><td>123485</td><td>171909</td><td>164739</td><td>123298</td><td>123709</td><td>123943</td><td>123471</td><td>179929</td><td>173549</td><td>125897</td><td>125875</td><td>181672</td><td>175743</td><td>172252</td><td>127400</td><td>126515</td><td>180768</td><td>182100</td><td>178295</td><td>183489</td><td>182530</td><td>185597</td><td>185779</td><td>187716</td><td>144588</td><td>178982</td><td>181972</td><td>174882</td><td>176142</td><td>168278</td><td>168347</td><td>171869</td><td>170352</td><td>189091</td><td>188544</td><td>170151</td><td>186604</td><td>174105</td><td>171482</td><td>184110</td><td>183465</td><td>189545</td><td>198470</td><td>192283</td><td>190173</td><td>176307</td><td>174796</td><td>201431</td><td>186645</td><td>175162</td><td>195298</td><td>188266</td><td>175243</td><td>193244</td><td>194056</td><td>192380</td><td>207696</td><td>209944</td><td>211399</td><td>213488</td><td>227339</td><td>229158</td><td>195818</td><td>199985</td><td>199502</td><td>200103</td><td>199233</td><td>198924</td></tr><tr><th>28</th><td>48972</td><td>47976</td><td>66077</td><td>131611</td><td>128555</td><td>86243</td><td>137763</td><td>136902</td><td>89619</td><td>89090</td><td>100062</td><td>91717</td><td>138854</td><td>92672</td><td>140531</td><td>137355</td><td>93006</td><td>92330</td><td>138273</td><td>99478</td><td>94488</td><td>92881</td><td>141426</td><td>139339</td><td>99688</td><td>94459</td><td>142601</td><td>108769</td><td>107026</td><td>94597</td><td>148437</td><td>99953</td><td>95417</td><td>143527</td><td>103649</td><td>101295</td><td>96379</td><td>97798</td><td>142293</td><td>98731</td><td>97506</td><td>149456</td><td>161548</td><td>145601</td><td>109139</td><td>145159</td><td>142360</td><td>105127</td><td>104408</td><td>100991</td><td>159115</td><td>147489</td><td>153258</td><td>148249</td><td>111812</td><td>101850</td><td>117861</td><td>104665</td><td>157054</td><td>148949</td><td>105415</td><td>158766</td><td>150391</td><td>112430</td><td>117830</td><td>115917</td><td>108750</td><td>114245</td><td>108299</td><td>149876</td><td>114264</td><td>162554</td><td>154993</td><td>116129</td><td>163806</td><td>156636</td><td>115942</td><td>116353</td><td>116586</td><td>116115</td><td>171826</td><td>165446</td><td>118541</td><td>118518</td><td>173569</td><td>167640</td><td>164149</td><td>120043</td><td>119159</td><td>172665</td><td>173997</td><td>170192</td><td>175386</td><td>174427</td><td>177494</td><td>177676</td><td>179614</td><td>146163</td><td>180556</td><td>183546</td><td>176457</td><td>177717</td><td>169853</td><td>169921</td><td>173444</td><td>171927</td><td>190666</td><td>190119</td><td>171725</td><td>188178</td><td>175679</td><td>173057</td><td>185684</td><td>185039</td><td>191119</td><td>200044</td><td>193857</td><td>191748</td><td>177882</td><td>176371</td><td>203005</td><td>188219</td><td>176737</td><td>196872</td><td>189840</td><td>176817</td><td>194819</td><td>195630</td><td>193954</td><td>209271</td><td>211519</td><td>212973</td><td>215063</td><td>228914</td><td>230733</td><td>197392</td><td>201560</td><td>201077</td><td>201678</td><td>200808</td><td>200498</td></tr><tr><th>29</th><td>48714</td><td>47718</td><td>65819</td><td>131353</td><td>128297</td><td>86501</td><td>137505</td><td>136644</td><td>89877</td><td>89348</td><td>99804</td><td>91974</td><td>138596</td><td>92930</td><td>140273</td><td>137097</td><td>93264</td><td>92587</td><td>138015</td><td>99220</td><td>94746</td><td>93139</td><td>141168</td><td>139082</td><td>99431</td><td>94717</td><td>142343</td><td>108511</td><td>106768</td><td>94855</td><td>148179</td><td>99696</td><td>95675</td><td>143269</td><td>103391</td><td>101037</td><td>96637</td><td>98056</td><td>142035</td><td>98989</td><td>97764</td><td>149198</td><td>161290</td><td>145344</td><td>108882</td><td>144901</td><td>142102</td><td>104869</td><td>104150</td><td>101249</td><td>158857</td><td>147231</td><td>153000</td><td>147991</td><td>111555</td><td>102108</td><td>117603</td><td>104923</td><td>156797</td><td>148691</td><td>105157</td><td>158508</td><td>150133</td><td>112172</td><td>117572</td><td>115660</td><td>108492</td><td>113987</td><td>108041</td><td>149618</td><td>114007</td><td>162296</td><td>154735</td><td>115871</td><td>163548</td><td>156378</td><td>115684</td><td>116095</td><td>116328</td><td>115857</td><td>171568</td><td>165188</td><td>118283</td><td>118260</td><td>173311</td><td>167383</td><td>163891</td><td>119785</td><td>118901</td><td>172407</td><td>173739</td><td>169934</td><td>175128</td><td>174169</td><td>177236</td><td>177418</td><td>179356</td><td>146420</td><td>180814</td><td>183804</td><td>176715</td><td>177974</td><td>170111</td><td>170179</td><td>173702</td><td>172185</td><td>190923</td><td>190377</td><td>171983</td><td>188436</td><td>175937</td><td>173315</td><td>185942</td><td>185297</td><td>191377</td><td>200302</td><td>194115</td><td>192006</td><td>178139</td><td>176629</td><td>203263</td><td>188477</td><td>176995</td><td>197130</td><td>190098</td><td>177075</td><td>195077</td><td>195888</td><td>194212</td><td>209528</td><td>211777</td><td>213231</td><td>215321</td><td>229171</td><td>230990</td><td>197650</td><td>201818</td><td>201335</td><td>201936</td><td>201066</td><td>200756</td></tr><tr><th>30</th><td>50041</td><td>48474</td><td>69731</td><td>135265</td><td>132209</td><td>85844</td><td>141417</td><td>140556</td><td>89220</td><td>88690</td><td>103716</td><td>91317</td><td>142508</td><td>92273</td><td>144185</td><td>141009</td><td>92607</td><td>91930</td><td>141927</td><td>103132</td><td>94089</td><td>92482</td><td>145080</td><td>142994</td><td>103343</td><td>94060</td><td>146255</td><td>112423</td><td>110680</td><td>94198</td><td>152091</td><td>103608</td><td>95018</td><td>147181</td><td>107303</td><td>104949</td><td>95980</td><td>97399</td><td>145947</td><td>98332</td><td>97107</td><td>153110</td><td>165202</td><td>149256</td><td>112794</td><td>148813</td><td>146014</td><td>108781</td><td>108063</td><td>100591</td><td>162769</td><td>151143</td><td>156912</td><td>151903</td><td>115467</td><td>101451</td><td>121516</td><td>104265</td><td>160709</td><td>152603</td><td>109069</td><td>162420</td><td>154046</td><td>116084</td><td>121485</td><td>119572</td><td>112404</td><td>117899</td><td>111953</td><td>153531</td><td>117919</td><td>166208</td><td>158647</td><td>119783</td><td>167460</td><td>160290</td><td>119596</td><td>120007</td><td>120241</td><td>119769</td><td>175480</td><td>169100</td><td>122195</td><td>122172</td><td>177223</td><td>171295</td><td>167803</td><td>123697</td><td>122813</td><td>176319</td><td>177652</td><td>173846</td><td>179040</td><td>178081</td><td>181148</td><td>181330</td><td>183268</td><td>145763</td><td>180157</td><td>183147</td><td>176057</td><td>177317</td><td>169454</td><td>169522</td><td>173044</td><td>171527</td><td>190266</td><td>189719</td><td>171326</td><td>187779</td><td>175280</td><td>172657</td><td>185285</td><td>184640</td><td>190720</td><td>199645</td><td>193458</td><td>191348</td><td>177482</td><td>175971</td><td>202606</td><td>187820</td><td>176337</td><td>196473</td><td>189441</td><td>176418</td><td>194419</td><td>195231</td><td>193555</td><td>208871</td><td>211119</td><td>212574</td><td>214664</td><td>228514</td><td>230333</td><td>196993</td><td>201160</td><td>200677</td><td>201278</td><td>200408</td><td>200099</td></tr><tr><th>&vellip;</th><td>&vellip;</td><td>&vellip;</td><td>&vellip;</td><td>&vellip;</td><td>&vellip;</td><td>&vellip;</td><td>&vellip;</td><td>&vellip;</td><td>&vellip;</td><td>&vellip;</td><td>&vellip;</td><td>&vellip;</td><td>&vellip;</td><td>&vellip;</td><td>&vellip;</td><td>&vellip;</td><td>&vellip;</td><td>&vellip;</td><td>&vellip;</td><td>&vellip;</td><td>&vellip;</td><td>&vellip;</td><td>&vellip;</td><td>&vellip;</td><td>&vellip;</td><td>&vellip;</td><td>&vellip;</td><td>&vellip;</td><td>&vellip;</td><td>&vellip;</td><td>&vellip;</td><td>&vellip;</td><td>&vellip;</td><td>&vellip;</td><td>&vellip;</td><td>&vellip;</td><td>&vellip;</td><td>&vellip;</td><td>&vellip;</td><td>&vellip;</td><td>&vellip;</td><td>&vellip;</td><td>&vellip;</td><td>&vellip;</td><td>&vellip;</td><td>&vellip;</td><td>&vellip;</td><td>&vellip;</td><td>&vellip;</td><td>&vellip;</td><td>&vellip;</td><td>&vellip;</td><td>&vellip;</td><td>&vellip;</td><td>&vellip;</td><td>&vellip;</td><td>&vellip;</td><td>&vellip;</td><td>&vellip;</td><td>&vellip;</td><td>&vellip;</td><td>&vellip;</td><td>&vellip;</td><td>&vellip;</td><td>&vellip;</td><td>&vellip;</td><td>&vellip;</td><td>&vellip;</td><td>&vellip;</td><td>&vellip;</td><td>&vellip;</td><td>&vellip;</td><td>&vellip;</td><td>&vellip;</td><td>&vellip;</td><td>&vellip;</td><td>&vellip;</td><td>&vellip;</td><td>&vellip;</td><td>&vellip;</td><td>&vellip;</td><td>&vellip;</td><td>&vellip;</td><td>&vellip;</td><td>&vellip;</td><td>&vellip;</td><td>&vellip;</td><td>&vellip;</td><td>&vellip;</td><td>&vellip;</td><td>&vellip;</td><td>&vellip;</td><td>&vellip;</td><td>&vellip;</td><td>&vellip;</td><td>&vellip;</td><td>&vellip;</td><td>&vellip;</td><td>&vellip;</td><td>&vellip;</td><td>&vellip;</td><td>&vellip;</td><td>&vellip;</td><td>&vellip;</td><td>&vellip;</td><td>&vellip;</td><td>&vellip;</td><td>&vellip;</td><td>&vellip;</td><td>&vellip;</td><td>&vellip;</td><td>&vellip;</td><td>&vellip;</td><td>&vellip;</td><td>&vellip;</td><td>&vellip;</td><td>&vellip;</td><td>&vellip;</td><td>&vellip;</td><td>&vellip;</td><td>&vellip;</td><td>&vellip;</td><td>&vellip;</td><td>&vellip;</td><td>&vellip;</td><td>&vellip;</td><td>&vellip;</td><td>&vellip;</td><td>&vellip;</td><td>&vellip;</td><td>&vellip;</td><td>&vellip;</td><td>&vellip;</td><td>&vellip;</td><td>&vellip;</td><td>&vellip;</td><td>&vellip;</td><td>&vellip;</td><td>&vellip;</td><td>&vellip;</td><td>&vellip;</td></tr></tbody></table>"
      ],
      "text/latex": [
       "\\begin{tabular}{r|ccccccccccccccccccccccccccccccccccccccccccccccccccccccccccccccccccccccccccccccccccccccccccccccccccccccccccccccccccccccccccccccccccccccccccccc}\n",
       "\t& Column1 & Column2 & Column3 & Column4 & Column5 & Column6 & Column7 & Column8 & Column9 & Column10 & Column11 & Column12 & Column13 & Column14 & Column15 & Column16 & Column17 & Column18 & Column19 & Column20 & Column21 & Column22 & Column23 & Column24 & Column25 & Column26 & Column27 & Column28 & Column29 & Column30 & Column31 & Column32 & Column33 & Column34 & Column35 & Column36 & Column37 & Column38 & Column39 & Column40 & Column41 & Column42 & Column43 & Column44 & Column45 & Column46 & Column47 & Column48 & Column49 & Column50 & Column51 & Column52 & Column53 & Column54 & Column55 & Column56 & Column57 & Column58 & Column59 & Column60 & Column61 & Column62 & Column63 & Column64 & Column65 & Column66 & Column67 & Column68 & Column69 & Column70 & Column71 & Column72 & Column73 & Column74 & Column75 & Column76 & Column77 & Column78 & Column79 & Column80 & Column81 & Column82 & Column83 & Column84 & Column85 & Column86 & Column87 & Column88 & Column89 & Column90 & Column91 & Column92 & Column93 & Column94 & Column95 & Column96 & Column97 & Column98 & Column99 & Column100 & Column101 & Column102 & Column103 & Column104 & Column105 & Column106 & Column107 & Column108 & Column109 & Column110 & Column111 & Column112 & Column113 & Column114 & Column115 & Column116 & Column117 & Column118 & Column119 & Column120 & Column121 & Column122 & Column123 & Column124 & Column125 & Column126 & Column127 & Column128 & Column129 & Column130 & Column131 & Column132 & Column133 & Column134 & Column135 & Column136 & Column137 & Column138 & Column139 & Column140 & Column141\\\\\n",
       "\t\\hline\n",
       "\t& Int64⍰ & Int64⍰ & Int64⍰ & Int64⍰ & Int64⍰ & Int64⍰ & Int64⍰ & Int64⍰ & Int64⍰ & Int64⍰ & Int64⍰ & Int64⍰ & Int64⍰ & Int64⍰ & Int64⍰ & Int64⍰ & Int64⍰ & Int64⍰ & Int64⍰ & Int64⍰ & Int64⍰ & Int64⍰ & Int64⍰ & Int64⍰ & Int64⍰ & Int64⍰ & Int64⍰ & Int64⍰ & Int64⍰ & Int64⍰ & Int64⍰ & Int64⍰ & Int64⍰ & Int64⍰ & Int64⍰ & Int64⍰ & Int64⍰ & Int64⍰ & Int64⍰ & Int64⍰ & Int64⍰ & Int64⍰ & Int64⍰ & Int64⍰ & Int64⍰ & Int64⍰ & Int64⍰ & Int64⍰ & Int64⍰ & Int64⍰ & Int64⍰ & Int64⍰ & Int64⍰ & Int64⍰ & Int64⍰ & Int64⍰ & Int64⍰ & Int64⍰ & Int64⍰ & Int64⍰ & Int64⍰ & Int64⍰ & Int64⍰ & Int64⍰ & Int64⍰ & Int64⍰ & Int64⍰ & Int64⍰ & Int64⍰ & Int64⍰ & Int64⍰ & Int64⍰ & Int64⍰ & Int64⍰ & Int64⍰ & Int64⍰ & Int64⍰ & Int64⍰ & Int64⍰ & Int64⍰ & Int64⍰ & Int64⍰ & Int64⍰ & Int64⍰ & Int64⍰ & Int64⍰ & Int64⍰ & Int64⍰ & Int64⍰ & Int64⍰ & Int64⍰ & Int64⍰ & Int64⍰ & Int64⍰ & Int64⍰ & Int64⍰ & Int64⍰ & Int64⍰ & Int64⍰ & Int64⍰ & Int64⍰ & Int64⍰ & Int64⍰ & Int64⍰ & Int64⍰ & Int64⍰ & Int64⍰ & Int64⍰ & Int64⍰ & Int64⍰ & Int64⍰ & Int64⍰ & Int64⍰ & Int64⍰ & Int64⍰ & Int64⍰ & Int64⍰ & Int64⍰ & Int64⍰ & Int64⍰ & Int64⍰ & Int64⍰ & Int64⍰ & Int64⍰ & Int64⍰ & Int64⍰ & Int64⍰ & Int64⍰ & Int64⍰ & Int64⍰ & Int64⍰ & Int64⍰ & Int64⍰ & Int64⍰ & Int64⍰ & Int64⍰ & Int64⍰ & Int64⍰ & Int64⍰ & Int64⍰ & Int64⍰\\\\\n",
       "\t\\hline\n",
       "\t1 & 39805 & 38809 & 70271 & 135805 & 132749 & 85670 & 141957 & 141096 & 89046 & 88516 & 104256 & 91143 & 143048 & 92099 & 144725 & 141549 & 92433 & 91756 & 142467 & 103672 & 93915 & 92308 & 145620 & 143534 & 103883 & 93886 & 146795 & 112963 & 111220 & 94024 & 152631 & 104148 & 94844 & 147721 & 107843 & 105489 & 95806 & 97225 & 146487 & 98158 & 96933 & 153650 & 165742 & 149796 & 113334 & 149353 & 146554 & 109321 & 108602 & 100417 & 163309 & 151683 & 157452 & 152443 & 116007 & 101277 & 122056 & 104091 & 161249 & 153143 & 109609 & 162960 & 154586 & 116624 & 122025 & 120112 & 112944 & 118439 & 112493 & 154071 & 118459 & 166748 & 159187 & 120323 & 168000 & 160830 & 120136 & 120547 & 120781 & 120309 & 176020 & 169640 & 122735 & 122712 & 177763 & 171835 & 168343 & 124237 & 123353 & 176859 & 178191 & 174386 & 179580 & 178621 & 181688 & 181870 & 183808 & 145589 & 179983 & 182973 & 175883 & 177143 & 169280 & 169348 & 172870 & 171353 & 190092 & 189545 & 171152 & 187605 & 175106 & 172484 & 185111 & 184466 & 190546 & 199471 & 193284 & 191174 & 177308 & 175797 & 202432 & 187646 & 176163 & 196299 & 189267 & 176244 & 194246 & 195057 & 193381 & 208697 & 210946 & 212400 & 214490 & 228340 & 230159 & 196819 & 200986 & 200503 & 201104 & 200234 & 199925 \\\\\n",
       "\t2 & 39908 & 38912 & 70375 & 135909 & 132853 & 85566 & 142061 & 141200 & 88942 & 88413 & 104360 & 91040 & 143152 & 91995 & 144829 & 141653 & 92329 & 91653 & 142571 & 103776 & 93811 & 92204 & 145724 & 143637 & 103986 & 93782 & 146898 & 113067 & 111324 & 93920 & 152735 & 104251 & 94740 & 147825 & 107946 & 105593 & 95702 & 97121 & 146591 & 98054 & 96829 & 153754 & 165846 & 149899 & 113437 & 149457 & 146657 & 109425 & 108706 & 100314 & 163412 & 151787 & 157556 & 152547 & 116110 & 101173 & 122159 & 103988 & 161352 & 153246 & 109713 & 163064 & 154689 & 116728 & 122128 & 120215 & 113047 & 118543 & 112596 & 154174 & 118562 & 166852 & 159291 & 120426 & 168104 & 160934 & 120240 & 120651 & 120884 & 120413 & 176124 & 169744 & 122839 & 122816 & 177866 & 171938 & 168447 & 124341 & 123457 & 176963 & 178295 & 174490 & 179683 & 178725 & 181792 & 181974 & 183911 & 145486 & 179879 & 182869 & 175780 & 177040 & 169176 & 169244 & 172767 & 171250 & 189989 & 189442 & 171048 & 187501 & 175002 & 172380 & 185007 & 184362 & 190442 & 199367 & 193180 & 191071 & 177205 & 175694 & 202328 & 187542 & 176060 & 196195 & 189163 & 176140 & 194142 & 194953 & 193277 & 208593 & 210842 & 212296 & 214386 & 228237 & 230056 & 196715 & 200883 & 200400 & 201001 & 200131 & 199821 \\\\\n",
       "\t3 & 41356 & 40361 & 67495 & 133029 & 129973 & 85429 & 139181 & 138320 & 88805 & 88275 & 101480 & 90902 & 140272 & 91858 & 141949 & 138773 & 92192 & 91515 & 139691 & 100896 & 93674 & 92067 & 142845 & 140758 & 101107 & 93645 & 144019 & 110187 & 108444 & 93783 & 149855 & 101372 & 94603 & 144945 & 105067 & 102713 & 95565 & 96984 & 143712 & 97917 & 96692 & 150874 & 162966 & 147020 & 110558 & 146578 & 143778 & 106545 & 105827 & 100176 & 160533 & 148907 & 154676 & 149667 & 113231 & 101036 & 119280 & 103850 & 158473 & 150367 & 106833 & 160184 & 151810 & 113848 & 119249 & 117336 & 110168 & 115663 & 109717 & 151295 & 115683 & 163972 & 156411 & 117547 & 165225 & 158054 & 117360 & 117771 & 118005 & 117533 & 173244 & 166865 & 119959 & 119936 & 174987 & 169059 & 165568 & 121462 & 120577 & 174084 & 175416 & 171610 & 176804 & 175845 & 178912 & 179094 & 181032 & 145348 & 179742 & 182732 & 175643 & 176902 & 169039 & 169107 & 172630 & 171112 & 189851 & 189304 & 170911 & 187364 & 174865 & 172243 & 184870 & 184225 & 190305 & 199230 & 193043 & 190933 & 177067 & 175556 & 202191 & 187405 & 175922 & 196058 & 189026 & 176003 & 194005 & 194816 & 193140 & 208456 & 210705 & 212159 & 214249 & 228099 & 229918 & 196578 & 200745 & 200263 & 200863 & 199993 & 199684 \\\\\n",
       "\t4 & 45735 & 44740 & 67823 & 133357 & 130301 & 90833 & 139509 & 138648 & 94209 & 93680 & 101808 & 96307 & 140600 & 97262 & 142277 & 139101 & 97596 & 96920 & 140019 & 101224 & 99078 & 97471 & 143172 & 141085 & 101434 & 99049 & 144347 & 110515 & 108772 & 99187 & 150183 & 101700 & 100007 & 145273 & 105395 & 103041 & 100969 & 102388 & 144039 & 103321 & 102096 & 151202 & 163294 & 147348 & 110886 & 146905 & 144106 & 106873 & 106154 & 105581 & 160861 & 149235 & 155004 & 149995 & 113558 & 106440 & 119607 & 109255 & 158801 & 150695 & 107161 & 160512 & 152137 & 114176 & 119576 & 117664 & 110496 & 115991 & 110045 & 151622 & 116011 & 164300 & 156739 & 117875 & 165552 & 158382 & 117688 & 118099 & 118332 & 117861 & 173572 & 167192 & 120287 & 120264 & 175315 & 169387 & 165895 & 121789 & 120905 & 174411 & 175743 & 171938 & 177132 & 176173 & 179240 & 179422 & 181360 & 150683 & 185146 & 188136 & 181047 & 182307 & 174443 & 174511 & 178034 & 176517 & 195256 & 194709 & 176315 & 192768 & 180269 & 177647 & 190274 & 189629 & 195709 & 204634 & 198447 & 196338 & 182472 & 180961 & 207595 & 192809 & 181327 & 201462 & 194430 & 181407 & 199409 & 200220 & 198544 & 213860 & 216109 & 217563 & 219653 & 233504 & 235323 & 201982 & 206150 & 205667 & 206268 & 205398 & 205088 \\\\\n",
       "\t5 & 44807 & 43811 & 66895 & 132428 & 129372 & 89905 & 138580 & 137720 & 93281 & 92751 & 100879 & 95378 & 139671 & 96334 & 141349 & 138172 & 96668 & 95991 & 139090 & 100295 & 98150 & 96543 & 142244 & 140157 & 100506 & 98120 & 143418 & 109586 & 107844 & 98259 & 149255 & 100771 & 99078 & 144344 & 104466 & 102112 & 100040 & 101460 & 143111 & 102393 & 101168 & 150274 & 162366 & 146419 & 109957 & 145977 & 143177 & 105945 & 105226 & 104652 & 159932 & 148307 & 154076 & 149067 & 112630 & 105512 & 118679 & 108326 & 157872 & 149766 & 106232 & 159583 & 151209 & 113247 & 118648 & 116735 & 109567 & 115062 & 109116 & 150694 & 115082 & 163372 & 155811 & 116946 & 164624 & 157454 & 116759 & 117170 & 117404 & 116932 & 172643 & 166264 & 119358 & 119336 & 174386 & 168458 & 164967 & 120861 & 119976 & 173483 & 174815 & 171010 & 176203 & 175244 & 178312 & 178494 & 180431 & 149754 & 184218 & 187208 & 180118 & 181378 & 173514 & 173583 & 177105 & 175588 & 194327 & 193780 & 175387 & 191840 & 179341 & 176718 & 189346 & 188701 & 194781 & 203706 & 197519 & 195409 & 181543 & 180032 & 206667 & 191881 & 180398 & 200534 & 193502 & 180479 & 198480 & 199292 & 197616 & 212932 & 215180 & 216635 & 218724 & 232575 & 234394 & 201054 & 205221 & 204738 & 205339 & 204469 & 204160 \\\\\n",
       "\t6 & 45523 & 44527 & 67610 & 133144 & 130088 & 90621 & 139296 & 138435 & 93996 & 93467 & 101595 & 96094 & 140387 & 97050 & 142064 & 138888 & 97383 & 96707 & 139806 & 101011 & 98866 & 97259 & 142960 & 140873 & 101222 & 98836 & 144134 & 110302 & 108559 & 98974 & 149970 & 101487 & 99794 & 145060 & 105182 & 102828 & 100756 & 102176 & 143827 & 103108 & 101884 & 150989 & 163082 & 147135 & 110673 & 146693 & 143893 & 106661 & 105942 & 105368 & 160648 & 149023 & 154792 & 149782 & 113346 & 106227 & 119395 & 109042 & 158588 & 150482 & 106948 & 160299 & 151925 & 113963 & 119364 & 117451 & 110283 & 115778 & 109832 & 151410 & 115798 & 164087 & 156527 & 117662 & 165340 & 158169 & 117475 & 117886 & 118120 & 117648 & 173359 & 166980 & 120074 & 120052 & 175102 & 169174 & 165683 & 121577 & 120692 & 174199 & 175531 & 171726 & 176919 & 175960 & 179028 & 179209 & 181147 & 150470 & 184934 & 187924 & 180834 & 182094 & 174230 & 174298 & 177821 & 176304 & 195043 & 194496 & 176103 & 192556 & 180056 & 177434 & 190062 & 189417 & 195496 & 204422 & 198235 & 196125 & 182259 & 180748 & 207383 & 192597 & 181114 & 201250 & 194218 & 181195 & 199196 & 200008 & 198332 & 213648 & 215896 & 217351 & 219440 & 233291 & 235110 & 201769 & 205937 & 205454 & 206055 & 205185 & 204876 \\\\\n",
       "\t7 & 46386 & 45390 & 63491 & 129025 & 125969 & 88829 & 135177 & 134316 & 92205 & 91675 & 97476 & 94302 & 136268 & 95258 & 137945 & 134769 & 95592 & 94915 & 135687 & 96892 & 97074 & 95467 & 138840 & 136754 & 97103 & 97045 & 140015 & 106183 & 104440 & 97183 & 145851 & 97368 & 98003 & 140941 & 101063 & 98709 & 98965 & 100384 & 139707 & 101317 & 100092 & 146870 & 158962 & 143016 & 106554 & 142573 & 139774 & 102541 & 101823 & 103577 & 156529 & 144903 & 150672 & 145663 & 109227 & 104436 & 115276 & 107250 & 154469 & 146363 & 102829 & 156180 & 147806 & 109844 & 115245 & 113332 & 106164 & 111659 & 105713 & 147291 & 111679 & 159968 & 152407 & 113543 & 161220 & 154050 & 113356 & 113767 & 114001 & 113529 & 169240 & 162861 & 115955 & 115932 & 170983 & 165055 & 161563 & 117457 & 116573 & 170080 & 171412 & 167606 & 172800 & 171841 & 174908 & 175090 & 177028 & 146351 & 183142 & 186132 & 179043 & 180302 & 172439 & 172507 & 176030 & 174512 & 193251 & 192704 & 174311 & 190764 & 176877 & 175643 & 188270 & 187625 & 193705 & 202630 & 196443 & 194334 & 180467 & 178957 & 205591 & 190805 & 179322 & 199458 & 192426 & 179403 & 197405 & 198216 & 196540 & 211856 & 214105 & 215559 & 217649 & 231499 & 233318 & 198103 & 202271 & 201788 & 202389 & 201519 & 201209 \\\\\n",
       "\t8 & 46730 & 45551 & 74180 & 139714 & 136658 & 84669 & 145866 & 145005 & 88045 & 87515 & 107418 & 90142 & 146957 & 91098 & 148634 & 145458 & 91432 & 90755 & 146376 & 106834 & 92914 & 91307 & 149529 & 147442 & 107045 & 92884 & 150703 & 116125 & 114382 & 93023 & 156540 & 107310 & 93842 & 151630 & 111005 & 108651 & 94804 & 96224 & 150396 & 97157 & 95932 & 157559 & 169651 & 153704 & 116496 & 153262 & 150462 & 112484 & 111765 & 99416 & 167217 & 155592 & 161361 & 156352 & 119169 & 100276 & 125218 & 103090 & 165157 & 157051 & 112771 & 166869 & 158494 & 119786 & 125187 & 123274 & 116106 & 121601 & 115655 & 157979 & 121621 & 170657 & 163096 & 123485 & 171909 & 164739 & 123298 & 123709 & 123943 & 123471 & 179929 & 173549 & 125897 & 125875 & 181672 & 175743 & 172252 & 127400 & 126515 & 180768 & 182100 & 178295 & 183489 & 182530 & 185597 & 185779 & 187716 & 144588 & 178982 & 181972 & 174882 & 176142 & 168278 & 168347 & 171869 & 170352 & 189091 & 188544 & 170151 & 186604 & 174105 & 171482 & 184110 & 183465 & 189545 & 198470 & 192283 & 190173 & 176307 & 174796 & 201431 & 186645 & 175162 & 195298 & 188266 & 175243 & 193244 & 194056 & 192380 & 207696 & 209944 & 211399 & 213488 & 227339 & 229158 & 195818 & 199985 & 199502 & 200103 & 199233 & 198924 \\\\\n",
       "\t9 & 46524 & 45528 & 61073 & 126606 & 123550 & 90922 & 132758 & 131897 & 94298 & 93769 & 95057 & 96395 & 133849 & 97351 & 135527 & 132350 & 97685 & 97008 & 133268 & 94473 & 99167 & 97560 & 136422 & 134335 & 94684 & 99138 & 137596 & 103764 & 102021 & 99276 & 143432 & 94949 & 100096 & 138522 & 98644 & 96290 & 101058 & 102477 & 137289 & 103410 & 102185 & 144452 & 156544 & 140597 & 104135 & 140155 & 137355 & 100123 & 99404 & 105670 & 154110 & 142485 & 148254 & 143245 & 106808 & 106529 & 112857 & 108574 & 152050 & 143944 & 100410 & 153761 & 145387 & 107425 & 112826 & 110913 & 103745 & 109240 & 103294 & 144872 & 109260 & 157550 & 149989 & 111124 & 158802 & 151631 & 110937 & 111348 & 111582 & 111110 & 166821 & 160442 & 113536 & 113514 & 168564 & 162636 & 159145 & 115039 & 114154 & 167661 & 168993 & 165188 & 170381 & 169422 & 172490 & 172671 & 174609 & 143932 & 185561 & 188551 & 181136 & 182395 & 170227 & 172345 & 173818 & 172301 & 195344 & 194798 & 175567 & 192857 & 174458 & 175481 & 190363 & 189718 & 195798 & 204723 & 198536 & 196427 & 178256 & 178736 & 207684 & 192898 & 179101 & 201551 & 194519 & 181496 & 199498 & 200309 & 198633 & 213949 & 216198 & 217652 & 219742 & 233592 & 235412 & 195684 & 199852 & 199369 & 199970 & 199100 & 198790 \\\\\n",
       "\t10 & 49444 & 48448 & 63319 & 128853 & 125797 & 89963 & 135005 & 134144 & 93338 & 92809 & 97304 & 95436 & 136096 & 96392 & 137773 & 134597 & 96726 & 96049 & 135515 & 96720 & 98208 & 96601 & 138668 & 136581 & 96930 & 98178 & 139843 & 106011 & 104268 & 98316 & 145679 & 97195 & 99136 & 140769 & 100891 & 98537 & 100098 & 101518 & 139535 & 102451 & 101226 & 146698 & 158790 & 142843 & 106382 & 142401 & 139602 & 102369 & 101650 & 104710 & 156357 & 144731 & 150500 & 145491 & 109054 & 105570 & 115103 & 108384 & 154297 & 146191 & 102657 & 156008 & 147633 & 109672 & 115072 & 113159 & 105992 & 111487 & 105541 & 147118 & 111506 & 159796 & 152235 & 113371 & 161048 & 153878 & 113184 & 113595 & 113828 & 113357 & 169068 & 162688 & 115783 & 115760 & 170811 & 164882 & 161391 & 117285 & 116401 & 169907 & 171239 & 167434 & 172628 & 171669 & 174736 & 174918 & 176856 & 146179 & 184276 & 187266 & 180176 & 181436 & 172474 & 173641 & 176065 & 174547 & 194385 & 193838 & 175445 & 191898 & 176705 & 176776 & 189404 & 188759 & 194838 & 203764 & 197577 & 195467 & 180502 & 180090 & 206725 & 191939 & 180456 & 200592 & 193560 & 180537 & 198538 & 199350 & 197674 & 212990 & 215238 & 216693 & 218782 & 232633 & 234452 & 197931 & 202099 & 201616 & 202216 & 201346 & 201037 \\\\\n",
       "\t11 & 49444 & 48448 & 63319 & 128853 & 125797 & 89963 & 135005 & 134144 & 93338 & 92809 & 97304 & 95436 & 136096 & 96392 & 137773 & 134597 & 96726 & 96049 & 135515 & 96720 & 98208 & 96601 & 138668 & 136581 & 96930 & 98178 & 139843 & 106011 & 104268 & 98316 & 145679 & 97195 & 99136 & 140769 & 100891 & 98537 & 100098 & 101518 & 139535 & 102451 & 101226 & 146698 & 158790 & 142843 & 106382 & 142401 & 139602 & 102369 & 101650 & 104710 & 156357 & 144731 & 150500 & 145491 & 109054 & 105570 & 115103 & 108384 & 154297 & 146191 & 102657 & 156008 & 147633 & 109672 & 115072 & 113159 & 105992 & 111487 & 105541 & 147118 & 111506 & 159796 & 152235 & 113371 & 161048 & 153878 & 113184 & 113595 & 113828 & 113357 & 169068 & 162688 & 115783 & 115760 & 170811 & 164882 & 161391 & 117285 & 116401 & 169907 & 171239 & 167434 & 172628 & 171669 & 174736 & 174918 & 176856 & 146179 & 184276 & 187266 & 180176 & 181436 & 172474 & 173641 & 176065 & 174547 & 194385 & 193838 & 175445 & 191898 & 176705 & 176776 & 189404 & 188759 & 194838 & 203764 & 197577 & 195467 & 180502 & 180090 & 206725 & 191939 & 180456 & 200592 & 193560 & 180537 & 198538 & 199350 & 197674 & 212990 & 215238 & 216693 & 218782 & 232633 & 234452 & 197931 & 202099 & 201616 & 202216 & 201346 & 201037 \\\\\n",
       "\t12 & 50248 & 49252 & 60803 & 126337 & 123281 & 90653 & 132489 & 131628 & 94028 & 93499 & 94788 & 96126 & 133580 & 97082 & 135257 & 132081 & 97416 & 96739 & 132999 & 94204 & 98898 & 97291 & 136152 & 134065 & 94414 & 98868 & 137327 & 103495 & 101752 & 99006 & 143163 & 94679 & 99826 & 138253 & 98375 & 96021 & 100788 & 102208 & 137019 & 103141 & 101916 & 144182 & 156274 & 140327 & 103865 & 139885 & 137086 & 99853 & 99134 & 105400 & 153840 & 142215 & 147984 & 142975 & 106538 & 106260 & 112587 & 108304 & 151780 & 143675 & 100141 & 153492 & 145117 & 107156 & 112556 & 110643 & 103476 & 108971 & 103025 & 144602 & 108990 & 157280 & 149719 & 110854 & 158532 & 151362 & 110668 & 111079 & 111312 & 110841 & 166552 & 160172 & 113267 & 113244 & 168295 & 162366 & 158875 & 114769 & 113885 & 167391 & 168723 & 164918 & 170112 & 169153 & 172220 & 172402 & 174340 & 143663 & 185425 & 188415 & 180866 & 182126 & 169958 & 172076 & 173548 & 172031 & 195075 & 194528 & 175297 & 192588 & 174189 & 175211 & 190094 & 189449 & 195528 & 204454 & 198267 & 196157 & 177986 & 178466 & 207415 & 192629 & 178832 & 201282 & 194250 & 181227 & 199228 & 200040 & 198364 & 213680 & 215928 & 217383 & 219472 & 233323 & 235142 & 195415 & 199582 & 199100 & 199700 & 198830 & 198521 \\\\\n",
       "\t13 & 50456 & 49460 & 61011 & 126545 & 123489 & 90861 & 132697 & 131836 & 94237 & 93707 & 94996 & 96334 & 133788 & 97290 & 135465 & 132289 & 97624 & 96947 & 133207 & 94412 & 99106 & 97499 & 136360 & 134273 & 94622 & 99077 & 137535 & 103703 & 101960 & 99215 & 143371 & 94887 & 100034 & 138461 & 98583 & 96229 & 100997 & 102416 & 137227 & 103349 & 102124 & 144390 & 156482 & 140535 & 104073 & 140093 & 137294 & 100061 & 99342 & 105608 & 154049 & 142423 & 148192 & 143183 & 106746 & 106468 & 112795 & 108512 & 151988 & 143883 & 100349 & 153700 & 145325 & 107364 & 112764 & 110851 & 103684 & 109179 & 103233 & 144810 & 109198 & 157488 & 149927 & 111063 & 158740 & 151570 & 110876 & 111287 & 111520 & 111049 & 166760 & 160380 & 113475 & 113452 & 168503 & 162574 & 159083 & 114977 & 114093 & 167599 & 168931 & 165126 & 170320 & 169361 & 172428 & 172610 & 174548 & 143871 & 185633 & 188624 & 181074 & 182334 & 170166 & 172284 & 173757 & 172239 & 195283 & 194736 & 175505 & 192796 & 174397 & 175420 & 190302 & 189657 & 195737 & 204662 & 198475 & 196365 & 178194 & 178674 & 207623 & 192837 & 179040 & 201490 & 194458 & 181435 & 199436 & 200248 & 198572 & 213888 & 216136 & 217591 & 219681 & 233531 & 235350 & 195623 & 199790 & 199308 & 199908 & 199038 & 198729 \\\\\n",
       "\t14 & 50041 & 48474 & 69731 & 135265 & 132209 & 85844 & 141417 & 140556 & 89220 & 88690 & 103716 & 91317 & 142508 & 92273 & 144185 & 141009 & 92607 & 91930 & 141927 & 103132 & 94089 & 92482 & 145080 & 142994 & 103343 & 94060 & 146255 & 112423 & 110680 & 94198 & 152091 & 103608 & 95018 & 147181 & 107303 & 104949 & 95980 & 97399 & 145947 & 98332 & 97107 & 153110 & 165202 & 149256 & 112794 & 148813 & 146014 & 108781 & 108063 & 100591 & 162769 & 151143 & 156912 & 151903 & 115467 & 101451 & 121516 & 104265 & 160709 & 152603 & 109069 & 162420 & 154046 & 116084 & 121485 & 119572 & 112404 & 117899 & 111953 & 153531 & 117919 & 166208 & 158647 & 119783 & 167460 & 160290 & 119596 & 120007 & 120241 & 119769 & 175480 & 169100 & 122195 & 122172 & 177223 & 171295 & 167803 & 123697 & 122813 & 176319 & 177652 & 173846 & 179040 & 178081 & 181148 & 181330 & 183268 & 145763 & 180157 & 183147 & 176057 & 177317 & 169454 & 169522 & 173044 & 171527 & 190266 & 189719 & 171326 & 187779 & 175280 & 172657 & 185285 & 184640 & 190720 & 199645 & 193458 & 191348 & 177482 & 175971 & 202606 & 187820 & 176337 & 196473 & 189441 & 176418 & 194419 & 195231 & 193555 & 208871 & 211119 & 212574 & 214664 & 228514 & 230333 & 196993 & 201160 & 200677 & 201278 & 200408 & 200099 \\\\\n",
       "\t15 & 45735 & 44740 & 67823 & 133357 & 130301 & 90833 & 139509 & 138648 & 94209 & 93680 & 101808 & 96307 & 140600 & 97262 & 142277 & 139101 & 97596 & 96920 & 140019 & 101224 & 99078 & 97471 & 143172 & 141085 & 101434 & 99049 & 144347 & 110515 & 108772 & 99187 & 150183 & 101700 & 100007 & 145273 & 105395 & 103041 & 100969 & 102388 & 144039 & 103321 & 102096 & 151202 & 163294 & 147348 & 110886 & 146905 & 144106 & 106873 & 106154 & 105581 & 160861 & 149235 & 155004 & 149995 & 113558 & 106440 & 119607 & 109255 & 158801 & 150695 & 107161 & 160512 & 152137 & 114176 & 119576 & 117664 & 110496 & 115991 & 110045 & 151622 & 116011 & 164300 & 156739 & 117875 & 165552 & 158382 & 117688 & 118099 & 118332 & 117861 & 173572 & 167192 & 120287 & 120264 & 175315 & 169387 & 165895 & 121789 & 120905 & 174411 & 175743 & 171938 & 177132 & 176173 & 179240 & 179422 & 181360 & 150683 & 185146 & 188136 & 181047 & 182307 & 174443 & 174511 & 178034 & 176517 & 195256 & 194709 & 176315 & 192768 & 180269 & 177647 & 190274 & 189629 & 195709 & 204634 & 198447 & 196338 & 182472 & 180961 & 207595 & 192809 & 181327 & 201462 & 194430 & 181407 & 199409 & 200220 & 198544 & 213860 & 216109 & 217563 & 219653 & 233504 & 235323 & 201982 & 206150 & 205667 & 206268 & 205398 & 205088 \\\\\n",
       "\t16 & 44843 & 43847 & 62754 & 128287 & 125231 & 90171 & 134439 & 133578 & 93547 & 93017 & 96738 & 95644 & 135530 & 96600 & 137208 & 134031 & 96934 & 96257 & 134949 & 96154 & 98416 & 96809 & 138103 & 136016 & 96365 & 98387 & 139277 & 105445 & 103702 & 98525 & 145113 & 96630 & 99345 & 140203 & 100325 & 97971 & 100307 & 101726 & 138970 & 102659 & 101434 & 146133 & 158225 & 142278 & 105816 & 141836 & 139036 & 101804 & 101085 & 104918 & 155791 & 144166 & 149935 & 144925 & 108489 & 105778 & 114538 & 108592 & 153731 & 145625 & 102091 & 155442 & 147068 & 109106 & 114507 & 112594 & 105426 & 110921 & 104975 & 146553 & 110941 & 159231 & 151670 & 112805 & 160483 & 153312 & 112618 & 113029 & 113263 & 112791 & 168502 & 162123 & 115217 & 115195 & 170245 & 164317 & 160826 & 116720 & 115835 & 169342 & 170674 & 166869 & 172062 & 171103 & 174171 & 174352 & 176290 & 145613 & 184484 & 187474 & 180384 & 181644 & 171908 & 173849 & 175499 & 173982 & 194593 & 194046 & 175653 & 192106 & 176139 & 176984 & 189612 & 188967 & 195047 & 203972 & 197785 & 195675 & 179937 & 180298 & 206933 & 192147 & 180664 & 200800 & 193768 & 180745 & 198746 & 199558 & 197882 & 213198 & 215446 & 216901 & 218991 & 232841 & 234660 & 197365 & 201533 & 201050 & 201651 & 200781 & 200471 \\\\\n",
       "\t17 & 45486 & 44490 & 62110 & 127644 & 124588 & 90210 & 133796 & 132935 & 93586 & 93057 & 96095 & 95683 & 134887 & 96639 & 136564 & 133388 & 96973 & 96296 & 134306 & 95511 & 98455 & 96848 & 137459 & 135372 & 95721 & 98426 & 138634 & 104802 & 103059 & 98564 & 144470 & 95987 & 99384 & 139560 & 99682 & 97328 & 100346 & 101765 & 138326 & 102698 & 101473 & 145489 & 157581 & 141635 & 105173 & 141192 & 138393 & 101160 & 100441 & 104958 & 155148 & 143522 & 149291 & 144282 & 107845 & 105817 & 113894 & 108632 & 153088 & 144982 & 101448 & 154799 & 146424 & 108463 & 113863 & 111951 & 104783 & 110278 & 104332 & 145909 & 110298 & 158587 & 151026 & 112162 & 159839 & 152669 & 111975 & 112386 & 112619 & 112148 & 167859 & 161479 & 114574 & 114551 & 169602 & 163674 & 160182 & 116076 & 115192 & 168698 & 170030 & 166225 & 171419 & 170460 & 173527 & 173709 & 175647 & 144970 & 184523 & 187513 & 180424 & 181683 & 171265 & 173383 & 174856 & 173338 & 194632 & 194086 & 175692 & 192145 & 175496 & 176519 & 189651 & 189006 & 195086 & 204011 & 197824 & 195715 & 179293 & 179773 & 206972 & 192186 & 180139 & 200839 & 193807 & 180784 & 198786 & 199597 & 197921 & 213237 & 215486 & 216940 & 219030 & 232880 & 234699 & 196722 & 200890 & 200407 & 201007 & 200137 & 199828 \\\\\n",
       "\t18 & 45417 & 44421 & 62523 & 128057 & 125001 & 89798 & 134209 & 133348 & 93173 & 92644 & 96508 & 95271 & 135300 & 96227 & 136977 & 133801 & 96560 & 95884 & 134719 & 95924 & 98043 & 96436 & 137872 & 135785 & 96134 & 98013 & 139046 & 105215 & 103472 & 98151 & 144883 & 96399 & 98971 & 139973 & 100094 & 97741 & 99933 & 101352 & 138739 & 102285 & 101061 & 145902 & 157994 & 142047 & 105585 & 141605 & 138805 & 101573 & 100854 & 104545 & 155560 & 143935 & 149704 & 144695 & 108258 & 105404 & 114307 & 108219 & 153500 & 145394 & 101861 & 155212 & 146837 & 108876 & 114276 & 112363 & 105195 & 110691 & 104744 & 146322 & 110710 & 159000 & 151439 & 112574 & 160252 & 153082 & 112388 & 112799 & 113032 & 112561 & 168272 & 161892 & 114987 & 114964 & 170014 & 164086 & 160595 & 116489 & 115605 & 169111 & 170443 & 166638 & 171831 & 170873 & 173940 & 174122 & 176059 & 145383 & 184110 & 187101 & 180011 & 181271 & 171677 & 173475 & 175268 & 173751 & 194220 & 193673 & 175280 & 191733 & 175909 & 176611 & 189239 & 188593 & 194673 & 203599 & 197411 & 195302 & 179706 & 179925 & 206560 & 191774 & 180291 & 200427 & 193395 & 180372 & 198373 & 199185 & 197509 & 212825 & 215073 & 216527 & 218617 & 232468 & 234287 & 197134 & 201302 & 200819 & 201420 & 200550 & 200241 \\\\\n",
       "\t19 & 46012 & 45016 & 63117 & 128651 & 125595 & 89203 & 134803 & 133942 & 92579 & 92050 & 97102 & 94676 & 135894 & 95632 & 137571 & 134395 & 95966 & 95289 & 135313 & 96518 & 97448 & 95841 & 138466 & 136379 & 96728 & 97419 & 139641 & 105809 & 104066 & 97557 & 145477 & 96994 & 98377 & 140567 & 100689 & 98335 & 99339 & 100758 & 139333 & 101691 & 100466 & 146496 & 158588 & 142642 & 106180 & 142199 & 139400 & 102167 & 101448 & 103951 & 156155 & 144529 & 150298 & 145289 & 108852 & 104810 & 114901 & 107625 & 154095 & 145989 & 102455 & 155806 & 147431 & 109470 & 114870 & 112958 & 105790 & 111285 & 105339 & 146916 & 111304 & 159594 & 152033 & 113169 & 160846 & 153676 & 112982 & 113393 & 113626 & 113155 & 168866 & 162486 & 115581 & 115558 & 170609 & 164680 & 161189 & 117083 & 116199 & 169705 & 171037 & 167232 & 172426 & 171467 & 174534 & 174716 & 176654 & 145977 & 183516 & 186506 & 179417 & 180676 & 172272 & 172881 & 175863 & 174345 & 193625 & 193079 & 174685 & 191138 & 176503 & 176017 & 188644 & 187999 & 194079 & 203004 & 196817 & 194708 & 180300 & 179331 & 205965 & 191179 & 179697 & 199832 & 192800 & 179777 & 197779 & 198590 & 196914 & 212230 & 214479 & 215933 & 218023 & 231873 & 233693 & 197729 & 201897 & 201414 & 202014 & 201144 & 200835 \\\\\n",
       "\t20 & 46776 & 45781 & 63882 & 129416 & 126360 & 88438 & 135568 & 134707 & 91814 & 91285 & 97867 & 93912 & 136659 & 94867 & 138336 & 135160 & 95201 & 94525 & 136078 & 97283 & 96683 & 95077 & 139231 & 137144 & 97493 & 96654 & 140406 & 106574 & 104831 & 96792 & 146242 & 97758 & 97612 & 141332 & 101454 & 99100 & 98574 & 99993 & 140098 & 100926 & 99701 & 147261 & 159353 & 143406 & 106944 & 142964 & 140165 & 102932 & 102213 & 103186 & 156920 & 145294 & 151063 & 146054 & 109617 & 104045 & 115666 & 106860 & 154859 & 146754 & 103220 & 156571 & 148196 & 110235 & 115635 & 113722 & 106555 & 112050 & 106104 & 147681 & 112069 & 160359 & 152798 & 113933 & 161611 & 154441 & 113747 & 114158 & 114391 & 113920 & 169631 & 163251 & 116346 & 116323 & 171374 & 165445 & 161954 & 117848 & 116964 & 170470 & 171802 & 167997 & 173191 & 172232 & 175299 & 175481 & 177419 & 146742 & 182751 & 185741 & 178652 & 179912 & 172048 & 172116 & 175639 & 174122 & 192861 & 192314 & 173920 & 190373 & 177268 & 175252 & 187879 & 187234 & 193314 & 202240 & 196052 & 193943 & 180077 & 178566 & 205201 & 190414 & 178932 & 199067 & 192035 & 179012 & 197014 & 197825 & 196149 & 211466 & 213714 & 215168 & 217258 & 231109 & 232928 & 198494 & 202661 & 202179 & 202779 & 201909 & 201600 \\\\\n",
       "\t21 & 47435 & 46439 & 64540 & 130074 & 127018 & 88123 & 136226 & 135365 & 91499 & 90970 & 98525 & 93596 & 137317 & 94552 & 138994 & 135818 & 94886 & 94209 & 136736 & 97941 & 96368 & 94761 & 139889 & 137803 & 98152 & 96339 & 141064 & 107232 & 105489 & 96477 & 146900 & 98417 & 97297 & 141990 & 102112 & 99758 & 98259 & 99678 & 140756 & 100611 & 99386 & 147919 & 160011 & 144065 & 107603 & 143622 & 140823 & 103590 & 102872 & 102871 & 157578 & 145952 & 151721 & 146712 & 110276 & 103730 & 116325 & 106545 & 155518 & 147412 & 103878 & 157229 & 148855 & 110893 & 116294 & 114381 & 107213 & 112708 & 106762 & 148340 & 112728 & 161017 & 153456 & 114592 & 162269 & 155099 & 114405 & 114816 & 115050 & 114578 & 170289 & 163910 & 117004 & 116981 & 172032 & 166104 & 162612 & 118506 & 117622 & 171129 & 172461 & 168655 & 173849 & 172890 & 175957 & 176139 & 178077 & 147400 & 182436 & 185426 & 178337 & 179596 & 171733 & 171801 & 175324 & 173806 & 192545 & 191999 & 173605 & 190058 & 177559 & 174937 & 187564 & 186919 & 192999 & 201924 & 195737 & 193628 & 179761 & 178251 & 204885 & 190099 & 178617 & 198752 & 191720 & 178697 & 196699 & 197510 & 195834 & 211150 & 213399 & 214853 & 216943 & 230793 & 232612 & 199152 & 203320 & 202837 & 203438 & 202568 & 202258 \\\\\n",
       "\t22 & 47574 & 46578 & 64679 & 130213 & 127157 & 87984 & 136365 & 135504 & 91360 & 90831 & 98664 & 93457 & 137456 & 94413 & 139133 & 135957 & 94747 & 94070 & 136875 & 98080 & 96229 & 94622 & 140028 & 137942 & 98291 & 96200 & 141203 & 107371 & 105628 & 96338 & 147039 & 98556 & 97158 & 142129 & 102251 & 99897 & 98120 & 99539 & 140895 & 100472 & 99247 & 148058 & 160150 & 144204 & 107742 & 143761 & 140962 & 103729 & 103011 & 102732 & 157717 & 146091 & 151860 & 146851 & 110415 & 103591 & 116464 & 106406 & 155657 & 147551 & 104017 & 157368 & 148994 & 111032 & 116433 & 114520 & 107352 & 112847 & 106901 & 148479 & 112867 & 161156 & 153595 & 114731 & 162408 & 155238 & 114544 & 114955 & 115189 & 114717 & 170428 & 164048 & 117143 & 117120 & 172171 & 166243 & 162751 & 118645 & 117761 & 171267 & 172600 & 168794 & 173988 & 173029 & 176096 & 176278 & 178216 & 147539 & 182297 & 185287 & 178198 & 179457 & 171594 & 171662 & 175185 & 173667 & 192406 & 191860 & 173466 & 189919 & 177420 & 174798 & 187425 & 186780 & 192860 & 201785 & 195598 & 193489 & 179622 & 178112 & 204746 & 189960 & 178478 & 198613 & 191581 & 178558 & 196560 & 197371 & 195695 & 211011 & 213260 & 214714 & 216804 & 230654 & 232473 & 199133 & 203301 & 202818 & 203418 & 202548 & 202239 \\\\\n",
       "\t23 & 47574 & 46578 & 64679 & 130213 & 127157 & 87984 & 136365 & 135504 & 91360 & 90831 & 98664 & 93457 & 137456 & 94413 & 139133 & 135957 & 94747 & 94070 & 136875 & 98080 & 96229 & 94622 & 140028 & 137942 & 98291 & 96200 & 141203 & 107371 & 105628 & 96338 & 147039 & 98556 & 97158 & 142129 & 102251 & 99897 & 98120 & 99539 & 140895 & 100472 & 99247 & 148058 & 160150 & 144204 & 107742 & 143761 & 140962 & 103729 & 103011 & 102732 & 157717 & 146091 & 151860 & 146851 & 110415 & 103591 & 116464 & 106406 & 155657 & 147551 & 104017 & 157368 & 148994 & 111032 & 116433 & 114520 & 107352 & 112847 & 106901 & 148479 & 112867 & 161156 & 153595 & 114731 & 162408 & 155238 & 114544 & 114955 & 115189 & 114717 & 170428 & 164048 & 117143 & 117120 & 172171 & 166243 & 162751 & 118645 & 117761 & 171267 & 172600 & 168794 & 173988 & 173029 & 176096 & 176278 & 178216 & 147539 & 182297 & 185287 & 178198 & 179457 & 171594 & 171662 & 175185 & 173667 & 192406 & 191860 & 173466 & 189919 & 177420 & 174798 & 187425 & 186780 & 192860 & 201785 & 195598 & 193489 & 179622 & 178112 & 204746 & 189960 & 178478 & 198613 & 191581 & 178558 & 196560 & 197371 & 195695 & 211011 & 213260 & 214714 & 216804 & 230654 & 232473 & 199133 & 203301 & 202818 & 203418 & 202548 & 202239 \\\\\n",
       "\t24 & 46229 & 45233 & 63335 & 128868 & 125812 & 88986 & 135020 & 134160 & 92362 & 91832 & 97319 & 94459 & 136111 & 95415 & 137789 & 134612 & 95749 & 95072 & 135530 & 96735 & 97231 & 95624 & 138684 & 136597 & 96946 & 97202 & 139858 & 106026 & 104283 & 97340 & 145695 & 97211 & 98160 & 140784 & 100906 & 98552 & 99122 & 100541 & 139551 & 101474 & 100249 & 146714 & 158806 & 142859 & 106397 & 142417 & 139617 & 102385 & 101666 & 103733 & 156372 & 144747 & 150516 & 145507 & 109070 & 104593 & 115119 & 107407 & 154312 & 146206 & 102672 & 156023 & 147649 & 109687 & 115088 & 113175 & 106007 & 111502 & 105556 & 147134 & 111522 & 159812 & 152251 & 113386 & 161064 & 153893 & 113199 & 113610 & 113844 & 113372 & 169083 & 162704 & 115798 & 115776 & 170826 & 164898 & 161407 & 117301 & 116416 & 169923 & 171255 & 167450 & 172643 & 171684 & 174752 & 174933 & 176871 & 146194 & 183299 & 186289 & 179199 & 180459 & 172489 & 172664 & 176080 & 174563 & 193408 & 192861 & 174468 & 190921 & 176720 & 175799 & 188427 & 187782 & 193862 & 202787 & 196600 & 194490 & 180518 & 179113 & 205748 & 190962 & 179479 & 199615 & 192583 & 179560 & 197561 & 198373 & 196697 & 212013 & 214261 & 215716 & 217806 & 231656 & 233475 & 197946 & 202114 & 201631 & 202232 & 201362 & 201052 \\\\\n",
       "\t25 & 47541 & 46545 & 64647 & 130180 & 127124 & 87674 & 136332 & 135471 & 91050 & 90520 & 98631 & 93147 & 137423 & 94103 & 139101 & 135924 & 94437 & 93760 & 136842 & 98047 & 95919 & 94312 & 139996 & 137909 & 98258 & 95890 & 141170 & 107338 & 105595 & 96028 & 147006 & 98523 & 96848 & 142096 & 102218 & 99864 & 97810 & 99229 & 140863 & 100162 & 98937 & 148026 & 160118 & 144171 & 107709 & 143729 & 140929 & 103697 & 102978 & 102421 & 157684 & 146059 & 151828 & 146819 & 110382 & 103281 & 116431 & 106095 & 155624 & 147518 & 103984 & 157335 & 148961 & 110999 & 116400 & 114487 & 107319 & 112814 & 106868 & 148446 & 112834 & 161124 & 153563 & 114698 & 162376 & 155205 & 114511 & 114922 & 115156 & 114684 & 170395 & 164016 & 117110 & 117088 & 172138 & 166210 & 162719 & 118613 & 117728 & 171235 & 172567 & 168762 & 173955 & 172996 & 176064 & 176245 & 178183 & 147506 & 181987 & 184977 & 177887 & 179147 & 171284 & 171352 & 174874 & 173357 & 192096 & 191549 & 173156 & 189609 & 177110 & 174488 & 187115 & 186470 & 192550 & 201475 & 195288 & 193178 & 179312 & 177801 & 204436 & 189650 & 178167 & 198303 & 191271 & 178248 & 196250 & 197061 & 195385 & 210701 & 212949 & 214404 & 216494 & 230344 & 232163 & 198823 & 202990 & 202507 & 203108 & 202238 & 201929 \\\\\n",
       "\t26 & 48276 & 47280 & 65381 & 130915 & 127859 & 86939 & 137067 & 136206 & 90315 & 89786 & 99366 & 92413 & 138158 & 93368 & 139835 & 136659 & 93702 & 93026 & 137577 & 98782 & 95184 & 93577 & 140730 & 138643 & 98992 & 95155 & 141905 & 108073 & 106330 & 95293 & 147741 & 99257 & 96113 & 142831 & 102953 & 100599 & 97075 & 98494 & 141597 & 99427 & 98202 & 148760 & 160852 & 144905 & 108443 & 144463 & 141664 & 104431 & 103712 & 101687 & 158419 & 146793 & 152562 & 147553 & 111116 & 102546 & 117165 & 105361 & 156358 & 148253 & 104719 & 158070 & 149695 & 111734 & 117134 & 115221 & 108054 & 113549 & 107603 & 149180 & 113568 & 161858 & 154297 & 115433 & 163110 & 155940 & 115246 & 115657 & 115890 & 115419 & 171130 & 164750 & 117845 & 117822 & 172873 & 166944 & 163453 & 119347 & 118463 & 171969 & 173301 & 169496 & 174690 & 173731 & 176798 & 176980 & 178918 & 146859 & 181252 & 184242 & 177153 & 178413 & 170549 & 170617 & 174140 & 172623 & 191362 & 190815 & 172421 & 188874 & 176375 & 173753 & 186380 & 185735 & 191815 & 200740 & 194553 & 192444 & 178578 & 177067 & 203701 & 188915 & 177433 & 197568 & 190536 & 177513 & 195515 & 196326 & 194650 & 209967 & 212215 & 213669 & 215759 & 229610 & 231429 & 198088 & 202256 & 201773 & 202374 & 201504 & 201194 \\\\\n",
       "\t27 & 46730 & 45551 & 74180 & 139714 & 136658 & 84669 & 145866 & 145005 & 88045 & 87515 & 107418 & 90142 & 146957 & 91098 & 148634 & 145458 & 91432 & 90755 & 146376 & 106834 & 92914 & 91307 & 149529 & 147442 & 107045 & 92884 & 150703 & 116125 & 114382 & 93023 & 156540 & 107310 & 93842 & 151630 & 111005 & 108651 & 94804 & 96224 & 150396 & 97157 & 95932 & 157559 & 169651 & 153704 & 116496 & 153262 & 150462 & 112484 & 111765 & 99416 & 167217 & 155592 & 161361 & 156352 & 119169 & 100276 & 125218 & 103090 & 165157 & 157051 & 112771 & 166869 & 158494 & 119786 & 125187 & 123274 & 116106 & 121601 & 115655 & 157979 & 121621 & 170657 & 163096 & 123485 & 171909 & 164739 & 123298 & 123709 & 123943 & 123471 & 179929 & 173549 & 125897 & 125875 & 181672 & 175743 & 172252 & 127400 & 126515 & 180768 & 182100 & 178295 & 183489 & 182530 & 185597 & 185779 & 187716 & 144588 & 178982 & 181972 & 174882 & 176142 & 168278 & 168347 & 171869 & 170352 & 189091 & 188544 & 170151 & 186604 & 174105 & 171482 & 184110 & 183465 & 189545 & 198470 & 192283 & 190173 & 176307 & 174796 & 201431 & 186645 & 175162 & 195298 & 188266 & 175243 & 193244 & 194056 & 192380 & 207696 & 209944 & 211399 & 213488 & 227339 & 229158 & 195818 & 199985 & 199502 & 200103 & 199233 & 198924 \\\\\n",
       "\t28 & 48972 & 47976 & 66077 & 131611 & 128555 & 86243 & 137763 & 136902 & 89619 & 89090 & 100062 & 91717 & 138854 & 92672 & 140531 & 137355 & 93006 & 92330 & 138273 & 99478 & 94488 & 92881 & 141426 & 139339 & 99688 & 94459 & 142601 & 108769 & 107026 & 94597 & 148437 & 99953 & 95417 & 143527 & 103649 & 101295 & 96379 & 97798 & 142293 & 98731 & 97506 & 149456 & 161548 & 145601 & 109139 & 145159 & 142360 & 105127 & 104408 & 100991 & 159115 & 147489 & 153258 & 148249 & 111812 & 101850 & 117861 & 104665 & 157054 & 148949 & 105415 & 158766 & 150391 & 112430 & 117830 & 115917 & 108750 & 114245 & 108299 & 149876 & 114264 & 162554 & 154993 & 116129 & 163806 & 156636 & 115942 & 116353 & 116586 & 116115 & 171826 & 165446 & 118541 & 118518 & 173569 & 167640 & 164149 & 120043 & 119159 & 172665 & 173997 & 170192 & 175386 & 174427 & 177494 & 177676 & 179614 & 146163 & 180556 & 183546 & 176457 & 177717 & 169853 & 169921 & 173444 & 171927 & 190666 & 190119 & 171725 & 188178 & 175679 & 173057 & 185684 & 185039 & 191119 & 200044 & 193857 & 191748 & 177882 & 176371 & 203005 & 188219 & 176737 & 196872 & 189840 & 176817 & 194819 & 195630 & 193954 & 209271 & 211519 & 212973 & 215063 & 228914 & 230733 & 197392 & 201560 & 201077 & 201678 & 200808 & 200498 \\\\\n",
       "\t29 & 48714 & 47718 & 65819 & 131353 & 128297 & 86501 & 137505 & 136644 & 89877 & 89348 & 99804 & 91974 & 138596 & 92930 & 140273 & 137097 & 93264 & 92587 & 138015 & 99220 & 94746 & 93139 & 141168 & 139082 & 99431 & 94717 & 142343 & 108511 & 106768 & 94855 & 148179 & 99696 & 95675 & 143269 & 103391 & 101037 & 96637 & 98056 & 142035 & 98989 & 97764 & 149198 & 161290 & 145344 & 108882 & 144901 & 142102 & 104869 & 104150 & 101249 & 158857 & 147231 & 153000 & 147991 & 111555 & 102108 & 117603 & 104923 & 156797 & 148691 & 105157 & 158508 & 150133 & 112172 & 117572 & 115660 & 108492 & 113987 & 108041 & 149618 & 114007 & 162296 & 154735 & 115871 & 163548 & 156378 & 115684 & 116095 & 116328 & 115857 & 171568 & 165188 & 118283 & 118260 & 173311 & 167383 & 163891 & 119785 & 118901 & 172407 & 173739 & 169934 & 175128 & 174169 & 177236 & 177418 & 179356 & 146420 & 180814 & 183804 & 176715 & 177974 & 170111 & 170179 & 173702 & 172185 & 190923 & 190377 & 171983 & 188436 & 175937 & 173315 & 185942 & 185297 & 191377 & 200302 & 194115 & 192006 & 178139 & 176629 & 203263 & 188477 & 176995 & 197130 & 190098 & 177075 & 195077 & 195888 & 194212 & 209528 & 211777 & 213231 & 215321 & 229171 & 230990 & 197650 & 201818 & 201335 & 201936 & 201066 & 200756 \\\\\n",
       "\t30 & 50041 & 48474 & 69731 & 135265 & 132209 & 85844 & 141417 & 140556 & 89220 & 88690 & 103716 & 91317 & 142508 & 92273 & 144185 & 141009 & 92607 & 91930 & 141927 & 103132 & 94089 & 92482 & 145080 & 142994 & 103343 & 94060 & 146255 & 112423 & 110680 & 94198 & 152091 & 103608 & 95018 & 147181 & 107303 & 104949 & 95980 & 97399 & 145947 & 98332 & 97107 & 153110 & 165202 & 149256 & 112794 & 148813 & 146014 & 108781 & 108063 & 100591 & 162769 & 151143 & 156912 & 151903 & 115467 & 101451 & 121516 & 104265 & 160709 & 152603 & 109069 & 162420 & 154046 & 116084 & 121485 & 119572 & 112404 & 117899 & 111953 & 153531 & 117919 & 166208 & 158647 & 119783 & 167460 & 160290 & 119596 & 120007 & 120241 & 119769 & 175480 & 169100 & 122195 & 122172 & 177223 & 171295 & 167803 & 123697 & 122813 & 176319 & 177652 & 173846 & 179040 & 178081 & 181148 & 181330 & 183268 & 145763 & 180157 & 183147 & 176057 & 177317 & 169454 & 169522 & 173044 & 171527 & 190266 & 189719 & 171326 & 187779 & 175280 & 172657 & 185285 & 184640 & 190720 & 199645 & 193458 & 191348 & 177482 & 175971 & 202606 & 187820 & 176337 & 196473 & 189441 & 176418 & 194419 & 195231 & 193555 & 208871 & 211119 & 212574 & 214664 & 228514 & 230333 & 196993 & 201160 & 200677 & 201278 & 200408 & 200099 \\\\\n",
       "\t$\\dots$ & $\\dots$ & $\\dots$ & $\\dots$ & $\\dots$ & $\\dots$ & $\\dots$ & $\\dots$ & $\\dots$ & $\\dots$ & $\\dots$ & $\\dots$ & $\\dots$ & $\\dots$ & $\\dots$ & $\\dots$ & $\\dots$ & $\\dots$ & $\\dots$ & $\\dots$ & $\\dots$ & $\\dots$ & $\\dots$ & $\\dots$ & $\\dots$ & $\\dots$ & $\\dots$ & $\\dots$ & $\\dots$ & $\\dots$ & $\\dots$ & $\\dots$ & $\\dots$ & $\\dots$ & $\\dots$ & $\\dots$ & $\\dots$ & $\\dots$ & $\\dots$ & $\\dots$ & $\\dots$ & $\\dots$ & $\\dots$ & $\\dots$ & $\\dots$ & $\\dots$ & $\\dots$ & $\\dots$ & $\\dots$ & $\\dots$ & $\\dots$ & $\\dots$ & $\\dots$ & $\\dots$ & $\\dots$ & $\\dots$ & $\\dots$ & $\\dots$ & $\\dots$ & $\\dots$ & $\\dots$ & $\\dots$ & $\\dots$ & $\\dots$ & $\\dots$ & $\\dots$ & $\\dots$ & $\\dots$ & $\\dots$ & $\\dots$ & $\\dots$ & $\\dots$ & $\\dots$ & $\\dots$ & $\\dots$ & $\\dots$ & $\\dots$ & $\\dots$ & $\\dots$ & $\\dots$ & $\\dots$ & $\\dots$ & $\\dots$ & $\\dots$ & $\\dots$ & $\\dots$ & $\\dots$ & $\\dots$ & $\\dots$ & $\\dots$ & $\\dots$ & $\\dots$ & $\\dots$ & $\\dots$ & $\\dots$ & $\\dots$ & $\\dots$ & $\\dots$ & $\\dots$ & $\\dots$ & $\\dots$ & $\\dots$ & $\\dots$ & $\\dots$ & $\\dots$ & $\\dots$ & $\\dots$ & $\\dots$ & $\\dots$ & $\\dots$ & $\\dots$ & $\\dots$ & $\\dots$ & $\\dots$ & $\\dots$ & $\\dots$ & $\\dots$ & $\\dots$ & $\\dots$ & $\\dots$ & $\\dots$ & $\\dots$ & $\\dots$ & $\\dots$ & $\\dots$ & $\\dots$ & $\\dots$ & $\\dots$ & $\\dots$ & $\\dots$ & $\\dots$ & $\\dots$ & $\\dots$ & $\\dots$ & $\\dots$ & $\\dots$ & $\\dots$ & $\\dots$ & $\\dots$ & $\\dots$ & $\\dots$ & $\\dots$ \\\\\n",
       "\\end{tabular}\n"
      ],
      "text/plain": [
       "34559×141 DataFrames.DataFrame. Omitted printing of 134 columns\n",
       "│ Row   │ Column1 │ Column2 │ Column3 │ Column4 │ Column5 │ Column6 │ Column7 │\n",
       "│       │ \u001b[90mInt64⍰\u001b[39m  │ \u001b[90mInt64⍰\u001b[39m  │ \u001b[90mInt64⍰\u001b[39m  │ \u001b[90mInt64⍰\u001b[39m  │ \u001b[90mInt64⍰\u001b[39m  │ \u001b[90mInt64⍰\u001b[39m  │ \u001b[90mInt64⍰\u001b[39m  │\n",
       "├───────┼─────────┼─────────┼─────────┼─────────┼─────────┼─────────┼─────────┤\n",
       "│ 1     │ 39805   │ 38809   │ 70271   │ 135805  │ 132749  │ 85670   │ 141957  │\n",
       "│ 2     │ 39908   │ 38912   │ 70375   │ 135909  │ 132853  │ 85566   │ 142061  │\n",
       "│ 3     │ 41356   │ 40361   │ 67495   │ 133029  │ 129973  │ 85429   │ 139181  │\n",
       "│ 4     │ 45735   │ 44740   │ 67823   │ 133357  │ 130301  │ 90833   │ 139509  │\n",
       "│ 5     │ 44807   │ 43811   │ 66895   │ 132428  │ 129372  │ 89905   │ 138580  │\n",
       "│ 6     │ 45523   │ 44527   │ 67610   │ 133144  │ 130088  │ 90621   │ 139296  │\n",
       "│ 7     │ 46386   │ 45390   │ 63491   │ 129025  │ 125969  │ 88829   │ 135177  │\n",
       "│ 8     │ 46730   │ 45551   │ 74180   │ 139714  │ 136658  │ 84669   │ 145866  │\n",
       "│ 9     │ 46524   │ 45528   │ 61073   │ 126606  │ 123550  │ 90922   │ 132758  │\n",
       "│ 10    │ 49444   │ 48448   │ 63319   │ 128853  │ 125797  │ 89963   │ 135005  │\n",
       "⋮\n",
       "│ 34549 │ 213337  │ 212342  │ 114653  │ 45194   │ 45250   │ 146473  │ 43183   │\n",
       "│ 34550 │ 213187  │ 212191  │ 114503  │ 45043   │ 45100   │ 146322  │ 43033   │\n",
       "│ 34551 │ 213059  │ 212063  │ 114375  │ 44915   │ 44972   │ 146194  │ 42905   │\n",
       "│ 34552 │ 213808  │ 212812  │ 115123  │ 45664   │ 45721   │ 146601  │ 43654   │\n",
       "│ 34553 │ 213636  │ 212640  │ 114951  │ 45492   │ 45549   │ 146771  │ 43481   │\n",
       "│ 34554 │ 215800  │ 214804  │ 112419  │ 47656   │ 47713   │ 143226  │ 46084   │\n",
       "│ 34555 │ 215449  │ 214453  │ 116764  │ 47305   │ 47362   │ 146434  │ 43172   │\n",
       "│ 34556 │ 214080  │ 213085  │ 115396  │ 45936   │ 45993   │ 146328  │ 43926   │\n",
       "│ 34557 │ 244970  │ 243974  │ 140119  │ 85564   │ 85621   │ 160937  │ 81905   │\n",
       "│ 34558 │ 246419  │ 245423  │ 141568  │ 87013   │ 87070   │ 159489  │ 83354   │\n",
       "│ 34559 │ 245629  │ 244061  │ 176154  │ 170207  │ 170264  │ 133354  │ 173640  │"
      ]
     },
     "execution_count": 84,
     "metadata": {},
     "output_type": "execute_result"
    }
   ],
   "source": [
    "dist1_0=CSV.read(\"distance.csv\",header=false)"
   ]
  },
  {
   "cell_type": "code",
   "execution_count": 86,
   "metadata": {},
   "outputs": [],
   "source": [
    "dist1=convert(Matrix,dist1_0)"
   ]
  },
  {
   "cell_type": "code",
   "execution_count": 88,
   "metadata": {},
   "outputs": [
    {
     "data": {
      "text/plain": [
       "Dict{Any,Any} with 0 entries"
      ]
     },
     "execution_count": 88,
     "metadata": {},
     "output_type": "execute_result"
    }
   ],
   "source": [
    "dist_ij_dict=Dict()"
   ]
  },
  {
   "cell_type": "code",
   "execution_count": 90,
   "metadata": {},
   "outputs": [],
   "source": [
    "for i in 1:length(supply_nodes)\n",
    "    for j in 1:length(middle_nodes)\n",
    "        dist_ij_dict[supply_nodes[i],middle_nodes[j]]=dist1[i,j]\n",
    "    end\n",
    "end"
   ]
  },
  {
   "cell_type": "code",
   "execution_count": 92,
   "metadata": {},
   "outputs": [
    {
     "data": {
      "text/html": [
       "<table class=\"data-frame\"><thead><tr><th></th><th>Column1</th><th>Column2</th><th>Column3</th><th>Column4</th><th>Column5</th><th>Column6</th><th>Column7</th><th>Column8</th><th>Column9</th><th>Column10</th><th>Column11</th><th>Column12</th><th>Column13</th><th>Column14</th><th>Column15</th><th>Column16</th><th>Column17</th><th>Column18</th><th>Column19</th><th>Column20</th><th>Column21</th><th>Column22</th><th>Column23</th></tr><tr><th></th><th>Int64⍰</th><th>Int64⍰</th><th>Int64⍰</th><th>Int64⍰</th><th>Int64⍰</th><th>Int64⍰</th><th>Int64⍰</th><th>Int64⍰</th><th>Int64⍰</th><th>Int64⍰</th><th>Int64⍰</th><th>Int64⍰</th><th>Int64⍰</th><th>Int64⍰</th><th>Int64⍰</th><th>Int64⍰</th><th>Int64⍰</th><th>Int64⍰</th><th>Int64⍰</th><th>Int64⍰</th><th>Int64⍰</th><th>Int64⍰</th><th>Int64⍰</th></tr></thead><tbody><p>141 rows × 23 columns</p><tr><th>1</th><td>193925</td><td>192553</td><td>193152</td><td>210254</td><td>195906</td><td>193194</td><td>193519</td><td>213140</td><td>214378</td><td>201243</td><td>201381</td><td>216010</td><td>199312</td><td>218888</td><td>208191</td><td>213331</td><td>213241</td><td>212279</td><td>215179</td><td>213277</td><td>192321</td><td>193109</td><td>193284</td></tr><tr><th>2</th><td>192358</td><td>190985</td><td>191585</td><td>208687</td><td>194338</td><td>191626</td><td>191951</td><td>211572</td><td>212810</td><td>199675</td><td>199814</td><td>214442</td><td>197744</td><td>217320</td><td>206623</td><td>211763</td><td>211673</td><td>210711</td><td>213612</td><td>211709</td><td>190753</td><td>191542</td><td>191716</td></tr><tr><th>3</th><td>97026</td><td>96798</td><td>96253</td><td>128998</td><td>99006</td><td>96294</td><td>96619</td><td>136686</td><td>121990</td><td>105810</td><td>104482</td><td>121843</td><td>102412</td><td>143618</td><td>127752</td><td>137832</td><td>135965</td><td>131840</td><td>139910</td><td>136001</td><td>96565</td><td>97354</td><td>96384</td></tr><tr><th>4</th><td>90352</td><td>90912</td><td>90367</td><td>117942</td><td>91832</td><td>90408</td><td>90371</td><td>126912</td><td>110933</td><td>99924</td><td>98596</td><td>110786</td><td>96526</td><td>132939</td><td>117121</td><td>128086</td><td>125086</td><td>122797</td><td>130224</td><td>126228</td><td>90679</td><td>91468</td><td>90498</td></tr><tr><th>5</th><td>90409</td><td>90968</td><td>90423</td><td>117999</td><td>91889</td><td>90465</td><td>90428</td><td>126969</td><td>110990</td><td>99981</td><td>98652</td><td>110843</td><td>96583</td><td>132996</td><td>117178</td><td>128143</td><td>125143</td><td>122854</td><td>130281</td><td>126285</td><td>90736</td><td>91525</td><td>90555</td></tr><tr><th>6</th><td>89542</td><td>88169</td><td>88769</td><td>99230</td><td>91522</td><td>88810</td><td>89135</td><td>102115</td><td>103353</td><td>90236</td><td>90474</td><td>104985</td><td>92543</td><td>107863</td><td>97166</td><td>102306</td><td>102216</td><td>101254</td><td>104155</td><td>102252</td><td>87937</td><td>88726</td><td>88900</td></tr><tr><th>7</th><td>93785</td><td>94345</td><td>93800</td><td>121375</td><td>95265</td><td>93841</td><td>93805</td><td>130345</td><td>114367</td><td>103357</td><td>102029</td><td>114219</td><td>99959</td><td>136373</td><td>120554</td><td>131520</td><td>128519</td><td>126230</td><td>133657</td><td>129661</td><td>94112</td><td>94901</td><td>93931</td></tr><tr><th>8</th><td>86331</td><td>86891</td><td>86346</td><td>113921</td><td>87811</td><td>86387</td><td>86351</td><td>122891</td><td>106913</td><td>95903</td><td>94575</td><td>106765</td><td>92505</td><td>128919</td><td>113100</td><td>124066</td><td>121065</td><td>118776</td><td>126203</td><td>122207</td><td>86658</td><td>87447</td><td>86477</td></tr><tr><th>9</th><td>85210</td><td>83838</td><td>84437</td><td>94898</td><td>87191</td><td>84479</td><td>84803</td><td>97784</td><td>99022</td><td>85905</td><td>86142</td><td>100653</td><td>88212</td><td>103532</td><td>92834</td><td>97974</td><td>97885</td><td>96922</td><td>99823</td><td>97921</td><td>83605</td><td>84394</td><td>84569</td></tr><tr><th>10</th><td>89933</td><td>88561</td><td>89160</td><td>99621</td><td>91914</td><td>89202</td><td>89527</td><td>101843</td><td>103745</td><td>90628</td><td>90866</td><td>105377</td><td>92935</td><td>107519</td><td>97558</td><td>102034</td><td>101944</td><td>101646</td><td>103882</td><td>101980</td><td>88329</td><td>89117</td><td>89292</td></tr><tr><th>11</th><td>55401</td><td>55173</td><td>54628</td><td>84079</td><td>57382</td><td>54670</td><td>54994</td><td>90948</td><td>80365</td><td>64186</td><td>62857</td><td>80218</td><td>60788</td><td>97881</td><td>82015</td><td>92095</td><td>90228</td><td>86103</td><td>94172</td><td>90264</td><td>54941</td><td>55729</td><td>54760</td></tr><tr><th>12</th><td>85995</td><td>84623</td><td>85222</td><td>95683</td><td>87976</td><td>85263</td><td>85588</td><td>98569</td><td>99807</td><td>86690</td><td>86927</td><td>101438</td><td>88997</td><td>104316</td><td>93619</td><td>98759</td><td>98670</td><td>97707</td><td>100608</td><td>98706</td><td>84390</td><td>85179</td><td>85354</td></tr><tr><th>13</th><td>94876</td><td>95436</td><td>94891</td><td>122466</td><td>96356</td><td>94932</td><td>94896</td><td>131436</td><td>115458</td><td>104448</td><td>103120</td><td>115310</td><td>101050</td><td>137464</td><td>121645</td><td>132611</td><td>129610</td><td>127321</td><td>134748</td><td>130752</td><td>95203</td><td>95992</td><td>95022</td></tr><tr><th>14</th><td>84234</td><td>82861</td><td>83461</td><td>93922</td><td>86214</td><td>83502</td><td>83827</td><td>96807</td><td>98045</td><td>84928</td><td>85166</td><td>99677</td><td>87235</td><td>102555</td><td>91858</td><td>96998</td><td>96908</td><td>95946</td><td>98846</td><td>96944</td><td>82629</td><td>83417</td><td>83592</td></tr><tr><th>15</th><td>84079</td><td>84638</td><td>84093</td><td>111669</td><td>85559</td><td>84135</td><td>84098</td><td>120639</td><td>104660</td><td>93651</td><td>92322</td><td>104513</td><td>90253</td><td>126666</td><td>110848</td><td>121813</td><td>118813</td><td>116524</td><td>123951</td><td>119955</td><td>84406</td><td>85195</td><td>84225</td></tr><tr><th>16</th><td>80084</td><td>80644</td><td>80099</td><td>107674</td><td>81564</td><td>80140</td><td>80104</td><td>116644</td><td>100666</td><td>89656</td><td>88328</td><td>100518</td><td>86258</td><td>122672</td><td>106853</td><td>117819</td><td>114818</td><td>112529</td><td>119956</td><td>115960</td><td>80411</td><td>81200</td><td>80230</td></tr><tr><th>17</th><td>84402</td><td>83030</td><td>83629</td><td>94090</td><td>86383</td><td>83671</td><td>83996</td><td>96782</td><td>98214</td><td>85097</td><td>85334</td><td>99846</td><td>87404</td><td>102458</td><td>92027</td><td>96973</td><td>96883</td><td>96115</td><td>98821</td><td>96919</td><td>82797</td><td>83586</td><td>83761</td></tr><tr><th>18</th><td>86694</td><td>85321</td><td>85921</td><td>96382</td><td>88674</td><td>85962</td><td>86287</td><td>98603</td><td>100505</td><td>87388</td><td>87626</td><td>102137</td><td>89695</td><td>104279</td><td>94318</td><td>98794</td><td>98704</td><td>98406</td><td>100642</td><td>98740</td><td>85089</td><td>85877</td><td>86052</td></tr><tr><th>19</th><td>81002</td><td>81562</td><td>81017</td><td>108592</td><td>82482</td><td>81058</td><td>81022</td><td>117562</td><td>101584</td><td>90574</td><td>89246</td><td>101436</td><td>87176</td><td>123590</td><td>107771</td><td>118737</td><td>115736</td><td>113447</td><td>120874</td><td>116878</td><td>81329</td><td>82118</td><td>81148</td></tr><tr><th>20</th><td>55667</td><td>55439</td><td>54894</td><td>81630</td><td>57648</td><td>54936</td><td>55261</td><td>88500</td><td>80632</td><td>64452</td><td>63123</td><td>80484</td><td>61054</td><td>95432</td><td>79567</td><td>89646</td><td>87779</td><td>83655</td><td>91724</td><td>87815</td><td>55207</td><td>55996</td><td>55026</td></tr><tr><th>21</th><td>84015</td><td>82642</td><td>83242</td><td>93703</td><td>85995</td><td>83283</td><td>83608</td><td>96394</td><td>97826</td><td>84709</td><td>84947</td><td>99458</td><td>87016</td><td>102070</td><td>91639</td><td>96585</td><td>96495</td><td>95727</td><td>98434</td><td>96531</td><td>82410</td><td>83198</td><td>83373</td></tr><tr><th>22</th><td>87377</td><td>86005</td><td>86604</td><td>97065</td><td>89358</td><td>86645</td><td>86970</td><td>99287</td><td>101189</td><td>88072</td><td>88309</td><td>102820</td><td>90379</td><td>104963</td><td>95001</td><td>99477</td><td>99388</td><td>99089</td><td>101326</td><td>99424</td><td>85772</td><td>86561</td><td>86736</td></tr><tr><th>23</th><td>97449</td><td>98008</td><td>97463</td><td>125038</td><td>98928</td><td>97504</td><td>97468</td><td>134009</td><td>118030</td><td>107021</td><td>105692</td><td>117883</td><td>103623</td><td>140036</td><td>124217</td><td>135183</td><td>132183</td><td>129893</td><td>137320</td><td>133324</td><td>97776</td><td>98564</td><td>97595</td></tr><tr><th>24</th><td>80637</td><td>81197</td><td>80652</td><td>108227</td><td>82117</td><td>80693</td><td>80657</td><td>117197</td><td>101219</td><td>90209</td><td>88881</td><td>101071</td><td>86811</td><td>123225</td><td>107406</td><td>118372</td><td>115371</td><td>113082</td><td>120509</td><td>116513</td><td>80964</td><td>81753</td><td>80783</td></tr><tr><th>25</th><td>54400</td><td>54172</td><td>53627</td><td>82404</td><td>56381</td><td>53669</td><td>53994</td><td>89274</td><td>79365</td><td>63185</td><td>61856</td><td>79217</td><td>59787</td><td>96206</td><td>80340</td><td>90420</td><td>88553</td><td>84428</td><td>92498</td><td>88589</td><td>53940</td><td>54729</td><td>53759</td></tr><tr><th>26</th><td>83220</td><td>81848</td><td>82447</td><td>92908</td><td>85200</td><td>82488</td><td>82813</td><td>95600</td><td>97031</td><td>83915</td><td>84152</td><td>98663</td><td>86222</td><td>101276</td><td>90844</td><td>95790</td><td>95701</td><td>94932</td><td>97639</td><td>95737</td><td>81615</td><td>82404</td><td>82579</td></tr><tr><th>27</th><td>82010</td><td>82569</td><td>82024</td><td>109599</td><td>83489</td><td>82065</td><td>82029</td><td>118570</td><td>102591</td><td>91581</td><td>90253</td><td>102444</td><td>88183</td><td>124597</td><td>108778</td><td>119744</td><td>116743</td><td>114454</td><td>121881</td><td>117885</td><td>82336</td><td>83125</td><td>82155</td></tr><tr><th>28</th><td>52543</td><td>52315</td><td>51770</td><td>84235</td><td>54523</td><td>51811</td><td>52136</td><td>91105</td><td>77507</td><td>61327</td><td>59999</td><td>77360</td><td>57929</td><td>98038</td><td>82172</td><td>92251</td><td>90384</td><td>86260</td><td>94329</td><td>90420</td><td>52082</td><td>52871</td><td>51901</td></tr><tr><th>29</th><td>52109</td><td>51881</td><td>51336</td><td>82192</td><td>54089</td><td>51377</td><td>51702</td><td>89062</td><td>77073</td><td>60893</td><td>59565</td><td>76926</td><td>57495</td><td>95995</td><td>80129</td><td>90208</td><td>88341</td><td>84217</td><td>92286</td><td>88377</td><td>51648</td><td>52437</td><td>51467</td></tr><tr><th>30</th><td>85063</td><td>83691</td><td>84290</td><td>94751</td><td>87044</td><td>84331</td><td>84656</td><td>96973</td><td>98874</td><td>85758</td><td>85995</td><td>100506</td><td>88065</td><td>102649</td><td>92687</td><td>97163</td><td>97074</td><td>96775</td><td>99012</td><td>97110</td><td>83458</td><td>84247</td><td>84422</td></tr><tr><th>&vellip;</th><td>&vellip;</td><td>&vellip;</td><td>&vellip;</td><td>&vellip;</td><td>&vellip;</td><td>&vellip;</td><td>&vellip;</td><td>&vellip;</td><td>&vellip;</td><td>&vellip;</td><td>&vellip;</td><td>&vellip;</td><td>&vellip;</td><td>&vellip;</td><td>&vellip;</td><td>&vellip;</td><td>&vellip;</td><td>&vellip;</td><td>&vellip;</td><td>&vellip;</td><td>&vellip;</td><td>&vellip;</td><td>&vellip;</td></tr></tbody></table>"
      ],
      "text/latex": [
       "\\begin{tabular}{r|ccccccccccccccccccccccc}\n",
       "\t& Column1 & Column2 & Column3 & Column4 & Column5 & Column6 & Column7 & Column8 & Column9 & Column10 & Column11 & Column12 & Column13 & Column14 & Column15 & Column16 & Column17 & Column18 & Column19 & Column20 & Column21 & Column22 & Column23\\\\\n",
       "\t\\hline\n",
       "\t& Int64⍰ & Int64⍰ & Int64⍰ & Int64⍰ & Int64⍰ & Int64⍰ & Int64⍰ & Int64⍰ & Int64⍰ & Int64⍰ & Int64⍰ & Int64⍰ & Int64⍰ & Int64⍰ & Int64⍰ & Int64⍰ & Int64⍰ & Int64⍰ & Int64⍰ & Int64⍰ & Int64⍰ & Int64⍰ & Int64⍰\\\\\n",
       "\t\\hline\n",
       "\t1 & 193925 & 192553 & 193152 & 210254 & 195906 & 193194 & 193519 & 213140 & 214378 & 201243 & 201381 & 216010 & 199312 & 218888 & 208191 & 213331 & 213241 & 212279 & 215179 & 213277 & 192321 & 193109 & 193284 \\\\\n",
       "\t2 & 192358 & 190985 & 191585 & 208687 & 194338 & 191626 & 191951 & 211572 & 212810 & 199675 & 199814 & 214442 & 197744 & 217320 & 206623 & 211763 & 211673 & 210711 & 213612 & 211709 & 190753 & 191542 & 191716 \\\\\n",
       "\t3 & 97026 & 96798 & 96253 & 128998 & 99006 & 96294 & 96619 & 136686 & 121990 & 105810 & 104482 & 121843 & 102412 & 143618 & 127752 & 137832 & 135965 & 131840 & 139910 & 136001 & 96565 & 97354 & 96384 \\\\\n",
       "\t4 & 90352 & 90912 & 90367 & 117942 & 91832 & 90408 & 90371 & 126912 & 110933 & 99924 & 98596 & 110786 & 96526 & 132939 & 117121 & 128086 & 125086 & 122797 & 130224 & 126228 & 90679 & 91468 & 90498 \\\\\n",
       "\t5 & 90409 & 90968 & 90423 & 117999 & 91889 & 90465 & 90428 & 126969 & 110990 & 99981 & 98652 & 110843 & 96583 & 132996 & 117178 & 128143 & 125143 & 122854 & 130281 & 126285 & 90736 & 91525 & 90555 \\\\\n",
       "\t6 & 89542 & 88169 & 88769 & 99230 & 91522 & 88810 & 89135 & 102115 & 103353 & 90236 & 90474 & 104985 & 92543 & 107863 & 97166 & 102306 & 102216 & 101254 & 104155 & 102252 & 87937 & 88726 & 88900 \\\\\n",
       "\t7 & 93785 & 94345 & 93800 & 121375 & 95265 & 93841 & 93805 & 130345 & 114367 & 103357 & 102029 & 114219 & 99959 & 136373 & 120554 & 131520 & 128519 & 126230 & 133657 & 129661 & 94112 & 94901 & 93931 \\\\\n",
       "\t8 & 86331 & 86891 & 86346 & 113921 & 87811 & 86387 & 86351 & 122891 & 106913 & 95903 & 94575 & 106765 & 92505 & 128919 & 113100 & 124066 & 121065 & 118776 & 126203 & 122207 & 86658 & 87447 & 86477 \\\\\n",
       "\t9 & 85210 & 83838 & 84437 & 94898 & 87191 & 84479 & 84803 & 97784 & 99022 & 85905 & 86142 & 100653 & 88212 & 103532 & 92834 & 97974 & 97885 & 96922 & 99823 & 97921 & 83605 & 84394 & 84569 \\\\\n",
       "\t10 & 89933 & 88561 & 89160 & 99621 & 91914 & 89202 & 89527 & 101843 & 103745 & 90628 & 90866 & 105377 & 92935 & 107519 & 97558 & 102034 & 101944 & 101646 & 103882 & 101980 & 88329 & 89117 & 89292 \\\\\n",
       "\t11 & 55401 & 55173 & 54628 & 84079 & 57382 & 54670 & 54994 & 90948 & 80365 & 64186 & 62857 & 80218 & 60788 & 97881 & 82015 & 92095 & 90228 & 86103 & 94172 & 90264 & 54941 & 55729 & 54760 \\\\\n",
       "\t12 & 85995 & 84623 & 85222 & 95683 & 87976 & 85263 & 85588 & 98569 & 99807 & 86690 & 86927 & 101438 & 88997 & 104316 & 93619 & 98759 & 98670 & 97707 & 100608 & 98706 & 84390 & 85179 & 85354 \\\\\n",
       "\t13 & 94876 & 95436 & 94891 & 122466 & 96356 & 94932 & 94896 & 131436 & 115458 & 104448 & 103120 & 115310 & 101050 & 137464 & 121645 & 132611 & 129610 & 127321 & 134748 & 130752 & 95203 & 95992 & 95022 \\\\\n",
       "\t14 & 84234 & 82861 & 83461 & 93922 & 86214 & 83502 & 83827 & 96807 & 98045 & 84928 & 85166 & 99677 & 87235 & 102555 & 91858 & 96998 & 96908 & 95946 & 98846 & 96944 & 82629 & 83417 & 83592 \\\\\n",
       "\t15 & 84079 & 84638 & 84093 & 111669 & 85559 & 84135 & 84098 & 120639 & 104660 & 93651 & 92322 & 104513 & 90253 & 126666 & 110848 & 121813 & 118813 & 116524 & 123951 & 119955 & 84406 & 85195 & 84225 \\\\\n",
       "\t16 & 80084 & 80644 & 80099 & 107674 & 81564 & 80140 & 80104 & 116644 & 100666 & 89656 & 88328 & 100518 & 86258 & 122672 & 106853 & 117819 & 114818 & 112529 & 119956 & 115960 & 80411 & 81200 & 80230 \\\\\n",
       "\t17 & 84402 & 83030 & 83629 & 94090 & 86383 & 83671 & 83996 & 96782 & 98214 & 85097 & 85334 & 99846 & 87404 & 102458 & 92027 & 96973 & 96883 & 96115 & 98821 & 96919 & 82797 & 83586 & 83761 \\\\\n",
       "\t18 & 86694 & 85321 & 85921 & 96382 & 88674 & 85962 & 86287 & 98603 & 100505 & 87388 & 87626 & 102137 & 89695 & 104279 & 94318 & 98794 & 98704 & 98406 & 100642 & 98740 & 85089 & 85877 & 86052 \\\\\n",
       "\t19 & 81002 & 81562 & 81017 & 108592 & 82482 & 81058 & 81022 & 117562 & 101584 & 90574 & 89246 & 101436 & 87176 & 123590 & 107771 & 118737 & 115736 & 113447 & 120874 & 116878 & 81329 & 82118 & 81148 \\\\\n",
       "\t20 & 55667 & 55439 & 54894 & 81630 & 57648 & 54936 & 55261 & 88500 & 80632 & 64452 & 63123 & 80484 & 61054 & 95432 & 79567 & 89646 & 87779 & 83655 & 91724 & 87815 & 55207 & 55996 & 55026 \\\\\n",
       "\t21 & 84015 & 82642 & 83242 & 93703 & 85995 & 83283 & 83608 & 96394 & 97826 & 84709 & 84947 & 99458 & 87016 & 102070 & 91639 & 96585 & 96495 & 95727 & 98434 & 96531 & 82410 & 83198 & 83373 \\\\\n",
       "\t22 & 87377 & 86005 & 86604 & 97065 & 89358 & 86645 & 86970 & 99287 & 101189 & 88072 & 88309 & 102820 & 90379 & 104963 & 95001 & 99477 & 99388 & 99089 & 101326 & 99424 & 85772 & 86561 & 86736 \\\\\n",
       "\t23 & 97449 & 98008 & 97463 & 125038 & 98928 & 97504 & 97468 & 134009 & 118030 & 107021 & 105692 & 117883 & 103623 & 140036 & 124217 & 135183 & 132183 & 129893 & 137320 & 133324 & 97776 & 98564 & 97595 \\\\\n",
       "\t24 & 80637 & 81197 & 80652 & 108227 & 82117 & 80693 & 80657 & 117197 & 101219 & 90209 & 88881 & 101071 & 86811 & 123225 & 107406 & 118372 & 115371 & 113082 & 120509 & 116513 & 80964 & 81753 & 80783 \\\\\n",
       "\t25 & 54400 & 54172 & 53627 & 82404 & 56381 & 53669 & 53994 & 89274 & 79365 & 63185 & 61856 & 79217 & 59787 & 96206 & 80340 & 90420 & 88553 & 84428 & 92498 & 88589 & 53940 & 54729 & 53759 \\\\\n",
       "\t26 & 83220 & 81848 & 82447 & 92908 & 85200 & 82488 & 82813 & 95600 & 97031 & 83915 & 84152 & 98663 & 86222 & 101276 & 90844 & 95790 & 95701 & 94932 & 97639 & 95737 & 81615 & 82404 & 82579 \\\\\n",
       "\t27 & 82010 & 82569 & 82024 & 109599 & 83489 & 82065 & 82029 & 118570 & 102591 & 91581 & 90253 & 102444 & 88183 & 124597 & 108778 & 119744 & 116743 & 114454 & 121881 & 117885 & 82336 & 83125 & 82155 \\\\\n",
       "\t28 & 52543 & 52315 & 51770 & 84235 & 54523 & 51811 & 52136 & 91105 & 77507 & 61327 & 59999 & 77360 & 57929 & 98038 & 82172 & 92251 & 90384 & 86260 & 94329 & 90420 & 52082 & 52871 & 51901 \\\\\n",
       "\t29 & 52109 & 51881 & 51336 & 82192 & 54089 & 51377 & 51702 & 89062 & 77073 & 60893 & 59565 & 76926 & 57495 & 95995 & 80129 & 90208 & 88341 & 84217 & 92286 & 88377 & 51648 & 52437 & 51467 \\\\\n",
       "\t30 & 85063 & 83691 & 84290 & 94751 & 87044 & 84331 & 84656 & 96973 & 98874 & 85758 & 85995 & 100506 & 88065 & 102649 & 92687 & 97163 & 97074 & 96775 & 99012 & 97110 & 83458 & 84247 & 84422 \\\\\n",
       "\t$\\dots$ & $\\dots$ & $\\dots$ & $\\dots$ & $\\dots$ & $\\dots$ & $\\dots$ & $\\dots$ & $\\dots$ & $\\dots$ & $\\dots$ & $\\dots$ & $\\dots$ & $\\dots$ & $\\dots$ & $\\dots$ & $\\dots$ & $\\dots$ & $\\dots$ & $\\dots$ & $\\dots$ & $\\dots$ & $\\dots$ & $\\dots$ \\\\\n",
       "\\end{tabular}\n"
      ],
      "text/plain": [
       "141×23 DataFrames.DataFrame. Omitted printing of 16 columns\n",
       "│ Row │ Column1 │ Column2 │ Column3 │ Column4 │ Column5 │ Column6 │ Column7 │\n",
       "│     │ \u001b[90mInt64⍰\u001b[39m  │ \u001b[90mInt64⍰\u001b[39m  │ \u001b[90mInt64⍰\u001b[39m  │ \u001b[90mInt64⍰\u001b[39m  │ \u001b[90mInt64⍰\u001b[39m  │ \u001b[90mInt64⍰\u001b[39m  │ \u001b[90mInt64⍰\u001b[39m  │\n",
       "├─────┼─────────┼─────────┼─────────┼─────────┼─────────┼─────────┼─────────┤\n",
       "│ 1   │ 193925  │ 192553  │ 193152  │ 210254  │ 195906  │ 193194  │ 193519  │\n",
       "│ 2   │ 192358  │ 190985  │ 191585  │ 208687  │ 194338  │ 191626  │ 191951  │\n",
       "│ 3   │ 97026   │ 96798   │ 96253   │ 128998  │ 99006   │ 96294   │ 96619   │\n",
       "│ 4   │ 90352   │ 90912   │ 90367   │ 117942  │ 91832   │ 90408   │ 90371   │\n",
       "│ 5   │ 90409   │ 90968   │ 90423   │ 117999  │ 91889   │ 90465   │ 90428   │\n",
       "│ 6   │ 89542   │ 88169   │ 88769   │ 99230   │ 91522   │ 88810   │ 89135   │\n",
       "│ 7   │ 93785   │ 94345   │ 93800   │ 121375  │ 95265   │ 93841   │ 93805   │\n",
       "│ 8   │ 86331   │ 86891   │ 86346   │ 113921  │ 87811   │ 86387   │ 86351   │\n",
       "│ 9   │ 85210   │ 83838   │ 84437   │ 94898   │ 87191   │ 84479   │ 84803   │\n",
       "│ 10  │ 89933   │ 88561   │ 89160   │ 99621   │ 91914   │ 89202   │ 89527   │\n",
       "⋮\n",
       "│ 131 │ 151923  │ 152361  │ 151422  │ 141399  │ 151108  │ 151464  │ 151516  │\n",
       "│ 132 │ 153377  │ 153815  │ 152877  │ 142854  │ 152562  │ 152918  │ 152971  │\n",
       "│ 133 │ 155467  │ 155905  │ 154967  │ 144943  │ 154652  │ 155008  │ 155060  │\n",
       "│ 134 │ 167780  │ 168218  │ 167280  │ 157257  │ 166965  │ 167321  │ 167373  │\n",
       "│ 135 │ 169599  │ 170037  │ 169099  │ 159076  │ 168784  │ 169140  │ 169193  │\n",
       "│ 136 │ 68297   │ 69894   │ 67796   │ 47972   │ 67482   │ 67838   │ 67890   │\n",
       "│ 137 │ 70905   │ 72502   │ 70405   │ 50581   │ 70090   │ 70446   │ 70499   │\n",
       "│ 138 │ 71982   │ 73578   │ 71481   │ 51657   │ 71166   │ 71522   │ 71575   │\n",
       "│ 139 │ 71023   │ 72620   │ 70523   │ 50699   │ 70208   │ 70564   │ 70616   │\n",
       "│ 140 │ 71712   │ 73309   │ 71212   │ 51388   │ 70897   │ 71253   │ 71306   │\n",
       "│ 141 │ 68998   │ 70594   │ 68497   │ 48673   │ 68182   │ 68538   │ 68591   │"
      ]
     },
     "execution_count": 92,
     "metadata": {},
     "output_type": "execute_result"
    }
   ],
   "source": [
    "dist2_0=CSV.read(\"distance2.csv\",header=false)"
   ]
  },
  {
   "cell_type": "code",
   "execution_count": 94,
   "metadata": {},
   "outputs": [
    {
     "data": {
      "text/plain": [
       "141×23 Array{Union{Missing, Int64},2}:\n",
       " 193925  192553  193152  210254  195906  …  213277  192321  193109  193284\n",
       " 192358  190985  191585  208687  194338     211709  190753  191542  191716\n",
       "  97026   96798   96253  128998   99006     136001   96565   97354   96384\n",
       "  90352   90912   90367  117942   91832     126228   90679   91468   90498\n",
       "  90409   90968   90423  117999   91889     126285   90736   91525   90555\n",
       "  89542   88169   88769   99230   91522  …  102252   87937   88726   88900\n",
       "  93785   94345   93800  121375   95265     129661   94112   94901   93931\n",
       "  86331   86891   86346  113921   87811     122207   86658   87447   86477\n",
       "  85210   83838   84437   94898   87191      97921   83605   84394   84569\n",
       "  89933   88561   89160   99621   91914     101980   88329   89117   89292\n",
       "  55401   55173   54628   84079   57382  …   90264   54941   55729   54760\n",
       "  85995   84623   85222   95683   87976      98706   84390   85179   85354\n",
       "  94876   95436   94891  122466   96356     130752   95203   95992   95022\n",
       "      ⋮                                  ⋱               ⋮                \n",
       " 149675  150113  149174  139151  148859     136643  149880  150285  149033\n",
       " 151923  152361  151422  141399  151108  …  138891  152128  152534  151282\n",
       " 153377  153815  152877  142854  152562     140345  153583  153988  152736\n",
       " 155467  155905  154967  144943  154652     142435  155673  156078  154826\n",
       " 167780  168218  167280  157257  166965     154748  167986  168391  167139\n",
       " 169599  170037  169099  159076  168784     156568  169805  170210  168958\n",
       "  68297   69894   67796   47972   67482  …   42312   69661   68907   67655\n",
       "  70905   72502   70405   50581   70090      44921   72270   71516   70264\n",
       "  71982   73578   71481   51657   71166      45997   73346   72592   71340\n",
       "  71023   72620   70523   50699   70208      45039   72387   71634   70382\n",
       "  71712   73309   71212   51388   70897      45728   73077   72323   71071\n",
       "  68998   70594   68497   48673   68182  …   43013   70362   69608   68356"
      ]
     },
     "execution_count": 94,
     "metadata": {},
     "output_type": "execute_result"
    }
   ],
   "source": [
    "dist2=convert(Matrix,dist2_0)"
   ]
  },
  {
   "cell_type": "code",
   "execution_count": 96,
   "metadata": {},
   "outputs": [
    {
     "data": {
      "text/plain": [
       "23-element Array{String,1}:\n",
       " #undef\n",
       " #undef\n",
       " #undef\n",
       " #undef\n",
       " #undef\n",
       " #undef\n",
       " #undef\n",
       " #undef\n",
       " #undef\n",
       " #undef\n",
       " #undef\n",
       " #undef\n",
       " #undef\n",
       " #undef\n",
       " #undef\n",
       " #undef\n",
       " #undef\n",
       " #undef\n",
       " #undef\n",
       " #undef\n",
       " #undef\n",
       " #undef\n",
       " #undef"
      ]
     },
     "execution_count": 96,
     "metadata": {},
     "output_type": "execute_result"
    }
   ],
   "source": [
    "demand_nodes=Array{String,1}(undef,23)"
   ]
  },
  {
   "cell_type": "code",
   "execution_count": 98,
   "metadata": {},
   "outputs": [],
   "source": [
    "for k in 1:23\n",
    "    demand_nodes[k]=string(\"k\",k)\n",
    "end"
   ]
  },
  {
   "cell_type": "code",
   "execution_count": 100,
   "metadata": {},
   "outputs": [
    {
     "data": {
      "text/plain": [
       "23-element Array{String,1}:\n",
       " \"k1\" \n",
       " \"k2\" \n",
       " \"k3\" \n",
       " \"k4\" \n",
       " \"k5\" \n",
       " \"k6\" \n",
       " \"k7\" \n",
       " \"k8\" \n",
       " \"k9\" \n",
       " \"k10\"\n",
       " \"k11\"\n",
       " \"k12\"\n",
       " \"k13\"\n",
       " \"k14\"\n",
       " \"k15\"\n",
       " \"k16\"\n",
       " \"k17\"\n",
       " \"k18\"\n",
       " \"k19\"\n",
       " \"k20\"\n",
       " \"k21\"\n",
       " \"k22\"\n",
       " \"k23\""
      ]
     },
     "execution_count": 100,
     "metadata": {},
     "output_type": "execute_result"
    }
   ],
   "source": [
    "demand_nodes"
   ]
  },
  {
   "cell_type": "code",
   "execution_count": 101,
   "metadata": {},
   "outputs": [
    {
     "data": {
      "text/plain": [
       "Dict{Any,Any} with 0 entries"
      ]
     },
     "execution_count": 101,
     "metadata": {},
     "output_type": "execute_result"
    }
   ],
   "source": [
    "dist_jk_dict=Dict()"
   ]
  },
  {
   "cell_type": "code",
   "execution_count": 102,
   "metadata": {},
   "outputs": [],
   "source": [
    "for j in 1:length(middle_nodes)\n",
    "    for k in 1:length(demand_nodes)\n",
    "        dist_jk_dict[middle_nodes[j],demand_nodes[k]]=dist2[j,k]\n",
    "    end\n",
    "end\n",
    "        "
   ]
  },
  {
   "cell_type": "code",
   "execution_count": 104,
   "metadata": {},
   "outputs": [
    {
     "data": {
      "text/plain": [
       "10.2"
      ]
     },
     "execution_count": 104,
     "metadata": {},
     "output_type": "execute_result"
    }
   ],
   "source": [
    "c_b=10.2"
   ]
  },
  {
   "cell_type": "code",
   "execution_count": 106,
   "metadata": {},
   "outputs": [
    {
     "data": {
      "text/plain": [
       "0.0091"
      ]
     },
     "execution_count": 106,
     "metadata": {},
     "output_type": "execute_result"
    }
   ],
   "source": [
    "tv1=0.0091"
   ]
  },
  {
   "cell_type": "code",
   "execution_count": 108,
   "metadata": {},
   "outputs": [
    {
     "data": {
      "text/plain": [
       "0.0046"
      ]
     },
     "execution_count": 108,
     "metadata": {},
     "output_type": "execute_result"
    }
   ],
   "source": [
    "tv2=0.0046"
   ]
  },
  {
   "cell_type": "code",
   "execution_count": 110,
   "metadata": {},
   "outputs": [
    {
     "data": {
      "text/plain": [
       "5780"
      ]
     },
     "execution_count": 110,
     "metadata": {},
     "output_type": "execute_result"
    }
   ],
   "source": [
    "tf1=5780"
   ]
  },
  {
   "cell_type": "code",
   "execution_count": 112,
   "metadata": {},
   "outputs": [
    {
     "data": {
      "text/plain": [
       "2890"
      ]
     },
     "execution_count": 112,
     "metadata": {},
     "output_type": "execute_result"
    }
   ],
   "source": [
    "tf2=2890"
   ]
  },
  {
   "cell_type": "code",
   "execution_count": 114,
   "metadata": {},
   "outputs": [
    {
     "data": {
      "text/plain": [
       "26.8"
      ]
     },
     "execution_count": 114,
     "metadata": {},
     "output_type": "execute_result"
    }
   ],
   "source": [
    "c_c=26.8"
   ]
  },
  {
   "cell_type": "code",
   "execution_count": 116,
   "metadata": {},
   "outputs": [
    {
     "data": {
      "text/plain": [
       "244120"
      ]
     },
     "execution_count": 116,
     "metadata": {},
     "output_type": "execute_result"
    }
   ],
   "source": [
    "D=244120"
   ]
  },
  {
   "cell_type": "code",
   "execution_count": 118,
   "metadata": {},
   "outputs": [
    {
     "data": {
      "text/plain": [
       "10.26"
      ]
     },
     "execution_count": 118,
     "metadata": {},
     "output_type": "execute_result"
    }
   ],
   "source": [
    "c_s=10.26"
   ]
  },
  {
   "cell_type": "code",
   "execution_count": 120,
   "metadata": {},
   "outputs": [
    {
     "name": "stdout",
     "output_type": "stream",
     "text": [
      "Academic license - for non-commercial use only\r\n"
     ]
    },
    {
     "data": {
      "text/latex": [
       "$$ \\begin{alignat*}{1}\\text{feasibility}\\\\\n",
       "\\text{Subject to} \\quad\\end{alignat*}\n",
       " $$"
      ],
      "text/plain": [
       "A JuMP Model\n",
       "Feasibility problem with:\n",
       "Variables: 0\n",
       "Model mode: AUTOMATIC\n",
       "CachingOptimizer state: EMPTY_OPTIMIZER\n",
       "Solver name: Gurobi"
      ]
     },
     "execution_count": 120,
     "metadata": {},
     "output_type": "execute_result"
    }
   ],
   "source": [
    "model=Model(with_optimizer(Gurobi.Optimizer))"
   ]
  },
  {
   "cell_type": "code",
   "execution_count": 122,
   "metadata": {},
   "outputs": [
    {
     "data": {
      "text/plain": [
       "2-dimensional DenseAxisArray{VariableRef,2,...} with index sets:\n",
       "    Dimension 1, [\"i1\", \"i2\", \"i3\", \"i4\", \"i5\", \"i6\", \"i7\", \"i8\", \"i9\", \"i10\"  …  \"i34550\", \"i34551\", \"i34552\", \"i34553\", \"i34554\", \"i34555\", \"i34556\", \"i34557\", \"i34558\", \"i34559\"]\n",
       "    Dimension 2, [\"j1\", \"j2\", \"j3\", \"j4\", \"j5\", \"j6\", \"j7\", \"j8\", \"j9\", \"j10\"  …  \"j132\", \"j133\", \"j134\", \"j135\", \"j136\", \"j137\", \"j138\", \"j139\", \"j140\", \"j141\"]\n",
       "And data, a 34559×141 Array{VariableRef,2}:\n",
       " f1[i1,j1]      f1[i1,j2]      …  f1[i1,j140]      f1[i1,j141]    \n",
       " f1[i2,j1]      f1[i2,j2]         f1[i2,j140]      f1[i2,j141]    \n",
       " f1[i3,j1]      f1[i3,j2]         f1[i3,j140]      f1[i3,j141]    \n",
       " f1[i4,j1]      f1[i4,j2]         f1[i4,j140]      f1[i4,j141]    \n",
       " f1[i5,j1]      f1[i5,j2]         f1[i5,j140]      f1[i5,j141]    \n",
       " f1[i6,j1]      f1[i6,j2]      …  f1[i6,j140]      f1[i6,j141]    \n",
       " f1[i7,j1]      f1[i7,j2]         f1[i7,j140]      f1[i7,j141]    \n",
       " f1[i8,j1]      f1[i8,j2]         f1[i8,j140]      f1[i8,j141]    \n",
       " f1[i9,j1]      f1[i9,j2]         f1[i9,j140]      f1[i9,j141]    \n",
       " f1[i10,j1]     f1[i10,j2]        f1[i10,j140]     f1[i10,j141]   \n",
       " f1[i11,j1]     f1[i11,j2]     …  f1[i11,j140]     f1[i11,j141]   \n",
       " f1[i12,j1]     f1[i12,j2]        f1[i12,j140]     f1[i12,j141]   \n",
       " f1[i13,j1]     f1[i13,j2]        f1[i13,j140]     f1[i13,j141]   \n",
       " ⋮                             ⋱                   ⋮              \n",
       " f1[i34548,j1]  f1[i34548,j2]     f1[i34548,j140]  f1[i34548,j141]\n",
       " f1[i34549,j1]  f1[i34549,j2]     f1[i34549,j140]  f1[i34549,j141]\n",
       " f1[i34550,j1]  f1[i34550,j2]     f1[i34550,j140]  f1[i34550,j141]\n",
       " f1[i34551,j1]  f1[i34551,j2]  …  f1[i34551,j140]  f1[i34551,j141]\n",
       " f1[i34552,j1]  f1[i34552,j2]     f1[i34552,j140]  f1[i34552,j141]\n",
       " f1[i34553,j1]  f1[i34553,j2]     f1[i34553,j140]  f1[i34553,j141]\n",
       " f1[i34554,j1]  f1[i34554,j2]     f1[i34554,j140]  f1[i34554,j141]\n",
       " f1[i34555,j1]  f1[i34555,j2]     f1[i34555,j140]  f1[i34555,j141]\n",
       " f1[i34556,j1]  f1[i34556,j2]  …  f1[i34556,j140]  f1[i34556,j141]\n",
       " f1[i34557,j1]  f1[i34557,j2]     f1[i34557,j140]  f1[i34557,j141]\n",
       " f1[i34558,j1]  f1[i34558,j2]     f1[i34558,j140]  f1[i34558,j141]\n",
       " f1[i34559,j1]  f1[i34559,j2]     f1[i34559,j140]  f1[i34559,j141]"
      ]
     },
     "execution_count": 122,
     "metadata": {},
     "output_type": "execute_result"
    }
   ],
   "source": [
    "@variable(model,f1[supply_nodes,middle_nodes]>=0)"
   ]
  },
  {
   "cell_type": "code",
   "execution_count": 124,
   "metadata": {},
   "outputs": [
    {
     "data": {
      "text/plain": [
       "2-dimensional DenseAxisArray{VariableRef,2,...} with index sets:\n",
       "    Dimension 1, [\"j1\", \"j2\", \"j3\", \"j4\", \"j5\", \"j6\", \"j7\", \"j8\", \"j9\", \"j10\"  …  \"j132\", \"j133\", \"j134\", \"j135\", \"j136\", \"j137\", \"j138\", \"j139\", \"j140\", \"j141\"]\n",
       "    Dimension 2, [\"k1\", \"k2\", \"k3\", \"k4\", \"k5\", \"k6\", \"k7\", \"k8\", \"k9\", \"k10\"  …  \"k14\", \"k15\", \"k16\", \"k17\", \"k18\", \"k19\", \"k20\", \"k21\", \"k22\", \"k23\"]\n",
       "And data, a 141×23 Array{VariableRef,2}:\n",
       " f2[j1,k1]    f2[j1,k2]    f2[j1,k3]    …  f2[j1,k22]    f2[j1,k23]  \n",
       " f2[j2,k1]    f2[j2,k2]    f2[j2,k3]       f2[j2,k22]    f2[j2,k23]  \n",
       " f2[j3,k1]    f2[j3,k2]    f2[j3,k3]       f2[j3,k22]    f2[j3,k23]  \n",
       " f2[j4,k1]    f2[j4,k2]    f2[j4,k3]       f2[j4,k22]    f2[j4,k23]  \n",
       " f2[j5,k1]    f2[j5,k2]    f2[j5,k3]       f2[j5,k22]    f2[j5,k23]  \n",
       " f2[j6,k1]    f2[j6,k2]    f2[j6,k3]    …  f2[j6,k22]    f2[j6,k23]  \n",
       " f2[j7,k1]    f2[j7,k2]    f2[j7,k3]       f2[j7,k22]    f2[j7,k23]  \n",
       " f2[j8,k1]    f2[j8,k2]    f2[j8,k3]       f2[j8,k22]    f2[j8,k23]  \n",
       " f2[j9,k1]    f2[j9,k2]    f2[j9,k3]       f2[j9,k22]    f2[j9,k23]  \n",
       " f2[j10,k1]   f2[j10,k2]   f2[j10,k3]      f2[j10,k22]   f2[j10,k23] \n",
       " f2[j11,k1]   f2[j11,k2]   f2[j11,k3]   …  f2[j11,k22]   f2[j11,k23] \n",
       " f2[j12,k1]   f2[j12,k2]   f2[j12,k3]      f2[j12,k22]   f2[j12,k23] \n",
       " f2[j13,k1]   f2[j13,k2]   f2[j13,k3]      f2[j13,k22]   f2[j13,k23] \n",
       " ⋮                                      ⋱                            \n",
       " f2[j130,k1]  f2[j130,k2]  f2[j130,k3]     f2[j130,k22]  f2[j130,k23]\n",
       " f2[j131,k1]  f2[j131,k2]  f2[j131,k3]  …  f2[j131,k22]  f2[j131,k23]\n",
       " f2[j132,k1]  f2[j132,k2]  f2[j132,k3]     f2[j132,k22]  f2[j132,k23]\n",
       " f2[j133,k1]  f2[j133,k2]  f2[j133,k3]     f2[j133,k22]  f2[j133,k23]\n",
       " f2[j134,k1]  f2[j134,k2]  f2[j134,k3]     f2[j134,k22]  f2[j134,k23]\n",
       " f2[j135,k1]  f2[j135,k2]  f2[j135,k3]     f2[j135,k22]  f2[j135,k23]\n",
       " f2[j136,k1]  f2[j136,k2]  f2[j136,k3]  …  f2[j136,k22]  f2[j136,k23]\n",
       " f2[j137,k1]  f2[j137,k2]  f2[j137,k3]     f2[j137,k22]  f2[j137,k23]\n",
       " f2[j138,k1]  f2[j138,k2]  f2[j138,k3]     f2[j138,k22]  f2[j138,k23]\n",
       " f2[j139,k1]  f2[j139,k2]  f2[j139,k3]     f2[j139,k22]  f2[j139,k23]\n",
       " f2[j140,k1]  f2[j140,k2]  f2[j140,k3]     f2[j140,k22]  f2[j140,k23]\n",
       " f2[j141,k1]  f2[j141,k2]  f2[j141,k3]  …  f2[j141,k22]  f2[j141,k23]"
      ]
     },
     "execution_count": 124,
     "metadata": {},
     "output_type": "execute_result"
    }
   ],
   "source": [
    "@variable(model,f2[middle_nodes,demand_nodes]>=0)"
   ]
  },
  {
   "cell_type": "code",
   "execution_count": 126,
   "metadata": {},
   "outputs": [],
   "source": [
    "@expression(model,Cb, sum(c_b*f1[i,j] for i in supply_nodes,j in middle_nodes))"
   ]
  },
  {
   "cell_type": "code",
   "execution_count": 128,
   "metadata": {},
   "outputs": [],
   "source": [
    "@constraint(model,sum(f1[i,j] for i in supply_nodes,j in middle_nodes)==D)"
   ]
  },
  {
   "cell_type": "code",
   "execution_count": 130,
   "metadata": {},
   "outputs": [],
   "source": [
    "for i in supply_nodes\n",
    "    @constraint(model,sum(f1[i,j] for j in middle_nodes) <= s_dict[i])\n",
    "end"
   ]
  },
  {
   "cell_type": "code",
   "execution_count": 132,
   "metadata": {},
   "outputs": [],
   "source": [
    "for j in middle_nodes\n",
    "    @constraint(model,sum(f1[i,j] for i in supply_nodes) <= m_dict[j])\n",
    "end"
   ]
  },
  {
   "cell_type": "code",
   "execution_count": 134,
   "metadata": {},
   "outputs": [],
   "source": [
    "for j in middle_nodes\n",
    "    @constraint(model,sum(f2[j,k] for k in demand_nodes)==sum(f1[i,j] for i in supply_nodes))\n",
    "end"
   ]
  },
  {
   "cell_type": "code",
   "execution_count": 136,
   "metadata": {},
   "outputs": [],
   "source": [
    "@expression(model,Cc,sum(c_c*f1[i,j] for i in supply_nodes,j in middle_nodes))"
   ]
  },
  {
   "cell_type": "code",
   "execution_count": 138,
   "metadata": {},
   "outputs": [],
   "source": [
    "@expression(model,Tv,sum(tv1*f1[i,j]*dist_ij_dict[i,j] for i in supply_nodes,j in middle_nodes)+sum(tv2*f2[j,k]*dist_jk_dict[j,k] for j in middle_nodes,k in demand_nodes))"
   ]
  },
  {
   "cell_type": "code",
   "execution_count": 140,
   "metadata": {},
   "outputs": [],
   "source": [
    "@expression(model,Tf,sum(tf1*f1[i,j] for i in supply_nodes,j in middle_nodes)+sum(tf2*f2[j,k] for j in middle_nodes, k in demand_nodes))"
   ]
  },
  {
   "cell_type": "code",
   "execution_count": 142,
   "metadata": {},
   "outputs": [],
   "source": [
    "@expression(model,Ct,Tv+Tf)"
   ]
  },
  {
   "cell_type": "code",
   "execution_count": 144,
   "metadata": {},
   "outputs": [],
   "source": [
    "@expression(model,Cs,c_s*D)"
   ]
  },
  {
   "cell_type": "code",
   "execution_count": 146,
   "metadata": {},
   "outputs": [],
   "source": [
    "scale_nodes=[\"l1\",\"l2\",\"l3\"]"
   ]
  },
  {
   "cell_type": "code",
   "execution_count": 148,
   "metadata": {},
   "outputs": [],
   "source": [
    "lamda=[0 146000 547500 182500]"
   ]
  },
  {
   "cell_type": "code",
   "execution_count": 150,
   "metadata": {},
   "outputs": [],
   "source": [
    "p_cv=[712,328,191]"
   ]
  },
  {
   "cell_type": "code",
   "execution_count": 152,
   "metadata": {},
   "outputs": [],
   "source": [
    "p_cf=[37*10^6,91*10^6,163*10^6]"
   ]
  },
  {
   "cell_type": "code",
   "execution_count": null,
   "metadata": {},
   "outputs": [],
   "source": [
    "p_cv_dict=Dict()\n",
    "p_cf_dict=Dict()\n",
    "for l in 1:length(scale_nodes)\n",
    "    p_cv_dict[scale_nodes[l]]=p_cv[l]\n",
    "    p_cf_dict[scale_nodes[l]]=p_cf[l]\n",
    "end"
   ]
  },
  {
   "cell_type": "code",
   "execution_count": null,
   "metadata": {},
   "outputs": [],
   "source": [
    "@variable(model,o1[demand_nodes,scale_nodes],Bin)"
   ]
  },
  {
   "cell_type": "code",
   "execution_count": null,
   "metadata": {},
   "outputs": [],
   "source": [
    "@variable(model,o2[demand_nodes],Bin)"
   ]
  },
  {
   "cell_type": "code",
   "execution_count": null,
   "metadata": {},
   "outputs": [],
   "source": [
    "@variable(model,q[demand_nodes,scale_nodes]>=0)"
   ]
  },
  {
   "cell_type": "code",
   "execution_count": null,
   "metadata": {},
   "outputs": [],
   "source": [
    "for k in demand_nodes\n",
    "    for l in scale_nodes\n",
    "        if l==scale_nodes[1]\n",
    "            @constraint(model,q[k,l] >= lamda[1]*o1[k,l])\n",
    "            @constraint(model,q[k,l] <= lamda[2]*o1[k,l])\n",
    "        elseif l==scale_nodes[2]\n",
    "            @constraint(model,q[k,l] >= lamda[2]*o1[k,l])\n",
    "            @constraint(model,q[k,l] <= lamda[3]*o1[k,l])\n",
    "        elseif l==scale_nodes[3]\n",
    "            @constraint(model,q[k,l] >= lamda[3]*o1[k,l])\n",
    "            @constraint(model,q[k,l] <= lamda[4]*o1[k,l])\n",
    "        end\n",
    "    end\n",
    "end"
   ]
  },
  {
   "cell_type": "code",
   "execution_count": null,
   "metadata": {},
   "outputs": [],
   "source": [
    "for k in demand_nodes\n",
    "    @constraint(model,sum(o1[k,l] for l in scale_nodes)==o2[k])\n",
    "end"
   ]
  },
  {
   "cell_type": "code",
   "execution_count": null,
   "metadata": {},
   "outputs": [],
   "source": [
    "for k in demand_nodes\n",
    " @constraint(model,sum(f2[j,k] for j in middle_nodes)==sum(q[k,l] for l in scale_nodes))\n",
    "end"
   ]
  },
  {
   "cell_type": "code",
   "execution_count": null,
   "metadata": {},
   "outputs": [],
   "source": [
    "@constraint(model,sum(q[k,l] for k in demand_nodes,l in scale_nodes)==D)"
   ]
  },
  {
   "cell_type": "code",
   "execution_count": null,
   "metadata": {},
   "outputs": [],
   "source": [
    "@expression(model,Pc,sum(q[k,l]*p_cv_dict[l]+p_cf_dict[l]*o1[k,l] for k in demand_nodes,l in scale_nodes))"
   ]
  },
  {
   "cell_type": "code",
   "execution_count": null,
   "metadata": {},
   "outputs": [],
   "source": [
    "p_ov=27.39"
   ]
  },
  {
   "cell_type": "code",
   "execution_count": null,
   "metadata": {},
   "outputs": [],
   "source": [
    "p_of=1.75*10^6"
   ]
  },
  {
   "cell_type": "code",
   "execution_count": null,
   "metadata": {},
   "outputs": [],
   "source": [
    "@expression(model,Po,sum(p_ov*sum(q[k,l] for l in scale_nodes)+p_of*o2[k] for k in demand_nodes))"
   ]
  },
  {
   "cell_type": "code",
   "execution_count": null,
   "metadata": {},
   "outputs": [],
   "source": [
    "@expression(model,Cp,Po+Pc)"
   ]
  },
  {
   "cell_type": "code",
   "execution_count": null,
   "metadata": {},
   "outputs": [],
   "source": [
    "@objective(model,Min,Cb+Cc+Ct+Cs+Cp)"
   ]
  },
  {
   "cell_type": "code",
   "execution_count": null,
   "metadata": {},
   "outputs": [],
   "source": [
    "optimize!(model)"
   ]
  },
  {
   "cell_type": "code",
   "execution_count": null,
   "metadata": {},
   "outputs": [],
   "source": [
    "Cb1=JuMP.value(Cb)"
   ]
  },
  {
   "cell_type": "code",
   "execution_count": null,
   "metadata": {},
   "outputs": [],
   "source": [
    "Ct1=JuMP.value(C)"
   ]
  },
  {
   "cell_type": "code",
   "execution_count": null,
   "metadata": {},
   "outputs": [],
   "source": [
    "Cp=JuMP.value(Cp)"
   ]
  },
  {
   "cell_type": "code",
   "execution_count": null,
   "metadata": {},
   "outputs": [],
   "source": []
  },
  {
   "cell_type": "code",
   "execution_count": null,
   "metadata": {},
   "outputs": [],
   "source": []
  },
  {
   "cell_type": "code",
   "execution_count": null,
   "metadata": {},
   "outputs": [],
   "source": []
  }
 ],
 "metadata": {
  "kernelspec": {
   "display_name": "Julia 1.1.0",
   "language": "julia",
   "name": "julia-1.1"
  },
  "language_info": {
   "file_extension": ".jl",
   "mimetype": "application/julia",
   "name": "julia",
   "version": "1.1.0"
  }
 },
 "nbformat": 4,
 "nbformat_minor": 2
}
